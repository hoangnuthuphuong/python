{
  "nbformat": 4,
  "nbformat_minor": 0,
  "metadata": {
    "colab": {
      "name": "bai tap 2 ngay 5/10",
      "provenance": [],
      "collapsed_sections": [],
      "toc_visible": true,
      "include_colab_link": true
    },
    "kernelspec": {
      "display_name": "Python 3",
      "name": "python3"
    }
  },
  "cells": [
    {
      "cell_type": "markdown",
      "metadata": {
        "id": "view-in-github",
        "colab_type": "text"
      },
      "source": [
        "<a href=\"https://colab.research.google.com/github/hoangnuthuphuong/python/blob/Phuong/bai_tap_2_ngay_5_10.ipynb\" target=\"_parent\"><img src=\"https://colab.research.google.com/assets/colab-badge.svg\" alt=\"Open In Colab\"/></a>"
      ]
    },
    {
      "cell_type": "markdown",
      "metadata": {
        "id": "BWz0rAOqvrBz"
      },
      "source": [
        "bài 1\n"
      ]
    },
    {
      "cell_type": "code",
      "metadata": {
        "colab": {
          "base_uri": "https://localhost:8080/"
        },
        "id": "dwICWi2eB9ub",
        "outputId": "f11b3d81-979f-44b8-831f-a8b021a8076f"
      },
      "source": [
        "a = int(input(\"Nhập số: \"))\n",
        "if a>0:\n",
        "  print(a,\"là số dương\")\n",
        "else:\n",
        "  print(a,\"là số âm\")\n"
      ],
      "execution_count": 29,
      "outputs": [
        {
          "output_type": "stream",
          "name": "stdout",
          "text": [
            "Nhập số: 17\n",
            "17 là số dương\n"
          ]
        }
      ]
    },
    {
      "cell_type": "markdown",
      "metadata": {
        "id": "v7KOREMWvvYH"
      },
      "source": [
        "bài 2\n"
      ]
    },
    {
      "cell_type": "code",
      "metadata": {
        "colab": {
          "base_uri": "https://localhost:8080/"
        },
        "id": "4G213H3FCer2",
        "outputId": "ee4b9272-c94c-40a8-8559-b1e2e3351685"
      },
      "source": [
        "a = int(input(\"Nhập số thứ nhất: \"))\n",
        "b = int(input(\"Nhập số thứ hai: \"))\n",
        "c = int(input(\"Nhập số thứu ba: \"))\n",
        "if a>b:\n",
        "  if a>c:\n",
        "    print(a, \"là số lớn nhất\")\n",
        "  if c>a:\n",
        "    print(c, \"là số lớn nhất\")\n",
        "else:\n",
        "  if b>c:\n",
        "    print(b, \"là số lớn nhất\")\n",
        "  if c>b:\n",
        "    print(c, \"là số lớn nhất\")\n",
        "\n",
        "\n",
        "  \n",
        "    "
      ],
      "execution_count": 30,
      "outputs": [
        {
          "output_type": "stream",
          "name": "stdout",
          "text": [
            "Nhập số thứ nhất: 17\n",
            "Nhập số thứ hai: 9\n",
            "Nhập số thứu ba: 1445\n",
            "1445 là số lớn nhất\n"
          ]
        }
      ]
    },
    {
      "cell_type": "markdown",
      "metadata": {
        "id": "jlPuzWBYHzg8"
      },
      "source": [
        "bài 3 \n"
      ]
    },
    {
      "cell_type": "markdown",
      "metadata": {
        "id": "UO5MY6Cwvoz3"
      },
      "source": [
        ""
      ]
    },
    {
      "cell_type": "code",
      "metadata": {
        "colab": {
          "base_uri": "https://localhost:8080/"
        },
        "id": "ZNLBW6CoFVD4",
        "outputId": "c01ad15f-cefc-43e9-f463-1232de9efb11"
      },
      "source": [
        "a = float(input(\"Nhập số thực: \"))\n",
        "if a==0:\n",
        "  print(\"zero\")\n",
        "if a>0:\n",
        "  if abs(a)<1:\n",
        "    print(a,\"dương nhỏ\")\n",
        "  elif abs(a)>1000000:\n",
        "    print(a,\"dương lớn\") \n",
        "  else:\n",
        "    print(a,\"là số dương\")\n",
        "if a<0:\n",
        "  if abs(a)<1:\n",
        "    print(a,\"âm nhỏ\")\n",
        "  elif abs(a)>1000000:\n",
        "    print(a,\"âm lớn\") \n",
        "  else:\n",
        "      print(a,\"là số âm\")\n"
      ],
      "execution_count": 42,
      "outputs": [
        {
          "output_type": "stream",
          "name": "stdout",
          "text": [
            "Nhập số thực: -1133441311154\n",
            "-1133441311154.0 âm lớn\n"
          ]
        }
      ]
    },
    {
      "cell_type": "markdown",
      "metadata": {
        "id": "0gvZnHIEH2OF"
      },
      "source": [
        "bài 44"
      ]
    },
    {
      "cell_type": "code",
      "metadata": {
        "colab": {
          "base_uri": "https://localhost:8080/"
        },
        "id": "-VJlITrYGJXj",
        "outputId": "9de12b3d-82b6-41ac-a3af-c203a7b47eb9"
      },
      "source": [
        "a = int(input(\"Nhập một số từ 1-7: \"))\n",
        "if a==1:\n",
        "  print(\"Thứ hai\")\n",
        "if a==2:\n",
        "  print(\"Thứ ba\")\n",
        "if a==3:\n",
        "  print(\"Thứ tư\")\n",
        "if a==4:\n",
        "  print(\"Thứ năm\")\n",
        "if a==5:\n",
        "  print(\"Thứ sáu\")\n",
        "if a==6:\n",
        "  print(\"Thứ bảy\")\n",
        "if a==7:\n",
        "  print(\"Chủ nhật\")\n",
        "if a<1 or a>7:\n",
        "  print(\"không thỏa mãn mời nhập lại số khác!\")\n"
      ],
      "execution_count": 23,
      "outputs": [
        {
          "output_type": "stream",
          "name": "stdout",
          "text": [
            "Nhập một số từ 1-7: 17\n",
            "không thỏa mãn mời nhập lại số khác!\n"
          ]
        }
      ]
    },
    {
      "cell_type": "markdown",
      "metadata": {
        "id": "DWx4lJDGIDw4"
      },
      "source": [
        "bài 5 \n"
      ]
    },
    {
      "cell_type": "code",
      "metadata": {
        "colab": {
          "base_uri": "https://localhost:8080/"
        },
        "id": "1gv1xeWzHLJx",
        "outputId": "ca3f5988-fd17-4355-e5a1-c86de88045fb"
      },
      "source": [
        "a = float(input(\"Nhập số thực thứ nhất: \"))\n",
        "a=round(a,3)\n",
        "b = float(input(\"Nhập số thực thứ hai: \"))\n",
        "b=round(b,3)\n",
        "if a//1 == b//1:\n",
        "  if a%1 == b%1:\n",
        "    print(a,\"giống\",b)\n",
        "  else:\n",
        "    print(a,\"khác\",b)\n",
        "else:\n",
        "  print(a, \"khác\",b)\n",
        "\n"
      ],
      "execution_count": 12,
      "outputs": [
        {
          "output_type": "stream",
          "name": "stdout",
          "text": [
            "Nhập số thực thứ nhất: 13.32523\n",
            "Nhập số thực thứ hai: 13.13535\n",
            "13.325 khác 13.135\n"
          ]
        }
      ]
    }
  ]
}