{
  "nbformat": 4,
  "nbformat_minor": 0,
  "metadata": {
    "colab": {
      "name": "tự học nnltpy",
      "provenance": [],
      "collapsed_sections": [],
      "include_colab_link": true
    },
    "kernelspec": {
      "display_name": "Python 3",
      "name": "python3"
    }
  },
  "cells": [
    {
      "cell_type": "markdown",
      "metadata": {
        "id": "view-in-github",
        "colab_type": "text"
      },
      "source": [
        "<a href=\"https://colab.research.google.com/github/hoangnuthuphuong/python/blob/Phuong/t%E1%BB%B1_h%E1%BB%8Dc_nnltpy.ipynb\" target=\"_parent\"><img src=\"https://colab.research.google.com/assets/colab-badge.svg\" alt=\"Open In Colab\"/></a>"
      ]
    },
    {
      "cell_type": "code",
      "metadata": {
        "id": "mPHM9CtUF0Ct",
        "colab": {
          "base_uri": "https://localhost:8080/"
        },
        "outputId": "be6715c7-a694-4a34-f772-8759c7a402cc"
      },
      "source": [
        "radius=20\n",
        "area = radius*radius*3.14159\n",
        "print('the area for the circle of radius=' +str(radius) +'is' +str(area))"
      ],
      "execution_count": null,
      "outputs": [
        {
          "output_type": "stream",
          "name": "stdout",
          "text": [
            "the area for the circle of radius=20is1256.636\n"
          ]
        }
      ]
    },
    {
      "cell_type": "code",
      "metadata": {
        "colab": {
          "base_uri": "https://localhost:8080/"
        },
        "id": "NnylW2D1HCWM",
        "outputId": "21bc88d9-dc36-48bc-d0ab-a4edc883dd2e"
      },
      "source": [
        "radius=1.0\n",
        "area= radius*radius*3.14159\n",
        "print('the area is', area, 'for radius', radius)\n"
      ],
      "execution_count": null,
      "outputs": [
        {
          "output_type": "stream",
          "name": "stdout",
          "text": [
            "the area is 3.14159 for radius 1.0\n"
          ]
        }
      ]
    },
    {
      "cell_type": "code",
      "metadata": {
        "colab": {
          "base_uri": "https://localhost:8080/"
        },
        "id": "mVrX-O_JIS23",
        "outputId": "bec941e0-1141-4576-86a6-8ca958e09675"
      },
      "source": [
        "x=3\n",
        "radius=2\n",
        "print('x=',x)\n",
        "print('radius=',radius)\n",
        "a=input('nhap a:')"
      ],
      "execution_count": null,
      "outputs": [
        {
          "name": "stdout",
          "output_type": "stream",
          "text": [
            "x= 3\n",
            "radius= 2\n",
            "nhap a:9\n"
          ]
        }
      ]
    },
    {
      "cell_type": "code",
      "metadata": {
        "colab": {
          "base_uri": "https://localhost:8080/"
        },
        "id": "S7kqMTHQIoWO",
        "outputId": "1494d586-0343-4ac0-a6f5-4f77df938133"
      },
      "source": [
        "x,y,z = 7,8,9\n",
        "print('x=',x)\n",
        "print('y=',y)\n",
        "print('z=',z)\n"
      ],
      "execution_count": null,
      "outputs": [
        {
          "output_type": "stream",
          "name": "stdout",
          "text": [
            "x= 7\n",
            "y= 8\n",
            "z= 9\n"
          ]
        }
      ]
    },
    {
      "cell_type": "code",
      "metadata": {
        "colab": {
          "base_uri": "https://localhost:8080/"
        },
        "id": "gYGqkHV2JNIK",
        "outputId": "52fc5c8f-4460-471e-f55b-e02f1cffcc83"
      },
      "source": [
        "p=('thuphuong')\n",
        "n=17\n",
        "t=9\n",
        "print(p,'sinh ngay',n, 'thang',t,) \n",
        "#chuẩn bị tới sinh nhật Thu Phương hihi\n"
      ],
      "execution_count": null,
      "outputs": [
        {
          "output_type": "stream",
          "name": "stdout",
          "text": [
            "thuphuong sinh ngay 17 thang 9\n"
          ]
        }
      ]
    },
    {
      "cell_type": "code",
      "metadata": {
        "id": "pEDUOAxIJvVv"
      },
      "source": [
        ""
      ],
      "execution_count": null,
      "outputs": []
    }
  ]
}