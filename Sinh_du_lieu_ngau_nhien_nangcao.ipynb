{
  "cells": [
    {
      "cell_type": "markdown",
      "metadata": {
        "id": "view-in-github",
        "colab_type": "text"
      },
      "source": [
        "<a href=\"https://colab.research.google.com/github/hoangnuthuphuong/python/blob/Phuong/Sinh_du_lieu_ngau_nhien_nangcao.ipynb\" target=\"_parent\"><img src=\"https://colab.research.google.com/assets/colab-badge.svg\" alt=\"Open In Colab\"/></a>"
      ]
    },
    {
      "cell_type": "markdown",
      "metadata": {
        "id": "CTOhJ9b3uREH"
      },
      "source": [
        "\n",
        "**Sử dụng thư viện Numpy**\n",
        "1. Sinh mẫu ngẫu nhiên bằng hàm arange trong khoảng [-15, 27] với khoảng cách là 0.7 và in kết quả ra màn hình"
      ]
    },
    {
      "cell_type": "code",
      "source": [
        "import numpy as np"
      ],
      "metadata": {
        "id": "5BmzowY3uuem"
      },
      "execution_count": 2,
      "outputs": []
    },
    {
      "cell_type": "code",
      "execution_count": 3,
      "metadata": {
        "id": "mhDGB_QfuREQ",
        "outputId": "ab8b1f62-6ae9-4f74-ab3b-2fea2737ef34",
        "colab": {
          "base_uri": "https://localhost:8080/"
        }
      },
      "outputs": [
        {
          "output_type": "stream",
          "name": "stdout",
          "text": [
            "[-15.  -14.3 -13.6 -12.9 -12.2 -11.5 -10.8 -10.1  -9.4  -8.7  -8.   -7.3\n",
            "  -6.6  -5.9  -5.2  -4.5  -3.8  -3.1  -2.4  -1.7  -1.   -0.3   0.4   1.1\n",
            "   1.8   2.5   3.2   3.9   4.6   5.3   6.    6.7   7.4   8.1   8.8   9.5\n",
            "  10.2  10.9  11.6  12.3  13.   13.7  14.4  15.1  15.8  16.5  17.2  17.9\n",
            "  18.6  19.3  20.   20.7  21.4  22.1  22.8  23.5  24.2  24.9  25.6  26.3\n",
            "  27. ]\n"
          ]
        }
      ],
      "source": [
        "sample_1 = np.arange(-15, 27, 0.7)\n",
        "print(sample_1)"
      ]
    },
    {
      "cell_type": "markdown",
      "metadata": {
        "id": "QCWTG-LWuREV"
      },
      "source": [
        "2. Sinh mẫu ngẫu nhiên theo phân phối chuẩn với mean = 2.7 std = 1.2 và size = 40\n",
        "In kết quả ra màn hình"
      ]
    },
    {
      "cell_type": "code",
      "execution_count": 4,
      "metadata": {
        "id": "upxLXPZzuREX",
        "colab": {
          "base_uri": "https://localhost:8080/"
        },
        "outputId": "2f78d666-b059-428b-d7ec-63dd92d96c62"
      },
      "outputs": [
        {
          "output_type": "stream",
          "name": "stdout",
          "text": [
            "[-15.  -14.3 -13.6 -12.9 -12.2 -11.5 -10.8 -10.1  -9.4  -8.7]\n"
          ]
        }
      ],
      "source": [
        "sample_2 = np.random.normal(loc = 2.7, scale = 1.2, size = 40)\n",
        "#Xuất dữ liệu của sample_1\n",
        "print(sample_1[:10])"
      ]
    },
    {
      "cell_type": "markdown",
      "metadata": {
        "id": "O-c7_cTduREY"
      },
      "source": [
        "3. Sinh mẫu ngẫu nhiên từ vector ['Viet Nam', 'Britain', 'France', 'Russia', 'Singapore'] \n",
        "\n",
        "với kích thước là 17 theo phân phối chuẩn"
      ]
    },
    {
      "cell_type": "code",
      "execution_count": 5,
      "metadata": {
        "id": "qVoTwyK4uREZ",
        "colab": {
          "base_uri": "https://localhost:8080/"
        },
        "outputId": "a8f7ab19-cf2c-442c-e7e5-911e339f8f13"
      },
      "outputs": [
        {
          "output_type": "stream",
          "name": "stdout",
          "text": [
            "['Viet Nam' 'Viet Nam' 'Singapore' 'Singapore' 'Britain' 'Singapore'\n",
            " 'Britain' 'France' 'Britain' 'Singapore' 'Britain' 'France' 'France'\n",
            " 'Russia' 'Singapore' 'Britain' 'Britain']\n"
          ]
        }
      ],
      "source": [
        "sample_3 = np.random.choice(['Viet Nam', 'Britain', 'France', 'Russia', 'Singapore'], 17)\n",
        "print(sample_3)"
      ]
    },
    {
      "cell_type": "markdown",
      "metadata": {
        "id": "TUBoEnMjuREa"
      },
      "source": [
        "4. Sinh mẫu ngẫu nhiên ở câu 3 nhưng không theo phân phối chuẩn mà theo 1 vector đặc tả giá trị xác suất do bạn chọn"
      ]
    },
    {
      "cell_type": "code",
      "execution_count": 9,
      "metadata": {
        "id": "k9n1Y8VauREb",
        "colab": {
          "base_uri": "https://localhost:8080/"
        },
        "outputId": "4d7985b3-4b11-4ea3-c694-ec5f10f385c5"
      },
      "outputs": [
        {
          "output_type": "stream",
          "name": "stdout",
          "text": [
            "['Russia' 'Russia' 'Britain' 'Russia' 'Russia' 'Britain' 'Britain'\n",
            " 'Russia' 'Britain' 'Russia' 'Russia' 'Britain' 'Singapore' 'Russia'\n",
            " 'Russia' 'Britain' 'Britain']\n"
          ]
        }
      ],
      "source": [
        "sample_4 = np.random.choice(['Viet Nam', 'Britain', 'France', 'Russia', 'Singapore'], 17,p=[0.1, 0.25, 0.05, 0.55, 0.05])\n",
        "print(sample_4)"
      ]
    },
    {
      "cell_type": "markdown",
      "metadata": {
        "id": "TqRT_5gxuREc"
      },
      "source": [
        "**Sử dụng thư việc scipy.stats** để sinh mẫu ngẫu nhiên\n",
        "\n",
        "1. Sinh mẫu ngẫu nhiên theo phân phối chuẩn với mean = 12.7, std = 2.6 và size = 30. In kết quả ra màn hình"
      ]
    },
    {
      "cell_type": "code",
      "execution_count": 10,
      "metadata": {
        "id": "7j3QncFyuREe",
        "colab": {
          "base_uri": "https://localhost:8080/"
        },
        "outputId": "48cbd330-95e9-46f8-a116-4a08214b5d8d"
      },
      "outputs": [
        {
          "output_type": "stream",
          "name": "stdout",
          "text": [
            "[11.9141066  14.09150542 14.99468497  8.5989451  16.13242085 11.01301786\n",
            " 16.18428878  7.11788073 12.83714043 13.06431964]\n"
          ]
        }
      ],
      "source": [
        "from scipy import stats\n",
        "\n",
        "sample_5 = stats.norm.rvs(loc = 12.7, scale = 2.6, size = 30)\n",
        "print(sample_5[:10])"
      ]
    },
    {
      "cell_type": "markdown",
      "metadata": {
        "id": "uq6FkDHZuREf"
      },
      "source": [
        "2. Hãy sinh một mẫu ngẫu nhiên theo phân phối Poisson"
      ]
    },
    {
      "cell_type": "code",
      "execution_count": 17,
      "metadata": {
        "id": "65-j17I1uREg",
        "colab": {
          "base_uri": "https://localhost:8080/"
        },
        "outputId": "09b7d259-2fb8-4f8b-ea9a-5d77471339e9"
      },
      "outputs": [
        {
          "output_type": "stream",
          "name": "stdout",
          "text": [
            "[16 13 13 17 14 14 16 14 12 18]\n"
          ]
        }
      ],
      "source": [
        "sample_6 = stats.poisson.rvs(loc=12.7,mu=2.6,size=30)\n",
        "print(sample_6[:10])"
      ]
    },
    {
      "cell_type": "code",
      "execution_count": null,
      "metadata": {
        "id": "DjgwM1JnuREh"
      },
      "outputs": [],
      "source": [
        ""
      ]
    }
  ],
  "metadata": {
    "kernelspec": {
      "display_name": "Python 3",
      "language": "python",
      "name": "python3"
    },
    "language_info": {
      "codemirror_mode": {
        "name": "ipython",
        "version": 3
      },
      "file_extension": ".py",
      "mimetype": "text/x-python",
      "name": "python",
      "nbconvert_exporter": "python",
      "pygments_lexer": "ipython3",
      "version": "3.7.3"
    },
    "colab": {
      "name": "Sinh_du_lieu_ngau_nhien_nangcao",
      "provenance": [],
      "include_colab_link": true
    }
  },
  "nbformat": 4,
  "nbformat_minor": 0
}