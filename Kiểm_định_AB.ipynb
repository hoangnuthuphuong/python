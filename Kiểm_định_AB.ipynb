{
  "nbformat": 4,
  "nbformat_minor": 0,
  "metadata": {
    "colab": {
      "name": "Kiểm định AB",
      "provenance": [],
      "collapsed_sections": [],
      "include_colab_link": true
    },
    "kernelspec": {
      "name": "python3",
      "display_name": "Python 3"
    },
    "language_info": {
      "name": "python"
    }
  },
  "cells": [
    {
      "cell_type": "markdown",
      "metadata": {
        "id": "view-in-github",
        "colab_type": "text"
      },
      "source": [
        "<a href=\"https://colab.research.google.com/github/hoangnuthuphuong/python/blob/Phuong/Ki%E1%BB%83m_%C4%91%E1%BB%8Bnh_AB.ipynb\" target=\"_parent\"><img src=\"https://colab.research.google.com/assets/colab-badge.svg\" alt=\"Open In Colab\"/></a>"
      ]
    },
    {
      "cell_type": "markdown",
      "source": [
        "**BÀI TẬP TỰ HỌC VỀ KIỂM ĐỊNH A/B**\n",
        "\n",
        "Sinh viên sử dụng tài liệu tham khảo \"Practical Statistics...\", Chương 3 để hoàn thành các yêu cầu sau."
      ],
      "metadata": {
        "id": "fw49i_jmb7ZK"
      }
    },
    {
      "cell_type": "markdown",
      "source": [
        "# **Câu 1**: Trả lời các câu hỏi lý thuyết sau:\n",
        "\n",
        "\n",
        "1.   Kiểm định A/B là gì?\n",
        "2.   Thuật ngữ treatment trong ngữ cảnh của thống kê có thể dịch sang tiếng Việt không? nếu có thì là gì?\n",
        "3.   Nêu định nghĩa về treatment\n",
        "4.   Control group là gì? vai trò trong thí nghiệm của kiểm định A/B?\n",
        "5.   Treament group là gì? vai trò trong thí nghiệm của kiểm định A/B?\n",
        "6.   Hãy liệt kê một số kiểm định A/B trong thực tế?\n",
        "\n"
      ],
      "metadata": {
        "id": "EBsgDMSRcVy9"
      }
    },
    {
      "cell_type": "markdown",
      "source": [
        "\n",
        "\n",
        "**1.   Kiểm định A/B là gì?**\n",
        "\n",
        "\n",
        "> Xét nghiệm A /B là một thí nghiệm với hai nhóm để xác định phương pháp nào trong hai phương pháp điều trị, sản phẩm, thủ tục, hoặc những thứ tương tự là vượt trội. Thông thường một trong hai phương pháp điều trị là điều trị tiêu chuẩn hiện có, hoặc không điều trị. Nếu một điều trị tiêu chuẩn (hoặc không) được sử dụng. Nó được gọi là kiểm soát. Một giả thuyết điển hình là một phương pháp điều trị mới tốt hơn so với điều khiển.\n",
        "\n",
        "\n",
        "> Các bài kiểm tra A / B là phổ biến trong thiết kế web và tiếp thị, vì kết quả rất dễ dàng được đo lường. Một số ví dụ về thử nghiệm A/B bao gồm:\n",
        "* Thử nghiệm hai phương pháp xử lý đất để xác định loại nào tạo ra sự nảy mầm hạt giống tốt hơn\n",
        "* Thử nghiệm hai liệu pháp để xác định liệu pháp nào ức chế ung thư hiệu quả hơn\n",
        "* Thử nghiệm hai mức giá để xác định giá nào mang lại lợi nhuận ròng nhiều hơn\n",
        "* Thử nghiệm hai tiêu đề web để xác định tiêu đề nào tạo ra nhiều nhấp chuột hơn (Hình 3-2)\n",
        "* Thử nghiệm hai quảng cáo web để xác định quảng cáo nào tạo ra nhiều chuyển đổi hơn\n",
        "\n",
        "\n",
        "\n",
        "\n",
        "\n",
        "\n"
      ],
      "metadata": {
        "id": "NJmyUuh0dwh-"
      }
    },
    {
      "cell_type": "markdown",
      "source": [
        "**2.   Thuật ngữ treatment trong ngữ cảnh của thống kê có thể dịch sang tiếng Việt không? nếu có thì là gì?**\n",
        "\n",
        "\n",
        "\n",
        "> Văn bản được thụt lề\n",
        "\n",
        "\n",
        "\n",
        "\n"
      ],
      "metadata": {
        "id": "-xe7DHpMw0On"
      }
    },
    {
      "cell_type": "markdown",
      "source": [
        "**3. Nêu định nghĩa về treatment**\n",
        "> Something (drug, price, web headline) to which a subject is exposed.\n",
        "\n",
        "> Thứ gì đó (thuốc, giá cả, tiêu đề web) mà đối tượng tiếp xúc.\n"
      ],
      "metadata": {
        "id": "Xr4eq7Cwyx90"
      }
    },
    {
      "cell_type": "markdown",
      "source": [
        "**4. Control group là gì? vai trò trong thí nghiệm của kiểm định A/B?**\n",
        "\n",
        "> A group of subjects exposed to no (or standard) treatment.\n",
        "\n",
        "> Một nhóm các đối tượng tiếp xúc với không có (hoặc tiêu chuẩn) điều trị."
      ],
      "metadata": {
        "id": "a_dTusHhyM_h"
      }
    },
    {
      "cell_type": "markdown",
      "source": [
        "**5. Treatment group**\n",
        "> A group of subjects exposed to a specific treatment.\n",
        "\n",
        "> Một nhóm đối tượng tiếp xúc với một treatment cụ thể."
      ],
      "metadata": {
        "id": "q4s2QrFPzPPD"
      }
    },
    {
      "cell_type": "markdown",
      "source": [
        "**6. Hãy liệt kê một số kiểm định A/B trong thực tế?**\n",
        "> thử nghiệm định giá hoặc thử nghiệm về dòng tiêu đề nào cần hiển thị hoặc ưu đãi nào nên được thực hiện"
      ],
      "metadata": {
        "id": "9SShKzmTz5CV"
      }
    },
    {
      "cell_type": "markdown",
      "source": [
        "# **Câu 2**: Tại sao không có kiểm định A/B/C/D?\n",
        "\n",
        "\n"
      ],
      "metadata": {
        "id": "Ghp_lniLedz8"
      }
    },
    {
      "cell_type": "markdown",
      "source": [
        "# **Câu 3**: Lý thuyết về kiểm định giả thuyết. Trả lời các câu hỏi sau:\n",
        "\n",
        "\n",
        "1.   Nêu định nghĩa về kiểm định giả thuyết\n",
        "2.   Giả thuyết null là gì? cho ví dụ\n",
        "3.   Giả thuyết thay thế là gì? cho ví dụ\n",
        "4.   Kiểm định 1 chiều (hay 1 đuôi) là gì? cho ví dụ\n",
        "5.   Kiểm định 2 chiều (hay 2 đuôi) là gì?cho ví dụ\n",
        "6.   Nêu điểm khác biệt giữa kiểm định 1 chiều so với kiểm định 2 chiều?\n",
        "\n"
      ],
      "metadata": {
        "id": "4bRj6dX8fQKu"
      }
    },
    {
      "cell_type": "markdown",
      "source": [
        "**1. Hypothesis test (Kiểm định gỉa thuyết)**\n",
        "\n",
        "> Kiểm định giả thuyết, còn được gọi là kiểm định ý nghĩa, phổ biến ở khắp nơi trong phân tích thống kê truyền thống của nghiên cứu đã xuất bản. Mục đích của chúng là giúp bạn tìm hiểu xem liệu cơ hội ngẫu nhiên có thể chịu trách nhiệm cho một hiệu ứng quan sát được hay không."
      ],
      "metadata": {
        "id": "GnlhOJAn0FuI"
      }
    },
    {
      "cell_type": "markdown",
      "source": [
        "**2. Null hypothesis**\n",
        "\n",
        "> The hypothesis that chance is to blame.\n",
        "\n",
        "**Ví dụ:**"
      ],
      "metadata": {
        "id": "DnDVI5wZRknz"
      }
    },
    {
      "cell_type": "markdown",
      "source": [
        "**3. Alternative hypothesis (Giả thuyết thay thế)**\n",
        "\n",
        "> Counterpoint to the null (what you hope to prove).\n",
        "\n",
        "> Phản đối giá trị rỗng (những gì bạn hy vọng sẽ chứng minh).\n",
        "\n",
        "**Ví dụ:**"
      ],
      "metadata": {
        "id": "g4PU_qmJRkSc"
      }
    },
    {
      "cell_type": "markdown",
      "source": [
        "**4. One-way test [Kiểm định 1 chiều (hay 1 đuôi)]**\n",
        "\n",
        "> Hypothesis test that counts chance results only in one direction.\n",
        "\n",
        "> Kiểm tra giả thuyết chỉ tính kết quả may rủi theo một hướng.\n",
        "\n",
        "**Ví dụ:**"
      ],
      "metadata": {
        "id": "pX58ZGWZRkIQ"
      }
    },
    {
      "cell_type": "markdown",
      "source": [
        "**5. Two-way test [Kiểm định 2 chiều (hay 2 đuôi)]**\n",
        "\n",
        "> Hypothesis test that counts chance results in two directions.\n",
        "\n",
        "> Kiểm tra giả thuyết tính kết quả may rủi theo hai hướng.\n",
        "\n",
        "**Ví dụ:**"
      ],
      "metadata": {
        "id": "pwy34mcnRj9d"
      }
    },
    {
      "cell_type": "markdown",
      "source": [
        "# **Câu 4**: Lý thuyết về lấy mẫu (sampling). \n",
        "\n",
        "\n",
        "1.   Sampling là gì? cho ví dụ\n",
        "2.   Resampling là gì? cho ví dụ?\n",
        "3.   Hãy mô tả kỹ thuật permutation (hoặc quy trình của permutation test)? Xây dựng đoạn code lập trình permutation test\n",
        "\n",
        "\n"
      ],
      "metadata": {
        "id": "jpcORdODhElp"
      }
    },
    {
      "cell_type": "markdown",
      "source": [
        "Trả lời tại đây"
      ],
      "metadata": {
        "id": "HyDM-nFEiLW9"
      }
    }
  ]
}