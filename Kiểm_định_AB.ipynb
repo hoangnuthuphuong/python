{
  "nbformat": 4,
  "nbformat_minor": 0,
  "metadata": {
    "colab": {
      "name": "Kiểm định AB",
      "provenance": [],
      "collapsed_sections": [],
      "include_colab_link": true
    },
    "kernelspec": {
      "name": "python3",
      "display_name": "Python 3"
    },
    "language_info": {
      "name": "python"
    }
  },
  "cells": [
    {
      "cell_type": "markdown",
      "metadata": {
        "id": "view-in-github",
        "colab_type": "text"
      },
      "source": [
        "<a href=\"https://colab.research.google.com/github/hoangnuthuphuong/python/blob/Phuong/Ki%E1%BB%83m_%C4%91%E1%BB%8Bnh_AB.ipynb\" target=\"_parent\"><img src=\"https://colab.research.google.com/assets/colab-badge.svg\" alt=\"Open In Colab\"/></a>"
      ]
    },
    {
      "cell_type": "markdown",
      "source": [
        "**BÀI TẬP TỰ HỌC VỀ KIỂM ĐỊNH A/B**\n",
        "\n",
        "Sinh viên sử dụng tài liệu tham khảo \"Practical Statistics...\", Chương 3 để hoàn thành các yêu cầu sau."
      ],
      "metadata": {
        "id": "fw49i_jmb7ZK"
      }
    },
    {
      "cell_type": "markdown",
      "source": [
        "# **Câu 1**: Trả lời các câu hỏi lý thuyết sau:\n",
        "\n",
        "\n",
        "1.   Kiểm định A/B là gì?\n",
        "2.   Thuật ngữ treatment trong ngữ cảnh của thống kê có thể dịch sang tiếng Việt không? nếu có thì là gì?\n",
        "3.   Nêu định nghĩa về treatment\n",
        "4.   Control group là gì? vai trò trong thí nghiệm của kiểm định A/B?\n",
        "5.   Treament group là gì? vai trò trong thí nghiệm của kiểm định A/B?\n",
        "6.   Hãy liệt kê một số kiểm định A/B trong thực tế?\n",
        "\n"
      ],
      "metadata": {
        "id": "EBsgDMSRcVy9"
      }
    },
    {
      "cell_type": "markdown",
      "source": [
        "\n",
        "\n",
        "**1.   Kiểm định A/B là gì?**\n",
        "\n",
        "\n",
        "> Xét nghiệm A /B là một thí nghiệm với hai nhóm để xác định phương pháp nào trong hai phương pháp điều trị, sản phẩm, thủ tục, hoặc những thứ tương tự là vượt trội. Thông thường một trong hai phương pháp điều trị là điều trị tiêu chuẩn hiện có, hoặc không điều trị. Nếu một điều trị tiêu chuẩn (hoặc không) được sử dụng. Nó được gọi là kiểm soát. Một giả thuyết điển hình là một phương pháp điều trị mới tốt hơn so với điều khiển.\n",
        "\n",
        "\n",
        "\n",
        "\n",
        "\n",
        "\n"
      ],
      "metadata": {
        "id": "NJmyUuh0dwh-"
      }
    },
    {
      "cell_type": "markdown",
      "source": [
        "**2.   Thuật ngữ treatment trong ngữ cảnh của thống kê có thể dịch sang tiếng Việt không? nếu có thì là gì?**\n",
        "\n",
        "\n",
        "\n",
        "> không dịch được\n",
        "\n",
        "\n",
        "\n",
        "\n"
      ],
      "metadata": {
        "id": "-xe7DHpMw0On"
      }
    },
    {
      "cell_type": "markdown",
      "source": [
        "**3. Nêu định nghĩa về treatment**\n",
        "> Something (drug, price, web headline) to which a subject is exposed.\n",
        "\n",
        "> Thứ gì đó (thuốc, giá cả, tiêu đề web) mà đối tượng tiếp xúc.\n"
      ],
      "metadata": {
        "id": "Xr4eq7Cwyx90"
      }
    },
    {
      "cell_type": "markdown",
      "source": [
        "**4. Control group là gì? vai trò trong thí nghiệm của kiểm định A/B?**\n",
        "\n",
        "> A group of subjects exposed to no (or standard) treatment.\n",
        "\n",
        "> Một nhóm các đối tượng tiếp xúc với không có (hoặc tiêu chuẩn) điều trị.\n",
        "> Là nhóm không nhận những thay đổi gì mới khi tham gia kiểm định."
      ],
      "metadata": {
        "id": "a_dTusHhyM_h"
      }
    },
    {
      "cell_type": "markdown",
      "source": [
        "**5. Treatment group**\n",
        "> A group of subjects exposed to a specific treatment.\n",
        "\n",
        "> Một nhóm đối tượng tiếp xúc với một treatment cụ thể."
      ],
      "metadata": {
        "id": "q4s2QrFPzPPD"
      }
    },
    {
      "cell_type": "markdown",
      "source": [
        "**6. Hãy liệt kê một số kiểm định A/B trong thực tế?**\n",
        "\n",
        "> Các bài kiểm tra A / B là phổ biến trong thiết kế web và tiếp thị, vì kết quả rất dễ dàng được đo lường. Một số ví dụ về thử nghiệm A/B trong thực tế:\n",
        "* Thử nghiệm hai phương pháp xử lý đất để xác định loại nào tạo ra sự nảy mầm hạt giống tốt hơn\n",
        "* Thử nghiệm hai liệu pháp để xác định liệu pháp nào ức chế ung thư hiệu quả hơn\n",
        "* Thử nghiệm hai mức giá để xác định giá nào mang lại lợi nhuận ròng nhiều hơn\n",
        "* Thử nghiệm hai tiêu đề web để xác định tiêu đề nào tạo ra nhiều nhấp chuột hơn\n",
        "* Thử nghiệm hai quảng cáo web để xác định quảng cáo nào tạo ra nhiều chuyển đổi hơn"
      ],
      "metadata": {
        "id": "9SShKzmTz5CV"
      }
    },
    {
      "cell_type": "markdown",
      "source": [
        "# **Câu 2**: Tại sao không có kiểm định A/B/C/D?\n",
        "\n",
        "> Tại vì sẽ rất phức tạp, tốn nhiều để thời gian tính toán khi thực hiện kiểm định A/B/C/D. Kiểm định A/B vẫn đáp ứng đủ nhu cầu và cũng rất tối ưu.\n"
      ],
      "metadata": {
        "id": "Ghp_lniLedz8"
      }
    },
    {
      "cell_type": "markdown",
      "source": [
        "# **Câu 3**: Lý thuyết về kiểm định giả thuyết. Trả lời các câu hỏi sau:\n",
        "\n",
        "\n",
        "1.   Nêu định nghĩa về kiểm định giả thuyết\n",
        "2.   Giả thuyết null là gì? cho ví dụ\n",
        "3.   Giả thuyết thay thế là gì? cho ví dụ\n",
        "4.   Kiểm định 1 chiều (hay 1 đuôi) là gì? cho ví dụ\n",
        "5.   Kiểm định 2 chiều (hay 2 đuôi) là gì?cho ví dụ\n",
        "6.   Nêu điểm khác biệt giữa kiểm định 1 chiều so với kiểm định 2 chiều?\n",
        "\n"
      ],
      "metadata": {
        "id": "4bRj6dX8fQKu"
      }
    },
    {
      "cell_type": "markdown",
      "source": [
        "**1. Hypothesis test (Kiểm định gỉa thuyết)**\n",
        "\n",
        "> Kiểm định giả thuyết, còn được gọi là kiểm định ý nghĩa, phổ biến ở khắp nơi trong phân tích thống kê truyền thống của nghiên cứu đã xuất bản. Mục đích của chúng là giúp bạn tìm hiểu xem liệu cơ hội ngẫu nhiên có thể chịu trách nhiệm cho một hiệu ứng quan sát được hay không.\n",
        "\n",
        "> Là quá trình thiết lập và sử dụng các tiêu chuẩn thống kê để hỗ trợ cho việc đi đến quyết định về giá trị của giả thuyết trong điều kiện bất định. "
      ],
      "metadata": {
        "id": "GnlhOJAn0FuI"
      }
    },
    {
      "cell_type": "markdown",
      "source": [
        "# ◾**Ví dụ**\n",
        " **Hiệu trưởng của trường THPT A báo cáo rằng học sinh lớp 12 trong trường đạt điểm trung bình 7/10 trong kì thi tốt nghiệp. Để kiểm định giả thuyết này, chúng ta chọn một mẫu là điểm của 30 học sinh trong toàn bộ 300 học sinh lớp 12 của trường và tính giá trị trung bình của mẫu đó. Sau đó, chúng ta có thể so sánh trung bình mẫu (đã tính toán) với giá trị trung bình tổng thể (được hiệu trưởng báo cáo) và xác nhận giả thuyết.**\n",
        "\n",
        "---\n",
        "\n"
      ],
      "metadata": {
        "id": "OYD5K2ZfNDcG"
      }
    },
    {
      "cell_type": "markdown",
      "source": [
        "**2. Null hypothesis**\n",
        "\n",
        "> **Giả thuyết null** là một loại giả thuyết được sử dụng trong thống kê giả định rằng không có ý nghĩa thống kê nào tồn tại trong một tập hợp các quan sát nhất định.\n",
        "\n",
        "- Giả thuyết không được cho là đúng cho đến khi có bằng chứng thống kê bác bỏ nó với một giả thuyết thay thế khác. \n",
        "\n",
        "- Giả thuyết không chỉ ra rằng không có biến thể nào tồn tại giữa các biến hay một biến đơn lẻ không có khác biệt gì so với giá trị trung bình của nó.\n",
        "\n",
        "- Đối nghịch với giả thuyết không là giả thuyết thay thế.\n",
        "\n",
        "- Kiểm định giả thuyết cho phép một mô hình toán học chấp nhận hoặc bác bỏ giả thuyết không với một độ tin cậy nhất định.\n",
        "\n",
        "> **Kí hiệu :** $H{o}$ \n",
        "\n",
        "> **Giả thuyết không đối với Ví dụ trên:**\n",
        "- Học sinh lớp 12 của trường A đạt điểm trung bình 7/10 trong kì thi tốt nghiệp.\n"
      ],
      "metadata": {
        "id": "DnDVI5wZRknz"
      }
    },
    {
      "cell_type": "markdown",
      "source": [
        "**3. Alternative hypothesis (Giả thuyết thay thế)**\n",
        "\n",
        "> Counterpoint to the null (what you hope to prove).\n",
        "\n",
        "> Phản đối giá trị rỗng (những gì bạn hy vọng sẽ chứng minh).\n",
        "\n",
        "> **Kiểm định giả thuyết** là quá trình thiết lập và sử dụng các tiêu chuẩn thống kê để hỗ trợ cho việc đi đến quyết định về giá trị của giả thuyết trong điều kiện bất định.\n",
        "\n",
        "> **Kí hiệu :** $H{a}$ \n",
        "\n",
        "> **Giả thuyết thay thế đối với Ví dụ trên:**\n",
        "- Học sinh lớp 12 của trường A có điểm trung bình khác 7.\n",
        "\n"
      ],
      "metadata": {
        "id": "g4PU_qmJRkSc"
      }
    },
    {
      "cell_type": "markdown",
      "source": [
        "**4. One-way test [Kiểm định 1 chiều (hay 1 đuôi)]**\n",
        "\n",
        "> Hypothesis test that counts chance results only in one direction.\n",
        "\n",
        "> Kiểm định giả thuyết thống kê có vùng bác bỏ chỉ là một bên của phân phối mẫu\n",
        "\n",
        "**Ví dụ:** \n",
        "- Học sinh lớp 12 của trường A có điểm trung bình lớn hơn 7"
      ],
      "metadata": {
        "id": "pX58ZGWZRkIQ"
      }
    },
    {
      "cell_type": "markdown",
      "source": [
        "**5. Two-way test [Kiểm định 2 chiều (hay 2 đuôi)]**\n",
        "\n",
        "> Hypothesis test that counts chance results in two directions.\n",
        "\n",
        "> Kiểm định giả thuyết thống kê có vùng bác bỏ ở cả hai bên của phân phối mẫu\n",
        "\n",
        "**Ví dụ:** \n",
        "- Học sinh lớp 12 của trường A có điểm trung bình khác 7"
      ],
      "metadata": {
        "id": "pwy34mcnRj9d"
      }
    },
    {
      "cell_type": "markdown",
      "source": [
        "# **Câu 4**: Lý thuyết về lấy mẫu (sampling). \n",
        "\n",
        "\n",
        "1.   Sampling là gì? cho ví dụ\n",
        "2.   Resampling là gì? cho ví dụ?\n",
        "3.   Hãy mô tả kỹ thuật permutation (hoặc quy trình của permutation test)? Xây dựng đoạn code lập trình permutation test\n",
        "\n",
        "\n"
      ],
      "metadata": {
        "id": "jpcORdODhElp"
      }
    },
    {
      "cell_type": "markdown",
      "source": [
        "**1. Sampling**\n",
        "\n",
        "> Là việc lấy một số phần tử của một tổng thể (population) để nghiên cứu và từ đó, có thể rút ra các kết luận về chính tổng thể đó.\n",
        "\n",
        "**Ví dụ**\n",
        "- Nhà trường A đưa ra tiêu chí sinh viên có điểm trung bình từ 7 trở lên sẽ được khen thưởng, dựa trên tiêu chí đó các sinh viên sẽ được chọn bình đẳng như nhau."
      ],
      "metadata": {
        "id": "HyDM-nFEiLW9"
      }
    },
    {
      "cell_type": "markdown",
      "source": [
        "**2. Resampling**\n",
        "\n",
        "> Với sampling, chúng ta có thể khái quát các tính chất của quần thể dựa trên việc khảo sát mẫu. Mặc dù vậy, nếu chỉ sử dụng một ước tính duy nhất, chúng ta không có thông tin để đánh giá độ chắc chắn của ước tính đó. Để giải quyết vấn đề này, **chúng ta thực hiện khảo sát nhiều lần trên mẫu thu được**. Phương pháp này gọi là **resampling**.\n",
        "\n",
        "> Resampling giúp nâng cao hiệu quả sử dụng dữ liệu, thể hiện ở độ chính xác và độ chắc chắn của các ước tính.\n",
        "\n",
        "**Ví dụ**\n",
        "- Như tiêu chí khen thưởng ở Sampling là điểm trung bình từ 7 trở lên nhưng Resampling khảo sát thêm nhiều điều kiện khác như hạnh kiểm tốt trở lên, số buổi vắng học không phép không lớn hơn 2 buổi thì mới được khen thưởng."
      ],
      "metadata": {
        "id": "sp0vFRJlSI2Y"
      }
    },
    {
      "cell_type": "markdown",
      "source": [
        "**3. Kỹ thuật Permutation**\n",
        "- Kết hợp các kết quả từ các nhóm khác nhau thành một tập dữ liệu duy nhất.\n",
        "- Xáo trộn dữ liệu kết hợp và sau đó rút ngẫu nhiên (không thay thế) một mẫu lại có cùng kích thước với nhóm A\n",
        "- Từ dữ liệu còn lại, rút ​​ngẫu nhiên (không thay thế) một mẫu về cùng kích thước với nhóm B.\n",
        "- Làm tương tự cho các nhóm C, D, v.v. Bây giờ bạn đã thu thập một tập hợp ví dụ phản ánh kích thước của các mẫu ban đầu.\n",
        "- Bất kỳ thống kê hoặc ước tính nào được tính toán cho các mẫu ban đầu (ví dụ: khác nhau về tỷ lệ nhóm), hãy tính toán nó ngay cho các ví dụ và ghi lại; điều này tạo thành một lần lặp hoán vị.\n",
        "- Lặp lại các bước trước đó R lần để thu được phân phối hoán vị của phép thử thống kê."
      ],
      "metadata": {
        "id": "PDubjRSMVDaj"
      }
    },
    {
      "cell_type": "code",
      "source": [
        "import pandas as pd\n",
        "import numpy as np\n",
        "import matplotlib.pyplot as plt \n",
        "import random as random"
      ],
      "metadata": {
        "id": "7FxVAvgZVVAo"
      },
      "execution_count": 1,
      "outputs": []
    },
    {
      "cell_type": "code",
      "source": [
        "session_times = pd.read_csv(\"https://raw.githubusercontent.com/gedeck/practical-statistics-for-data-scientists/master/data/web_page_data.csv\")"
      ],
      "metadata": {
        "id": "VfJkIc5DV4iY"
      },
      "execution_count": 2,
      "outputs": []
    },
    {
      "cell_type": "code",
      "source": [
        "ax = session_times.boxplot(by='Page', column='Time')\n",
        "ax.set_xlabel('')\n",
        "ax.set_ylabel('Time (in seconds)')\n",
        "plt.suptitle('')"
      ],
      "metadata": {
        "colab": {
          "base_uri": "https://localhost:8080/",
          "height": 355
        },
        "id": "-PWARiECWCHj",
        "outputId": "68368f5c-d4e3-4717-b1a4-75a3742b6f39"
      },
      "execution_count": 3,
      "outputs": [
        {
          "output_type": "stream",
          "name": "stderr",
          "text": [
            "/usr/local/lib/python3.7/dist-packages/matplotlib/cbook/__init__.py:1376: VisibleDeprecationWarning: Creating an ndarray from ragged nested sequences (which is a list-or-tuple of lists-or-tuples-or ndarrays with different lengths or shapes) is deprecated. If you meant to do this, you must specify 'dtype=object' when creating the ndarray.\n",
            "  X = np.atleast_1d(X.T if isinstance(X, np.ndarray) else np.asarray(X))\n"
          ]
        },
        {
          "output_type": "execute_result",
          "data": {
            "text/plain": [
              "Text(0.5, 0.98, '')"
            ]
          },
          "metadata": {},
          "execution_count": 3
        },
        {
          "output_type": "display_data",
          "data": {
            "text/plain": [
              "<Figure size 432x288 with 1 Axes>"
            ],
            "image/png": "[encoded data removed]"
          },
          "metadata": {
            "needs_background": "light"
          }
        }
      ]
    },
    {
      "cell_type": "code",
      "source": [
        "mean_a = session_times[session_times.Page == 'Page A'].Time.mean()\n",
        "print(mean_a)\n",
        "mean_b = session_times[session_times.Page == 'Page B'].Time.mean()\n",
        "print(mean_b)\n"
      ],
      "metadata": {
        "colab": {
          "base_uri": "https://localhost:8080/"
        },
        "id": "wii2O3LtWGJ1",
        "outputId": "129c2a1a-b98d-42d9-df31-9163fff1cd26"
      },
      "execution_count": 6,
      "outputs": [
        {
          "output_type": "stream",
          "name": "stdout",
          "text": [
            "1.263333333333333\n",
            "1.62\n"
          ]
        }
      ]
    },
    {
      "cell_type": "code",
      "source": [
        "mean_b - mean_a"
      ],
      "metadata": {
        "colab": {
          "base_uri": "https://localhost:8080/"
        },
        "id": "rl2iwI2CWduV",
        "outputId": "29db8a8e-4cf9-46aa-ef0d-2a952a8e1ef7"
      },
      "execution_count": 7,
      "outputs": [
        {
          "output_type": "execute_result",
          "data": {
            "text/plain": [
              "0.35666666666666713"
            ]
          },
          "metadata": {},
          "execution_count": 7
        }
      ]
    },
    {
      "cell_type": "code",
      "source": [
        "def perm_fun(x, nA, nB):\n",
        "  n = nA + nB\n",
        "  idx_B = set(random.sample(range(n), nB))\n",
        "  idx_A = set(range(n)) - idx_B\n",
        "  return x.loc[idx_B].mean() - x.loc[idx_A].mean()"
      ],
      "metadata": {
        "id": "2rokFl0WWiop"
      },
      "execution_count": 10,
      "outputs": []
    },
    {
      "cell_type": "code",
      "source": [
        "perm_diffs = [perm_fun(session_times.Time, 15, 21) for _ in range(1000)]\n",
        "fig, ax = plt.subplots(figsize=(10,10))\n",
        "ax.hist(perm_diffs, bins=11, rwidth=0.9)\n",
        "ax.axvline(x = mean_b - mean_a, color='black', lw=2)\n",
        "ax.text(50, 190, 'Observed\\ndifference', bbox={'facecolor':'white'})\n",
        "ax.set_xlabel('Session time differences (in seconds)')\n",
        "ax.set_ylabel('Frequency')"
      ],
      "metadata": {
        "colab": {
          "base_uri": "https://localhost:8080/",
          "height": 644
        },
        "id": "sR3bjJpiXEqn",
        "outputId": "948bb62b-25dd-4e1b-e828-38de82193f70"
      },
      "execution_count": 16,
      "outputs": [
        {
          "output_type": "execute_result",
          "data": {
            "text/plain": [
              "Text(0, 0.5, 'Frequency')"
            ]
          },
          "metadata": {},
          "execution_count": 16
        },
        {
          "output_type": "display_data",
          "data": {
            "text/plain": [
              "<Figure size 720x720 with 1 Axes>"
            ],
            "image/png": "[encoded data removed]"
          },
          "metadata": {
            "needs_background": "light"
          }
        }
      ]
    }
  ]
}