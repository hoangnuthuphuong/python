{
  "nbformat": 4,
  "nbformat_minor": 0,
  "metadata": {
    "colab": {
      "name": "pandas02",
      "private_outputs": true,
      "provenance": [],
      "authorship_tag": "ABX9TyND1ujW6ohvNIiEo5EeukUD",
      "include_colab_link": true
    },
    "kernelspec": {
      "name": "python3",
      "display_name": "Python 3"
    },
    "language_info": {
      "name": "python"
    }
  },
  "cells": [
    {
      "cell_type": "markdown",
      "metadata": {
        "id": "view-in-github",
        "colab_type": "text"
      },
      "source": [
        "<a href=\"https://colab.research.google.com/github/hoangnuthuphuong/python/blob/Phuong/pandas02.ipynb\" target=\"_parent\"><img src=\"https://colab.research.google.com/assets/colab-badge.svg\" alt=\"Open In Colab\"/></a>"
      ]
    },
    {
      "cell_type": "code",
      "source": [
        "import numpy as np\n",
        "import pandas as pd"
      ],
      "metadata": {
        "id": "U-3LkGIpREPn"
      },
      "execution_count": null,
      "outputs": []
    },
    {
      "cell_type": "markdown",
      "source": [
        "Câu 1: Tạo các Series với kích thước 1x10 thỏa mãn yêu cầu:\n",
        "- Series 1: có tên là “Họ và tên” và dữ liệu (định tính) do bạn tự nhập vào\n",
        "- Series 2: có tên là “Ngày sinh” & dữ liệu do bạn tự nhập vào\n",
        "- Series 3: có tên là “Tiền công/h” có dữ liệu định lượng do bạn tự nhập\n",
        "- Series 4: có tên là “Số h công” có dữ liệu định lượng do bạn tự nhập\n",
        "- Series 5: có tên là “Thực lĩnh” có kích thước 1x10 và để trống"
      ],
      "metadata": {
        "id": "WzukpjSAPtsY"
      }
    },
    {
      "cell_type": "code",
      "execution_count": null,
      "metadata": {
        "id": "zsMC9-ydPWbD"
      },
      "outputs": [],
      "source": [
        "ho_va_ten = pd.Series([\"Hoàng Nữ Thu Phương\",\"Hoàng Văn A\",\"Hoàng Văn B\",\"Hoàng Văn C\",\"Hoàng Văn D\",\"Hoàng Văn E\",\"Hoàng Văn F\",\"Hoàng Văn G\",\"Hoàng Văn H\",\"Hoàng Văn I\"])\n",
        "ngay_sinh = pd.Series([\"17/09/2003\",\"01/02/2003\",\"11/22/2003\",\"01/03/2003\",\"01/12/2003\",\"12/01/2003\",\"01/02/2003\",\"11/22/2003\",\"01/03/2003\",\"01/12/2003\"])\n",
        "tien_cong  = pd.Series([100,200,300,400,500,600,700,800,900,1000])\n",
        "so_h_cong = pd.Series([1,2,3,4,5,6,8,7,8,9])\n",
        "thuc_linh = pd.Series([])"
      ]
    },
    {
      "cell_type": "markdown",
      "source": [
        "- Tạo 1 dataframe bằng cách ghép các series trên lại với nhau\n",
        "- Hãy tính giá trị cho cột (column) “Thực lĩnh” theo công thức:\n",
        "Thực lĩnh = “Số h công” x “Tiền công/h”\n",
        "\n",
        "- Hãy in toàn bộ dataframe ở trên ra màn hình"
      ],
      "metadata": {
        "id": "qwJ_62s2R1et"
      }
    },
    {
      "cell_type": "code",
      "source": [
        "a = pd.DataFrame({\"Họ và tên\":ho_va_ten,\"Ngày sinh\":ngay_sinh,\"Tiền công/giờ\":tien_cong,\"Số giờ công\": so_h_cong,\"Thực lĩnh\":thuc_linh})\n",
        "a[\"Thực lĩnh\"]= a[\"Số giờ công\"]* a[\"Tiền công/giờ\"]\n",
        "a"
      ],
      "metadata": {
        "id": "7lb5XBvnRAZD"
      },
      "execution_count": null,
      "outputs": []
    },
    {
      "cell_type": "markdown",
      "source": [
        "Câu 2: Khởi tạo dataframe bằng các phương pháp khác nhau, hãy:\n",
        "- Tạo dataframe có kích thước 10x3 từ cấu trúc list tương ứng, với dữ liệu cho dataframe\n",
        "này gồm các cột Họ tên, Tuổi và Giới tính. Xuất kết quả ra màn hình;\n"
      ],
      "metadata": {
        "id": "VTZfGQaOR84o"
      }
    },
    {
      "cell_type": "code",
      "source": [
        "ho_va_ten = [\"Hoàng Nữ Thu Phương\",\"Hoàng Văn A\",\"Hoàng Văn B\",\"Hoàng Văn C\",\"Hoàng Văn D\",\"Hoàng Văn E\",\"Hoàng Văn F\",\"Hoàng Văn G\",\"Hoàng Văn H\",\"Hoàng Văn I\"]\n",
        "tuoi =[18,19,20,21,22,23,24,25,26,27]\n",
        "gioi_tinh = [\"nữ\",\"nam\",\"nữ\",\"nam\",\"nữ\",\"nam\",\"nữ\",\"nam\",\"nữ\",\"nam\"]\n",
        "b = pd.DataFrame(np.array([ho_va_ten,tuoi,gioi_tinh]).T,columns =[\"Họ và tên\",\"Tuổi\",\"Giới tính\"])\n",
        "b"
      ],
      "metadata": {
        "id": "A7V3-bU2RVZw"
      },
      "execution_count": null,
      "outputs": []
    },
    {
      "cell_type": "markdown",
      "source": [
        "- Tạo dataframe như trên nhưng từ cấu trúc Dictionary có chứa các List giá trị tương ứng\n",
        "với key. Xuất kết quả ra màn hình;"
      ],
      "metadata": {
        "id": "l_CAOhMSTpSa"
      }
    },
    {
      "cell_type": "code",
      "source": [
        "ho_va_ten = [\"Hoàng Nữ Thu Phương\",\"Hoàng Văn A\",\"Hoàng Văn B\",\"Hoàng Văn C\",\"Hoàng Văn D\",\"Hoàng Văn E\",\"Hoàng Văn F\",\"Hoàng Văn G\",\"Hoàng Văn H\",\"Hoàng Văn I\"]\n",
        "tuoi =[18,19,20,21,22,23,24,25,26,27]\n",
        "gioi_tinh = [\"nữ\",\"nam\",\"nữ\",\"nam\",\"nữ\",\"nam\",\"nữ\",\"nam\",\"nữ\",\"nam\"]\n",
        "c= pd.DataFrame({\"Họ và tên\": ho_va_ten,\"Tuổi\": tuoi,\"Giới tính\":gioi_tinh})\n",
        "c"
      ],
      "metadata": {
        "id": "G0FCxx1-SoXS"
      },
      "execution_count": null,
      "outputs": []
    },
    {
      "cell_type": "markdown",
      "source": [
        "- Tạo dataframe như trên nhưng từ cấu trúc List của các dictionary. Xuất kết quả ra màn\n",
        "hình;"
      ],
      "metadata": {
        "id": "5wojqNRMT_Bn"
      }
    },
    {
      "cell_type": "code",
      "source": [
        "d = pd.DataFrame([{\"Họ và tên\":\"Hoàng Nữ Thu Phương\",\"Tuổi\":18,\"Giới tính\":\"nữ\"},{\"Họ và tên\":\"Hoàng Văn A\",\"Tuổi\":19 ,\"Giới tính\":\"nữ\"},{\"Họ và tên\":\"Hoàng Văn B\",\"Tuổi\":20,\"Giới tính\":\"nữ\"},{\"Họ và tên\":\"Hoàng Văn C\",\"Tuổi\":21,\"Giới tính\":\"nữ\"},{\"Họ và tên\":\"Hoàng Văn D\",\"Tuổi\":22,\"Giới tính\":\"nữ\"},{\"Họ và tên\":\"Hoàng Văn E\",\"Tuổi\":23,\"Giới tính\":\"nữ\"},{\"Họ và tên\":\"Hoàng Văn F\",\"Tuổi\":24,\"Giới tính\":\"nữ\"},{\"Họ và tên\":\"Hoàng Văn G\",\"Tuổi\":18,\"Giới tính\":\"nam \"},{\"Họ và tên\":\"Hoàng Văn H\",\"Tuổi\":25,\"Giới tính\":\"nam\"},{\"Họ và tên\":\"Hoàng Văn I\",\"Tuổi\":26 ,\"Giới tính\":\"nam\"}])\n",
        "d"
      ],
      "metadata": {
        "id": "E2G2wo3pT4OB"
      },
      "execution_count": null,
      "outputs": []
    },
    {
      "cell_type": "markdown",
      "source": [
        "- Tạo 3 list (1x10) tương ứng với Họ tên, Tuổi và Giới tính. Sử dụng hàm zip() để tạo\n",
        "dataframe từ 3 list riêng biệt này. Xuất kết quả ra màn hình."
      ],
      "metadata": {
        "id": "Ciw40MoeVQI2"
      }
    },
    {
      "cell_type": "code",
      "source": [
        "e = pd.DataFrame(zip(ho_va_ten, tuoi, gioi_tinh), columns = [\"Họ và tên\", \"Tuổi\", \"Giới tính\"])\n",
        "e"
      ],
      "metadata": {
        "id": "v_W3Yf5DUGHC"
      },
      "execution_count": null,
      "outputs": []
    },
    {
      "cell_type": "code",
      "source": [
        ""
      ],
      "metadata": {
        "id": "2e2LZ3wLVTW7"
      },
      "execution_count": null,
      "outputs": []
    }
  ]
}