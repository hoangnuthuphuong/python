{
  "nbformat": 4,
  "nbformat_minor": 0,
  "metadata": {
    "colab": {
      "name": "BaitapkieuList",
      "provenance": [],
      "collapsed_sections": [],
      "authorship_tag": "ABX9TyNBUa0mmfn1kz7FUn84qjjG",
      "include_colab_link": true
    },
    "kernelspec": {
      "name": "python3",
      "display_name": "Python 3"
    },
    "language_info": {
      "name": "python"
    }
  },
  "cells": [
    {
      "cell_type": "markdown",
      "metadata": {
        "id": "view-in-github",
        "colab_type": "text"
      },
      "source": [
        "<a href=\"https://colab.research.google.com/github/hoangnuthuphuong/python/blob/Phuong/BaitapkieuList.ipynb\" target=\"_parent\"><img src=\"https://colab.research.google.com/assets/colab-badge.svg\" alt=\"Open In Colab\"/></a>"
      ]
    },
    {
      "cell_type": "code",
      "metadata": {
        "id": "KeozkFiRvh2j",
        "colab": {
          "base_uri": "https://localhost:8080/"
        },
        "outputId": "840a1979-762c-40fc-868e-a87e7269df5e"
      },
      "source": [
        "#khởi tạo biến x kiểu List rỗng\n",
        "x=[]\n",
        "#thêm giá trị 18 vào x\n",
        "x.append(18)\n",
        "#thêm giá trị \"Huế\" vào x\n",
        "x.append(\"Huế\")\n",
        "#tạo list y\n",
        "y=[12,45,-1,-0.56,\"abc\"]\n",
        "#thêm y vào x\n",
        "x=x+y\n",
        "#xuất x\n",
        "print(\"giá trị của x:\",x)\n",
        "#xuất ra giá trị đầu tiên của x\n",
        "print(\"giá trị đầu tiên của x là: \",x[0])\n",
        "#xuất ra giá trị cuối cùng của x\n",
        "print(\"giá trị cuối cùng của x là: \",x[len(x)-1])\n",
        "#in ra màn giá trị của phần tử đầu tiên đến phần tử thứ 5 của x\n",
        "x[0:5]\n",
        "print(\"giá trị của phần tử đầu tiên đến phần tử thứ 5 của x: \",x[0:5])\n",
        "#in ra màn giá trị của phần tử thứ 3 đến cuối cùng của x\n",
        "x[2:len(x)]\n",
        "print(\"giá trị của phần tử thứ 3 đến cuối cùng của x: \",x[2:len(x)])\n",
        "\n",
        "\n"
      ],
      "execution_count": 10,
      "outputs": [
        {
          "output_type": "stream",
          "name": "stdout",
          "text": [
            "giá trị của x: [18, 'Huế', 12, 45, -1, -0.56, 'abc']\n",
            "giá trị đầu tiên của x là:  18\n",
            "giá trị cuối cùng của x là:  abc\n",
            "giá trị của phần tử đầu tiên đến phần tử thứ 5 của x:  [18, 'Huế', 12, 45, -1]\n",
            "giá trị của phần tử thứ 3 đến cuối cùng của x:  [12, 45, -1, -0.56, 'abc']\n"
          ]
        }
      ]
    }
  ]
}