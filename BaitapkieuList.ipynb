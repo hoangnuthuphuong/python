{
  "nbformat": 4,
  "nbformat_minor": 0,
  "metadata": {
    "colab": {
      "name": "BaitapkieuList",
      "provenance": [],
      "collapsed_sections": [],
      "authorship_tag": "ABX9TyPEl2rxYqBBbcFrXE7i3sox",
      "include_colab_link": true
    },
    "kernelspec": {
      "name": "python3",
      "display_name": "Python 3"
    },
    "language_info": {
      "name": "python"
    }
  },
  "cells": [
    {
      "cell_type": "markdown",
      "metadata": {
        "id": "view-in-github",
        "colab_type": "text"
      },
      "source": [
        "<a href=\"https://colab.research.google.com/github/hoangnuthuphuong/python/blob/Phuong/BaitapkieuList.ipynb\" target=\"_parent\"><img src=\"https://colab.research.google.com/assets/colab-badge.svg\" alt=\"Open In Colab\"/></a>"
      ]
    },
    {
      "cell_type": "code",
      "metadata": {
        "id": "KeozkFiRvh2j",
        "colab": {
          "base_uri": "https://localhost:8080/"
        },
        "outputId": "d104ce2f-c82e-4557-e267-dc4bc0e91f3f"
      },
      "source": [
        "#khởi tạo biến x kiểu List rỗng\n",
        "x=[]\n",
        "#thêm giá trị 18 vào x\n",
        "x.append(18)\n",
        "#thêm giá trị \"Huế\" vào x\n",
        "x.append(\"Huế\")\n",
        "#tạo list y\n",
        "y=[12,45,-1,-0.56,\"abc\"]\n",
        "#thêm y vào x\n",
        "x=y+x\n",
        "#xuất x\n",
        "print(\"giá trị của x:\",x)\n",
        "#xuất ra giá trị đầu tiên của x\n",
        "print(\"giá trị đầu tiên của x là: \",x[0])\n",
        "#xuất ra giá trị cuối cùng của x\n",
        "print(\"giá trị cuối cùng của x là: \",x[len(x)-1])\n",
        "#in ra màn giá trị của phần tử đầu tiên đến phần tử thứ 5 của x\n",
        "x[0:4]\n",
        "#in ra màn giá trị của phần tử thứ 3 đến cuối cùng của x\n",
        "x[2:len(x)]\n",
        "\n",
        "\n"
      ],
      "execution_count": 1,
      "outputs": [
        {
          "output_type": "stream",
          "name": "stdout",
          "text": [
            "giá trị của x: [12, 45, -1, -0.56, 'abc', 18, 'Huế']\n",
            "giá trị đầu tiên của x là:  12\n",
            "giá trị cuối cùng của x là:  Huế\n"
          ]
        },
        {
          "output_type": "execute_result",
          "data": {
            "text/plain": [
              "[-1, -0.56, 'abc', 18, 'Huế']"
            ]
          },
          "metadata": {},
          "execution_count": 1
        }
      ]
    }
  ]
}