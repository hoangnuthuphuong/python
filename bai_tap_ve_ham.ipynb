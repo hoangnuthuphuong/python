{
  "nbformat": 4,
  "nbformat_minor": 0,
  "metadata": {
    "colab": {
      "name": "bai_tap_ve_ham",
      "provenance": [],
      "collapsed_sections": [],
      "include_colab_link": true
    },
    "kernelspec": {
      "display_name": "Python 3",
      "name": "python3"
    }
  },
  "cells": [
    {
      "cell_type": "markdown",
      "metadata": {
        "id": "view-in-github",
        "colab_type": "text"
      },
      "source": [
        "<a href=\"https://colab.research.google.com/github/hoangnuthuphuong/python/blob/Phuong/bai_tap_ve_ham.ipynb\" target=\"_parent\"><img src=\"https://colab.research.google.com/assets/colab-badge.svg\" alt=\"Open In Colab\"/></a>"
      ]
    },
    {
      "cell_type": "markdown",
      "metadata": {
        "id": "CmNM0HKjc8ZZ"
      },
      "source": [
        "#bài 1"
      ]
    },
    {
      "cell_type": "code",
      "metadata": {
        "id": "QYbfwCUt1rT0"
      },
      "source": [
        "def hihi(n):\n",
        "  print(n)\n"
      ],
      "execution_count": 16,
      "outputs": []
    },
    {
      "cell_type": "code",
      "metadata": {
        "colab": {
          "base_uri": "https://localhost:8080/"
        },
        "id": "hyz_bo2pa5N7",
        "outputId": "0f8df7b4-8e01-4cbf-d971-426981ebb2f5"
      },
      "source": [
        "hihi(\"Lập trình java 2021\")"
      ],
      "execution_count": 18,
      "outputs": [
        {
          "output_type": "stream",
          "name": "stdout",
          "text": [
            "Lập trình java 2021\n"
          ]
        }
      ]
    },
    {
      "cell_type": "markdown",
      "metadata": {
        "id": "j4lmtgwAc4d_"
      },
      "source": [
        "#bài 2"
      ]
    },
    {
      "cell_type": "code",
      "metadata": {
        "colab": {
          "base_uri": "https://localhost:8080/"
        },
        "id": "fhV21uGzVUL6",
        "outputId": "85163a5a-8ae1-4411-f623-482a32119325"
      },
      "source": [
        "def phuong(n):\n",
        "  print(n)\n",
        "n=str(input())"
      ],
      "execution_count": 19,
      "outputs": [
        {
          "name": "stdout",
          "output_type": "stream",
          "text": [
            "hoho\n"
          ]
        }
      ]
    },
    {
      "cell_type": "markdown",
      "metadata": {
        "id": "M41P13y4dNGv"
      },
      "source": [
        "#Bài 3"
      ]
    },
    {
      "cell_type": "code",
      "metadata": {
        "colab": {
          "base_uri": "https://localhost:8080/"
        },
        "id": "7VNYAu4ee9N7",
        "outputId": "4cb0d8c3-ab85-4b97-87f7-9e3751447669"
      },
      "source": [
        "n = int(input('Nhập số nguyên dương : '))\n",
        "if n<=0:\n",
        "  n = int(input('Nhập lại số nguyên dương : '))\n",
        "else:\n",
        "  x = str(input('Nhập một thông điệp : '))\n",
        "def nPrintln(x, n):\n",
        "\n",
        "  for i in range(0, n):\n",
        "    nPrintln(x, n)\n",
        "\n"
      ],
      "execution_count": 46,
      "outputs": [
        {
          "name": "stdout",
          "output_type": "stream",
          "text": [
            "Nhập số nguyên dương : 5\n",
            "Nhập một thông điệp : 1\n"
          ]
        }
      ]
    },
    {
      "cell_type": "markdown",
      "metadata": {
        "id": "2Z7pahcXdGT-"
      },
      "source": [
        "#bài 4"
      ]
    },
    {
      "cell_type": "code",
      "metadata": {
        "id": "p1ZmPPftV8yh"
      },
      "source": [
        "def ptbac1(a,b):\n",
        "  if a == 0:\n",
        "    if b == 0:\n",
        "      print('Phương trình có vô số nghiệm')\n",
        "    else: \n",
        "      print('Phương trình vô nghiệm')\n",
        "  else:\n",
        "    c = -b/a\n",
        "    print('Nghiệm của phương trình là:',c)"
      ],
      "execution_count": 12,
      "outputs": []
    },
    {
      "cell_type": "code",
      "metadata": {
        "colab": {
          "base_uri": "https://localhost:8080/"
        },
        "id": "cGPeGuWHasdk",
        "outputId": "197a599c-757a-428e-8887-cd144658b50a"
      },
      "source": [
        "ptbac1(5,8)"
      ],
      "execution_count": 14,
      "outputs": [
        {
          "output_type": "stream",
          "name": "stdout",
          "text": [
            "Nghiệm của phương trình là: -1.6\n"
          ]
        }
      ]
    },
    {
      "cell_type": "markdown",
      "metadata": {
        "id": "40yRC6kfdJZ8"
      },
      "source": [
        "#bÀI 5"
      ]
    },
    {
      "cell_type": "code",
      "metadata": {
        "colab": {
          "base_uri": "https://localhost:8080/"
        },
        "id": "QcAQqTlHZxiM",
        "outputId": "88246673-14e3-44ea-d7f4-ddab2ce23b61"
      },
      "source": [
        "def ptbac2(a,b,c):\n",
        "  if a == 0:\n",
        "    if b == 0:\n",
        "      if c == 0:\n",
        "        print('Phương trình có vô số nghiệm')\n",
        "      else:\n",
        "        print('Phương trình vô nghiệm')\n",
        "    else:\n",
        "      d = -c/b\n",
        "      print('Phương trình có nghiệm là:',d)\n",
        "  elif b**(1/2)-4*a*c <0:\n",
        "    print('Phương trình vô nghiệm')\n",
        "  else:\n",
        "    print('Phương trình có nghiệm là : ',(-b+(b**(1/2)-4*a*c)*(1/2))/(2*a),'và',(-b-(b**(1/2)-4*a*c)*(1/2))/(2*a))\n",
        "a = int(input('Nhập số a : '))\n",
        "b = int(input('Nhập số b : '))\n",
        "c = int(input('Nhập số c : '))\n",
        "ptbac2(a,b,c)\n"
      ],
      "execution_count": 33,
      "outputs": [
        {
          "output_type": "stream",
          "name": "stdout",
          "text": [
            "Nhập số a : 10\n",
            "Nhập số b : 5\n",
            "Nhập số c : 0\n",
            "Phương trình có nghiệm là :  -0.19409830056250527 và -0.30590169943749473\n"
          ]
        }
      ]
    },
    {
      "cell_type": "code",
      "metadata": {
        "colab": {
          "base_uri": "https://localhost:8080/"
        },
        "id": "39NX51PvbpJP",
        "outputId": "708b6a56-bd53-44fc-a5f0-978473004c2c"
      },
      "source": [
        "\n",
        "bac = int(input('giải phương trình bậc:'))\n",
        "if bac == 1:\n",
        "  a = int(input('Nhập số a : '))\n",
        "  b = int(input('Nhập số b : '))\n",
        "  ptbac1(a,b)\n",
        "if bac == 2:\n",
        "  a = int(input('Nhập số a : '))\n",
        "  b = int(input('Nhập số b : '))\n",
        "  c = int(input('Nhập số c : '))\n",
        "  ptbac2(a,b,c)\n",
        "hoi = \"tieptuc\"\n",
        "while hoi ==\"tieptuc\":\n",
        "  hoi = input('ban co muon tiep tuc khong?(y/n)')\n",
        "  if hoi == \"y\":\n",
        "    bac = int(input('giải phương trình bậc:'))\n",
        "    if bac == 1:\n",
        "      a = int(input('Nhập số a : '))\n",
        "      b = int(input('Nhập số b : '))\n",
        "      ptbac1(a,b)\n",
        "    if bac == 2:\n",
        "      a = int(input('Nhập số a : '))\n",
        "      b = int(input('Nhập số b : '))\n",
        "      c = int(input('Nhập số c : '))\n",
        "      ptbac2(a,b,c)"
      ],
      "execution_count": 34,
      "outputs": [
        {
          "output_type": "stream",
          "name": "stdout",
          "text": [
            "giải phương trình bậc:1\n",
            "Nhập số a : 10\n",
            "Nhập số b : 4\n",
            "Nghiệm của phương trình là: -0.4\n",
            "ban co muon tiep tuc khong?(y/n)y\n",
            "giải phương trình bậc:1\n",
            "Nhập số a : 6\n",
            "Nhập số b : 1\n",
            "Nghiệm của phương trình là: -0.16666666666666666\n"
          ]
        }
      ]
    },
    {
      "cell_type": "code",
      "metadata": {
        "id": "r1E4m8bJe0wR"
      },
      "source": [
        ""
      ],
      "execution_count": null,
      "outputs": []
    }
  ]
}