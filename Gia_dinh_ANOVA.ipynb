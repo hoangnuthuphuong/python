{
  "cells": [
    {
      "cell_type": "markdown",
      "metadata": {
        "id": "view-in-github",
        "colab_type": "text"
      },
      "source": [
        "<a href=\"https://colab.research.google.com/github/hoangnuthuphuong/python/blob/Phuong/Gia_dinh_ANOVA.ipynb\" target=\"_parent\"><img src=\"https://colab.research.google.com/assets/colab-badge.svg\" alt=\"Open In Colab\"/></a>"
      ]
    },
    {
      "cell_type": "markdown",
      "metadata": {
        "id": "4uKeBgPJmpbb"
      },
      "source": [
        "PHÂN TÍCH ANOVA MỘT CHIỀU\n",
        "\n",
        "Phân tích ANOVA chấp nhận các giả định sau:\n",
        "\n",
        "(1) Tất cả các nhóm đều độc lập với nhau\n",
        "\n",
        "(2) Dữ liệu của mỗi nhóm đều tuân theo phân phối chuẩn. Tính chất này có thể được kiểm định bằng phương pháp Shapiro-Wilks.\n",
        "\n",
        "(3) Phương sai (variance) của các nhóm bằng nhau. Tính chất này có thể được kiểm định bằng phương pháp kiểm định Bartlett hay Levene.\n",
        "\n",
        "Nếu dữ liệu hiện có thỏa mãn các tính chất trên thì chúng ta mới tiến hành kiểm định ANOVA. Do vậy trước khi tiến hành kiểm định ANOVA, chúng ta cần thực hiện kiểm tra tập dữ liệu cần thỏa mãn 3 tính chất trên.\n",
        "    "
      ]
    },
    {
      "cell_type": "code",
      "source": [
        "import numpy as np\n",
        "import pandas as pd\n",
        "from scipy import stats\n",
        "import scipy.stats as st"
      ],
      "metadata": {
        "id": "Dru_PxC_m6Ab"
      },
      "execution_count": 6,
      "outputs": []
    },
    {
      "cell_type": "code",
      "execution_count": 7,
      "metadata": {
        "id": "VBe8-7i3mpbh"
      },
      "outputs": [],
      "source": [
        "#Bước 1: Hãy tạo một tập dữ liệu mẫu sample_1 với kích thước 100 tuân theo phân phối chuẩn\n",
        "sample_1 = np.random.normal(size = 100)"
      ]
    },
    {
      "cell_type": "code",
      "execution_count": 16,
      "metadata": {
        "id": "OvRy2y1Tmpbj"
      },
      "outputs": [],
      "source": [
        "#Bước 2: hãy tạo tập dữ liệu mẫu sample_2 với kích thước 100 tuân theo phân phối Poisson\n",
        "sample_2 = np.random.poisson(size =100)"
      ]
    },
    {
      "cell_type": "markdown",
      "metadata": {
        "id": "qwdalSsHmpbk"
      },
      "source": [
        "Hãy tham khảo các hướng dẫn sau để kiểm định tính chất thứ 2 bằng phương pháp Shapiro-Wilks đối với sample_1 và sample_2\n",
        "\n",
        "(1) [Tài liệu tham khảo scipy](https://docs.scipy.org/doc/scipy/reference/generated/scipy.stats.shapiro.html)\n",
        "\n",
        "(2) [Hướng dẫn cụ thể của statology](https://www.statology.org/shapiro-wilk-test-python/)"
      ]
    },
    {
      "cell_type": "markdown",
      "source": [
        "**Phát biểu giả thuyết**\n",
        "\n",
        "* Giả thuyết null: \n",
        "> Mẫu được lấy từ phân phối chuẩn\n",
        "* Giả thuyết thay thế:\n",
        "> Mẫu không được lấy từ phân phối chuẩn"
      ],
      "metadata": {
        "id": "KQxTm9hEojOL"
      }
    },
    {
      "cell_type": "code",
      "execution_count": 12,
      "metadata": {
        "id": "fi7xSJAampbk",
        "colab": {
          "base_uri": "https://localhost:8080/"
        },
        "outputId": "abbb7040-316b-4d05-aa45-44cba21d3fd7"
      },
      "outputs": [
        {
          "output_type": "stream",
          "name": "stdout",
          "text": [
            "0.9910687208175659\n",
            "Không có bằng chứng để bác bỏ giả thuyết null\n"
          ]
        }
      ],
      "source": [
        "#Code kiểm định tính chất thứ 2 của sample_1\n",
        "statistic, p_value = st.shapiro(sample_1)\n",
        "print(p_value)\n",
        "if p_value < 0.05:\n",
        "  print(\"Có bằng chứng để bác bỏ giả thuyết null\")\n",
        "else:\n",
        "  print(\"Không có bằng chứng để bác bỏ giả thuyết null\")"
      ]
    },
    {
      "cell_type": "markdown",
      "source": [
        "**✈**  Mẫu thứ nhất có khả năng được lấy từ phân phối chuẩn"
      ],
      "metadata": {
        "id": "Xhl9SwPmpiuk"
      }
    },
    {
      "cell_type": "code",
      "source": [
        "#Code kiểm định tính chất thứ 2 của sample_2\n",
        "statistic, p_value = st.shapiro(sample_2)\n",
        "print(p_value)\n",
        "if p_value < 0.05:\n",
        "  print(\"Có bằng chứng để bác bỏ giả thuyết null\")\n",
        "else:\n",
        "  print(\"Không có bằng chứng để bác bỏ giả thuyết null\")"
      ],
      "metadata": {
        "colab": {
          "base_uri": "https://localhost:8080/"
        },
        "id": "5SFbb5lQqo4e",
        "outputId": "63abf33c-0c6d-4108-a6c7-79355562a541"
      },
      "execution_count": 17,
      "outputs": [
        {
          "output_type": "stream",
          "name": "stdout",
          "text": [
            "1.398286597620313e-09\n",
            "Có bằng chứng để bác bỏ giả thuyết null\n"
          ]
        }
      ]
    },
    {
      "cell_type": "markdown",
      "source": [
        "**✈**  Mẫu thứ hai không được lấy từ phân phối chuẩn"
      ],
      "metadata": {
        "id": "uBjgBMlgrIuv"
      }
    },
    {
      "cell_type": "markdown",
      "metadata": {
        "id": "XWOi2btmmpbl"
      },
      "source": [
        "Hãy tham khảo các hướng dẫn sau để kiểm định tính chất thứ 3 bằng kiểm định Bartlett hoặc kiểm định Levene\n",
        "\n",
        "(1) [Hướng dẫn tổng quát](https://www.marsja.se/levenes-bartletts-test-of-equality-homogeneity-of-variance-in-python/)\n",
        "\n",
        "(2) [Hướng dẫn ở stackoverflow](https://stackoverflow.com/questions/36141254/how-to-test-for-homoscedasticity-having-the-same-population-variance-in-python)\n",
        "\n",
        "(3) Sử dụng bài giảng về kiểm định Bartlett và Levene ở buổi trước"
      ]
    },
    {
      "cell_type": "markdown",
      "source": [
        "**Phát biểu giả thuyết**\n",
        "* Hai mẫu có phương sai bằng nhau \n",
        "> $H_{0}: \\sigma^{2} = \\sigma_{0}^{2}$\n",
        "* Phương sai của hai mẫu khác nhau\n",
        "> $H_{a}:\\sigma^{2} \\neq \\sigma_{0}^{2} $"
      ],
      "metadata": {
        "id": "xUf2JXRKrgPl"
      }
    },
    {
      "cell_type": "code",
      "execution_count": 18,
      "metadata": {
        "id": "WSVLg40Tmpbm",
        "colab": {
          "base_uri": "https://localhost:8080/"
        },
        "outputId": "9cd37894-cb5f-411d-8821-d4e2c416a4e8"
      },
      "outputs": [
        {
          "output_type": "stream",
          "name": "stdout",
          "text": [
            "0.35840528382026193\n",
            "Không có bằng chứng bác bỏ giả thuyết hai mẫu có phương sai bằng nhau\n"
          ]
        }
      ],
      "source": [
        "#Code kiểm định tính đồng nhất về phương sai của các nhóm\n",
        "statistic, p_value = st.levene(sample_1, sample_2)\n",
        "print(p_value)\n",
        "if p_value <= 0.05:\n",
        "  print(\"Có bằng chứng bác bỏ giả thuyết hai mẫu có phương sai bằng nhau\")\n",
        "else:\n",
        "  print(\"Không có bằng chứng bác bỏ giả thuyết hai mẫu có phương sai bằng nhau\")"
      ]
    },
    {
      "cell_type": "code",
      "source": [
        ""
      ],
      "metadata": {
        "id": "_eLULSimsfR_"
      },
      "execution_count": null,
      "outputs": []
    }
  ],
  "metadata": {
    "kernelspec": {
      "display_name": "Python 3",
      "language": "python",
      "name": "python3"
    },
    "language_info": {
      "codemirror_mode": {
        "name": "ipython",
        "version": 3
      },
      "file_extension": ".py",
      "mimetype": "text/x-python",
      "name": "python",
      "nbconvert_exporter": "python",
      "pygments_lexer": "ipython3",
      "version": "3.7.3"
    },
    "colab": {
      "name": "Gia_dinh_ANOVA",
      "provenance": [],
      "include_colab_link": true
    }
  },
  "nbformat": 4,
  "nbformat_minor": 0
}