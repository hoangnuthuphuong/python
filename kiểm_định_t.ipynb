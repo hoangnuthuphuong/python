{
  "nbformat": 4,
  "nbformat_minor": 0,
  "metadata": {
    "colab": {
      "name": "kiểm_định_t",
      "provenance": [],
      "collapsed_sections": [],
      "authorship_tag": "ABX9TyN6wb+NSIA4dviBCWeI9dTk",
      "include_colab_link": true
    },
    "kernelspec": {
      "name": "python3",
      "display_name": "Python 3"
    },
    "language_info": {
      "name": "python"
    }
  },
  "cells": [
    {
      "cell_type": "markdown",
      "metadata": {
        "id": "view-in-github",
        "colab_type": "text"
      },
      "source": [
        "<a href=\"https://colab.research.google.com/github/hoangnuthuphuong/python/blob/Phuong/ki%E1%BB%83m_%C4%91%E1%BB%8Bnh_t.ipynb\" target=\"_parent\"><img src=\"https://colab.research.google.com/assets/colab-badge.svg\" alt=\"Open In Colab\"/></a>"
      ]
    },
    {
      "cell_type": "markdown",
      "source": [
        "**Các thư viện cần thiết**"
      ],
      "metadata": {
        "id": "yhU0Iv0xRhew"
      }
    },
    {
      "cell_type": "code",
      "execution_count": 4,
      "metadata": {
        "id": "OUdZ9vFkRU6M"
      },
      "outputs": [],
      "source": [
        "import numpy as np\n",
        "import pandas as pd\n",
        "import random\n",
        "from scipy import stats\n",
        "from statsmodels.stats.weightstats import ttest_ind\n",
        "import warnings\n",
        "import matplotlib.pyplot as plt\n",
        "import seaborn as sns\n",
        "%matplotlib inline"
      ]
    },
    {
      "cell_type": "markdown",
      "source": [
        "**Thiết lập hình dạng ảnh**"
      ],
      "metadata": {
        "id": "URcsr_ljRrMX"
      }
    },
    {
      "cell_type": "code",
      "source": [
        "sns.set(rc={'figure.figsize':(20,20)})\n",
        "sns.set_context('talk')"
      ],
      "metadata": {
        "id": "crEhjfrHRv_Q"
      },
      "execution_count": null,
      "outputs": []
    },
    {
      "cell_type": "markdown",
      "source": [
        "**Tắt các cảnh báo của scipy**"
      ],
      "metadata": {
        "id": "vcDoDtHDR5t5"
      }
    },
    {
      "cell_type": "code",
      "source": [
        "warnings.filterwarnings('ignore')"
      ],
      "metadata": {
        "id": "3m3IKTMDRz26"
      },
      "execution_count": null,
      "outputs": []
    },
    {
      "cell_type": "markdown",
      "source": [
        "**4. Một số lưu ý khi kiểm định giả thuyết t trong thống kê suy diễn**\n",
        "\n",
        "- Phù hợp với cỡ mẫu nhỏ (n < 30) và độ lệch chuẩn không được biết\n",
        "\n",
        "- Các mẫu quan sát được phải được lựa chọn ngẫu nhiên từ quần thể\n",
        "\n",
        "- Tất cả các điểm dữ liệu là độc lập \n",
        "\n",
        "- Không biết phương sai tổng thể (population variance)"
      ],
      "metadata": {
        "id": "iBGO2g8KSCXv"
      }
    },
    {
      "cell_type": "markdown",
      "source": [
        "**Khái niệm về kiểm định t**\n",
        "\n",
        "Phương pháp kiểm định t được dùng để kiểm định có hay không sự khác biệt của giá trị trung bình của một biến đơn với một giá trị cụ thể, với giả thuyết ban đầu cho rằng giá trị trung bình cần kiểm nghiệm thì bằng với một con số cụ thể nào đó. Phương pháp kiểm định t - test này dùng cho biến dạng thang đo khoảng cách hay tỉ lệ. Ta sẽ loại bỏ giả thuyết ban đầu khi kiểm nghiệm cho ta chỉ số Sig. nhỏ hơn mức tinh cậy (0.05)."
      ],
      "metadata": {
        "id": "CLLul-DzSukW"
      }
    },
    {
      "cell_type": "markdown",
      "source": [
        "**Các bước thực hiện kiểm định giả thuyết (sử dụng kiểm định t)**\n",
        "\n",
        "> Bước 1: Thực hiện các phép đo, hay thu thập dữ liệu quan sát\n",
        "\n",
        "> Bước 2: Phát biểu giả thuyết $H_{0}$ và giả thuyết thay thế $H_{a}$\n",
        "\n",
        "> Bước 3: Xác định mức $\\alpha$ (hay khoảng tin cậy)\n",
        "\n",
        "> Bước 4: Lấy mẫu và tính toán các đại lượng thống kê của mẫu\n",
        "\n",
        "> Bước 5: Thực hiện kiểm định t (t-test)\n",
        "\n",
        "> Bước 6: Kết luận dựa vào kết quả kiểm định"
      ],
      "metadata": {
        "id": "u-Iq_-XybEki"
      }
    },
    {
      "cell_type": "markdown",
      "source": [
        "**Xây dựng một kiểm định t cụ thể với số liệu được sinh ngẫu nhiên theo phân phối chuẩn:**\n",
        "\n",
        "**Bài toán :** Ta có giả thiết, chiều cao trung bình của 30 cây xoài từ 5 năm trở lên là khoảng 2,35 m (2,55 m đối với giống loại 1) với độ lệch chuẩn là 0,5. Ta sẽ kiểm tra xem khẳng định này có phù hợp với mức ý nghĩa là 5% hay không? \n"
      ],
      "metadata": {
        "id": "BEOQWahWcAHn"
      }
    },
    {
      "cell_type": "markdown",
      "source": [
        "#**Kiểm định 1 đuôi**\n",
        "\n",
        "Xây dựng giả thuyết:\n",
        "\n",
        "$$H_0 : \\mu = 2,35$$\n",
        "\n",
        "Giả thuyết thay thế:\n",
        "\n",
        "$$H_a : \\mu < 2,35$$\n",
        "\n",
        "với:\n",
        "- Hệ số alpha : 0,05  \n",
        "- Chỉ số t tương ứng với hệ số alpha/2 là : 1.984\n",
        "\n",
        "Công thức:  \n",
        "$$t = \\frac{(\\overline{\\rm X} - \\mu_0)}{(s / \\sqrt{n})}$$\n",
        "với:\n",
        "- $\\overline{\\rm X}$: trung bình mẫu \n",
        "- $\\mu_{0}$: trung bình của tổng thể cần so sánh \n",
        "- s : độ lệch chuẩn hiệu chỉnh mẫu \n",
        "- n : cỡ mẫu\n",
        "\n",
        "Áp dụng với các giá trị nêu trên:\n",
        "- $\\overline{\\rm X}$: 2,35 \n",
        "- $\\mu_{0}$: 2,55\n",
        "- s : 0,5\n",
        "- n: 30\n",
        "$$t = \\frac{(2.35- 2.55)}{(0.5 / \\sqrt{30})} \\approx -2.19$$\n",
        "\n",
        "Giá trị $t = -2.19 < 1,984$ nên không có bằng chứng để bác bỏ giả thuyết $H_0$\n"
      ],
      "metadata": {
        "id": "eV-QiA_5cP9q"
      }
    },
    {
      "cell_type": "markdown",
      "source": [
        "**PYTHON**"
      ],
      "metadata": {
        "id": "m9XW0msIf--f"
      }
    },
    {
      "cell_type": "code",
      "source": [
        "#Sinh ngẫu nhiên một mẫu 30 phần tử có trung bình mẫu là 2,35, độ lệch chuẩn là 0,5 \n",
        "samples = np.random.normal(2.35, scale =0.5,size = 30)\n",
        "print(samples[:10])"
      ],
      "metadata": {
        "colab": {
          "base_uri": "https://localhost:8080/"
        },
        "id": "tlHCRCY-cOLm",
        "outputId": "4f34e3a2-5e62-48a0-fc7e-d8a59b888d10"
      },
      "execution_count": 5,
      "outputs": [
        {
          "output_type": "stream",
          "name": "stdout",
          "text": [
            "[2.20229358 2.45980162 2.65063104 1.9315355  2.0376808  1.82115231\n",
            " 1.90018427 2.47006073 2.05693676 2.68739967]\n"
          ]
        }
      ]
    },
    {
      "cell_type": "code",
      "source": [
        "#Kiểm định t \n",
        "null_mean = 2.35\n",
        "alpha = 0.05\n",
        "t_test, p_value= stats.ttest_1samp(samples, null_mean)\n",
        "print(\"p_value: \",p_value)\n",
        "if(p_value < alpha):\n",
        "  print(\"Có bằng chứng để bác bỏ giả thuyết H0\")\n",
        "else:\n",
        "  print(\"Chưa có bằng chứng để bác bỏ giả thuyết H0\")"
      ],
      "metadata": {
        "colab": {
          "base_uri": "https://localhost:8080/"
        },
        "id": "NLCg4iyThJBP",
        "outputId": "90a63c9a-9897-414b-f7bb-29796bac8feb"
      },
      "execution_count": 25,
      "outputs": [
        {
          "output_type": "stream",
          "name": "stdout",
          "text": [
            "p_value:  0.44768485143773507\n",
            "Chưa có bằng chứng để bác bỏ giả thuyết H0\n"
          ]
        }
      ]
    },
    {
      "cell_type": "markdown",
      "source": [
        "#**Kiểm định 2 đuôi**\n",
        "\n",
        "**Bài toán :** Ta có giả thiết, chiều cao trung bình của 30 cây xoài có tuổi từ 5 năm trở lên là khoảng 2,35 m (2,55 m đối với giống loại một với độ lệch chuẩn là 0,5 và 2,2 m đối với giống loại hai với độ lệch chuẩn là 0,65). Ta sẽ kiểm tra xem khẳng định này có phù hợp với mức ý nghĩa là 5% hay không? \n",
        "\n",
        "Xây dựng giả thuyết:\n",
        "\\begin{align}\n",
        "        H_0: μ_1 = μ_2\n",
        "    \\end{align}\n",
        "\n",
        "Giả thuyết thay thế:\n",
        "\\begin{align}\n",
        "        H_a: μ_1 \\ne μ_2\n",
        "    \\end{align}\n",
        "\n",
        "với:\n",
        "- Hệ số alpha : 0,05  \n",
        "- Chỉ số t tương ứng với hệ số alpha/2 là : 1.984\n",
        "\n"
      ],
      "metadata": {
        "id": "VZE2YPSMj4Hp"
      }
    },
    {
      "cell_type": "markdown",
      "source": [
        "**PYTHON**"
      ],
      "metadata": {
        "id": "wOTvgnpNlPv3"
      }
    },
    {
      "cell_type": "code",
      "source": [
        "#Sinh ngẫu nhiên sample 1 có 15 phần tử với mean = 2,55; std = 0,5 \n",
        "samples_1 = np.random.normal(2.55,scale= 0.5, size = 15)\n",
        "print(samples_1[:15])"
      ],
      "metadata": {
        "colab": {
          "base_uri": "https://localhost:8080/"
        },
        "id": "V-QtZHkFhJ9j",
        "outputId": "3cd84b40-3165-4db6-a127-5d65b26e80c5"
      },
      "execution_count": 32,
      "outputs": [
        {
          "output_type": "stream",
          "name": "stdout",
          "text": [
            "[3.09056229 1.89214291 2.4935748  2.11825023 2.54235228 3.40866609\n",
            " 2.21212252 2.37946826 2.07864926 2.8902302  2.82017986 2.6697848\n",
            " 4.01553093 2.7662215  3.43882983]\n"
          ]
        }
      ]
    },
    {
      "cell_type": "code",
      "source": [
        "#Sinh ngẫu nhiên sample 2 có 15 phần tử với mean = 2,2; std = 0,65 \n",
        "samples_2 = np.random.normal(2.2,scale= 0.65, size = 15)\n",
        "print(samples_2[:15])"
      ],
      "metadata": {
        "colab": {
          "base_uri": "https://localhost:8080/"
        },
        "id": "3JK89MX4lkeB",
        "outputId": "a42a79e0-3cbb-46db-d824-15b0a8c1a118"
      },
      "execution_count": 33,
      "outputs": [
        {
          "output_type": "stream",
          "name": "stdout",
          "text": [
            "[2.42917499 2.39445501 1.00286914 1.85196192 2.02673708 2.73497684\n",
            " 1.48771141 1.3130688  3.01398507 3.42481153 3.02298494 2.38385542\n",
            " 2.29860041 2.09353805 1.61206192]\n"
          ]
        }
      ]
    },
    {
      "cell_type": "code",
      "source": [
        "#Kiểm định giả thuyết \n",
        "alpha = 0.05\n",
        "t_test, p_value,df = ttest_ind(x1 = samples_1, x2 = samples_2, value = 2.55-2.2 , alternative = 'two-sided')\n",
        "print('t = ', t_test, '; p = ', p_value)\n",
        "if(p_value <  alpha):\n",
        "  print(\"Có bằng chứng để bác bỏ giả thuyết H0\")\n",
        "else:\n",
        "  print(\"Chưa có bằng chứng để bác bỏ giả thuyết H0\")"
      ],
      "metadata": {
        "colab": {
          "base_uri": "https://localhost:8080/"
        },
        "id": "j05o6ghelwCJ",
        "outputId": "fb3249e7-8364-4ba7-8aea-44bc28ecec95"
      },
      "execution_count": 34,
      "outputs": [
        {
          "output_type": "stream",
          "name": "stdout",
          "text": [
            "t =  0.7127657456157562 ; p =  0.4818889204229697\n",
            "Chưa có bằng chứng để bác bỏ giả thuyết H0\n"
          ]
        }
      ]
    },
    {
      "cell_type": "code",
      "source": [
        ""
      ],
      "metadata": {
        "id": "DtqECqytl1sp"
      },
      "execution_count": 34,
      "outputs": []
    }
  ]
}