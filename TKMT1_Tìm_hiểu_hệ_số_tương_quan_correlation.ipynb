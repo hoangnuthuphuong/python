{
  "nbformat": 4,
  "nbformat_minor": 0,
  "metadata": {
    "colab": {
      "name": "TKMT1_Tìm_hiểu_hệ_số_tương_quan_correlation",
      "provenance": [],
      "collapsed_sections": [],
      "toc_visible": true,
      "authorship_tag": "ABX9TyPuGeP8lrdvoXz+URLW+PHJ",
      "include_colab_link": true
    },
    "kernelspec": {
      "name": "python3",
      "display_name": "Python 3"
    },
    "language_info": {
      "name": "python"
    }
  },
  "cells": [
    {
      "cell_type": "markdown",
      "metadata": {
        "id": "view-in-github",
        "colab_type": "text"
      },
      "source": [
        "<a href=\"https://colab.research.google.com/github/hoangnuthuphuong/python/blob/Phuong/TKMT1_T%C3%ACm_hi%E1%BB%83u_h%E1%BB%87_s%E1%BB%91_t%C6%B0%C6%A1ng_quan_correlation.ipynb\" target=\"_parent\"><img src=\"https://colab.research.google.com/assets/colab-badge.svg\" alt=\"Open In Colab\"/></a>"
      ]
    },
    {
      "cell_type": "markdown",
      "source": [
        "Sử dụng thư viện pandas để quản lý và phân tích dữ liệu"
      ],
      "metadata": {
        "id": "iSaojXcd-ps3"
      }
    },
    {
      "cell_type": "code",
      "source": [
        "import pandas as pd"
      ],
      "metadata": {
        "id": "eq3hMta4-Y4E"
      },
      "execution_count": null,
      "outputs": []
    },
    {
      "cell_type": "markdown",
      "source": [
        "Đọc tập dữ liệu state.csv"
      ],
      "metadata": {
        "id": "n8PUk0LS-uuq"
      }
    },
    {
      "cell_type": "code",
      "source": [
        "df = pd.read_csv(\"/state.csv\")"
      ],
      "metadata": {
        "id": "Zpl5FTUx-wiP"
      },
      "execution_count": null,
      "outputs": []
    },
    {
      "cell_type": "markdown",
      "source": [
        "Hiển thị các thông số cơ bản của tập dữ liệu"
      ],
      "metadata": {
        "id": "cc7d8nAb_zFf"
      }
    },
    {
      "cell_type": "code",
      "source": [
        "df.head()"
      ],
      "metadata": {
        "colab": {
          "base_uri": "https://localhost:8080/",
          "height": 206
        },
        "id": "HeJqXVi_AASY",
        "outputId": "509391f9-5db3-44e3-9c2f-a1c33c2c313e"
      },
      "execution_count": null,
      "outputs": [
        {
          "output_type": "execute_result",
          "data": {
            "text/plain": [
              "        State  Population  Murder.Rate Abbreviation\n",
              "0     Alabama     4779736          5.7           AL\n",
              "1      Alaska      710231          5.6           AK\n",
              "2     Arizona     6392017          4.7           AZ\n",
              "3    Arkansas     2915918          5.6           AR\n",
              "4  California    37253956          4.4           CA"
            ],
            "text/html": [
              "\n",
              "  <div id=\"df-f7ffc2c1-db86-4d13-8b23-faef252d1a09\">\n",
              "    <div class=\"colab-df-container\">\n",
              "      <div>\n",
              "<style scoped>\n",
              "    .dataframe tbody tr th:only-of-type {\n",
              "        vertical-align: middle;\n",
              "    }\n",
              "\n",
              "    .dataframe tbody tr th {\n",
              "        vertical-align: top;\n",
              "    }\n",
              "\n",
              "    .dataframe thead th {\n",
              "        text-align: right;\n",
              "    }\n",
              "</style>\n",
              "<table border=\"1\" class=\"dataframe\">\n",
              "  <thead>\n",
              "    <tr style=\"text-align: right;\">\n",
              "      <th></th>\n",
              "      <th>State</th>\n",
              "      <th>Population</th>\n",
              "      <th>Murder.Rate</th>\n",
              "      <th>Abbreviation</th>\n",
              "    </tr>\n",
              "  </thead>\n",
              "  <tbody>\n",
              "    <tr>\n",
              "      <th>0</th>\n",
              "      <td>Alabama</td>\n",
              "      <td>4779736</td>\n",
              "      <td>5.7</td>\n",
              "      <td>AL</td>\n",
              "    </tr>\n",
              "    <tr>\n",
              "      <th>1</th>\n",
              "      <td>Alaska</td>\n",
              "      <td>710231</td>\n",
              "      <td>5.6</td>\n",
              "      <td>AK</td>\n",
              "    </tr>\n",
              "    <tr>\n",
              "      <th>2</th>\n",
              "      <td>Arizona</td>\n",
              "      <td>6392017</td>\n",
              "      <td>4.7</td>\n",
              "      <td>AZ</td>\n",
              "    </tr>\n",
              "    <tr>\n",
              "      <th>3</th>\n",
              "      <td>Arkansas</td>\n",
              "      <td>2915918</td>\n",
              "      <td>5.6</td>\n",
              "      <td>AR</td>\n",
              "    </tr>\n",
              "    <tr>\n",
              "      <th>4</th>\n",
              "      <td>California</td>\n",
              "      <td>37253956</td>\n",
              "      <td>4.4</td>\n",
              "      <td>CA</td>\n",
              "    </tr>\n",
              "  </tbody>\n",
              "</table>\n",
              "</div>\n",
              "      <button class=\"colab-df-convert\" onclick=\"convertToInteractive('df-f7ffc2c1-db86-4d13-8b23-faef252d1a09')\"\n",
              "              title=\"Convert this dataframe to an interactive table.\"\n",
              "              style=\"display:none;\">\n",
              "        \n",
              "  <svg xmlns=\"http://www.w3.org/2000/svg\" height=\"24px\"viewBox=\"0 0 24 24\"\n",
              "       width=\"24px\">\n",
              "    <path d=\"M0 0h24v24H0V0z\" fill=\"none\"/>\n",
              "    <path d=\"M18.56 5.44l.94 2.06.94-2.06 2.06-.94-2.06-.94-.94-2.06-.94 2.06-2.06.94zm-11 1L8.5 8.5l.94-2.06 2.06-.94-2.06-.94L8.5 2.5l-.94 2.06-2.06.94zm10 10l.94 2.06.94-2.06 2.06-.94-2.06-.94-.94-2.06-.94 2.06-2.06.94z\"/><path d=\"M17.41 7.96l-1.37-1.37c-.4-.4-.92-.59-1.43-.59-.52 0-1.04.2-1.43.59L10.3 9.45l-7.72 7.72c-.78.78-.78 2.05 0 2.83L4 21.41c.39.39.9.59 1.41.59.51 0 1.02-.2 1.41-.59l7.78-7.78 2.81-2.81c.8-.78.8-2.07 0-2.86zM5.41 20L4 18.59l7.72-7.72 1.47 1.35L5.41 20z\"/>\n",
              "  </svg>\n",
              "      </button>\n",
              "      \n",
              "  <style>\n",
              "    .colab-df-container {\n",
              "      display:flex;\n",
              "      flex-wrap:wrap;\n",
              "      gap: 12px;\n",
              "    }\n",
              "\n",
              "    .colab-df-convert {\n",
              "      background-color: #E8F0FE;\n",
              "      border: none;\n",
              "      border-radius: 50%;\n",
              "      cursor: pointer;\n",
              "      display: none;\n",
              "      fill: #1967D2;\n",
              "      height: 32px;\n",
              "      padding: 0 0 0 0;\n",
              "      width: 32px;\n",
              "    }\n",
              "\n",
              "    .colab-df-convert:hover {\n",
              "      background-color: #E2EBFA;\n",
              "      box-shadow: 0px 1px 2px rgba(60, 64, 67, 0.3), 0px 1px 3px 1px rgba(60, 64, 67, 0.15);\n",
              "      fill: #174EA6;\n",
              "    }\n",
              "\n",
              "    [theme=dark] .colab-df-convert {\n",
              "      background-color: #3B4455;\n",
              "      fill: #D2E3FC;\n",
              "    }\n",
              "\n",
              "    [theme=dark] .colab-df-convert:hover {\n",
              "      background-color: #434B5C;\n",
              "      box-shadow: 0px 1px 3px 1px rgba(0, 0, 0, 0.15);\n",
              "      filter: drop-shadow(0px 1px 2px rgba(0, 0, 0, 0.3));\n",
              "      fill: #FFFFFF;\n",
              "    }\n",
              "  </style>\n",
              "\n",
              "      <script>\n",
              "        const buttonEl =\n",
              "          document.querySelector('#df-f7ffc2c1-db86-4d13-8b23-faef252d1a09 button.colab-df-convert');\n",
              "        buttonEl.style.display =\n",
              "          google.colab.kernel.accessAllowed ? 'block' : 'none';\n",
              "\n",
              "        async function convertToInteractive(key) {\n",
              "          const element = document.querySelector('#df-f7ffc2c1-db86-4d13-8b23-faef252d1a09');\n",
              "          const dataTable =\n",
              "            await google.colab.kernel.invokeFunction('convertToInteractive',\n",
              "                                                     [key], {});\n",
              "          if (!dataTable) return;\n",
              "\n",
              "          const docLinkHtml = 'Like what you see? Visit the ' +\n",
              "            '<a target=\"_blank\" href=https://colab.research.google.com/notebooks/data_table.ipynb>data table notebook</a>'\n",
              "            + ' to learn more about interactive tables.';\n",
              "          element.innerHTML = '';\n",
              "          dataTable['output_type'] = 'display_data';\n",
              "          await google.colab.output.renderOutput(dataTable, element);\n",
              "          const docLink = document.createElement('div');\n",
              "          docLink.innerHTML = docLinkHtml;\n",
              "          element.appendChild(docLink);\n",
              "        }\n",
              "      </script>\n",
              "    </div>\n",
              "  </div>\n",
              "  "
            ]
          },
          "metadata": {},
          "execution_count": 8
        }
      ]
    },
    {
      "cell_type": "code",
      "source": [
        "df.shape"
      ],
      "metadata": {
        "colab": {
          "base_uri": "https://localhost:8080/"
        },
        "id": "mwmh3cCJ_9BR",
        "outputId": "2c50eedc-9215-49a5-eebd-f26bf18f902f"
      },
      "execution_count": null,
      "outputs": [
        {
          "output_type": "execute_result",
          "data": {
            "text/plain": [
              "(50, 4)"
            ]
          },
          "metadata": {},
          "execution_count": 7
        }
      ]
    },
    {
      "cell_type": "markdown",
      "source": [
        "Ghi chú: Nếu có cột dữ liệu ID/STT thì loại bỏ cột này vì không có ý nghĩa khi phân tích dữ liệu\n",
        "\n",
        "**PHÂN TÍCH DỮ LIỆU ĐỊNH LƯỢNG**\n",
        "\n",
        "Sao chép các cột dữ liệu định lượng sang 1 dataframe khác (Khi thành thạo có thể không cần thực hiện thao tác sao chép này)"
      ],
      "metadata": {
        "id": "vF2uRWQBAE4G"
      }
    },
    {
      "cell_type": "code",
      "source": [
        "df_dl = pd.DataFrame(columns = ['Population', 'Murder.Rate'], data = df)\n",
        "df_dl.head()"
      ],
      "metadata": {
        "colab": {
          "base_uri": "https://localhost:8080/",
          "height": 206
        },
        "id": "H68fYYnDAKPm",
        "outputId": "7b82a93b-e7bb-4de2-daa9-4c305ee18182"
      },
      "execution_count": null,
      "outputs": [
        {
          "output_type": "execute_result",
          "data": {
            "text/plain": [
              "   Population  Murder.Rate\n",
              "0     4779736          5.7\n",
              "1      710231          5.6\n",
              "2     6392017          4.7\n",
              "3     2915918          5.6\n",
              "4    37253956          4.4"
            ],
            "text/html": [
              "\n",
              "  <div id=\"df-dbc5e127-b7f0-430f-aa54-b984737d2d83\">\n",
              "    <div class=\"colab-df-container\">\n",
              "      <div>\n",
              "<style scoped>\n",
              "    .dataframe tbody tr th:only-of-type {\n",
              "        vertical-align: middle;\n",
              "    }\n",
              "\n",
              "    .dataframe tbody tr th {\n",
              "        vertical-align: top;\n",
              "    }\n",
              "\n",
              "    .dataframe thead th {\n",
              "        text-align: right;\n",
              "    }\n",
              "</style>\n",
              "<table border=\"1\" class=\"dataframe\">\n",
              "  <thead>\n",
              "    <tr style=\"text-align: right;\">\n",
              "      <th></th>\n",
              "      <th>Population</th>\n",
              "      <th>Murder.Rate</th>\n",
              "    </tr>\n",
              "  </thead>\n",
              "  <tbody>\n",
              "    <tr>\n",
              "      <th>0</th>\n",
              "      <td>4779736</td>\n",
              "      <td>5.7</td>\n",
              "    </tr>\n",
              "    <tr>\n",
              "      <th>1</th>\n",
              "      <td>710231</td>\n",
              "      <td>5.6</td>\n",
              "    </tr>\n",
              "    <tr>\n",
              "      <th>2</th>\n",
              "      <td>6392017</td>\n",
              "      <td>4.7</td>\n",
              "    </tr>\n",
              "    <tr>\n",
              "      <th>3</th>\n",
              "      <td>2915918</td>\n",
              "      <td>5.6</td>\n",
              "    </tr>\n",
              "    <tr>\n",
              "      <th>4</th>\n",
              "      <td>37253956</td>\n",
              "      <td>4.4</td>\n",
              "    </tr>\n",
              "  </tbody>\n",
              "</table>\n",
              "</div>\n",
              "      <button class=\"colab-df-convert\" onclick=\"convertToInteractive('df-dbc5e127-b7f0-430f-aa54-b984737d2d83')\"\n",
              "              title=\"Convert this dataframe to an interactive table.\"\n",
              "              style=\"display:none;\">\n",
              "        \n",
              "  <svg xmlns=\"http://www.w3.org/2000/svg\" height=\"24px\"viewBox=\"0 0 24 24\"\n",
              "       width=\"24px\">\n",
              "    <path d=\"M0 0h24v24H0V0z\" fill=\"none\"/>\n",
              "    <path d=\"M18.56 5.44l.94 2.06.94-2.06 2.06-.94-2.06-.94-.94-2.06-.94 2.06-2.06.94zm-11 1L8.5 8.5l.94-2.06 2.06-.94-2.06-.94L8.5 2.5l-.94 2.06-2.06.94zm10 10l.94 2.06.94-2.06 2.06-.94-2.06-.94-.94-2.06-.94 2.06-2.06.94z\"/><path d=\"M17.41 7.96l-1.37-1.37c-.4-.4-.92-.59-1.43-.59-.52 0-1.04.2-1.43.59L10.3 9.45l-7.72 7.72c-.78.78-.78 2.05 0 2.83L4 21.41c.39.39.9.59 1.41.59.51 0 1.02-.2 1.41-.59l7.78-7.78 2.81-2.81c.8-.78.8-2.07 0-2.86zM5.41 20L4 18.59l7.72-7.72 1.47 1.35L5.41 20z\"/>\n",
              "  </svg>\n",
              "      </button>\n",
              "      \n",
              "  <style>\n",
              "    .colab-df-container {\n",
              "      display:flex;\n",
              "      flex-wrap:wrap;\n",
              "      gap: 12px;\n",
              "    }\n",
              "\n",
              "    .colab-df-convert {\n",
              "      background-color: #E8F0FE;\n",
              "      border: none;\n",
              "      border-radius: 50%;\n",
              "      cursor: pointer;\n",
              "      display: none;\n",
              "      fill: #1967D2;\n",
              "      height: 32px;\n",
              "      padding: 0 0 0 0;\n",
              "      width: 32px;\n",
              "    }\n",
              "\n",
              "    .colab-df-convert:hover {\n",
              "      background-color: #E2EBFA;\n",
              "      box-shadow: 0px 1px 2px rgba(60, 64, 67, 0.3), 0px 1px 3px 1px rgba(60, 64, 67, 0.15);\n",
              "      fill: #174EA6;\n",
              "    }\n",
              "\n",
              "    [theme=dark] .colab-df-convert {\n",
              "      background-color: #3B4455;\n",
              "      fill: #D2E3FC;\n",
              "    }\n",
              "\n",
              "    [theme=dark] .colab-df-convert:hover {\n",
              "      background-color: #434B5C;\n",
              "      box-shadow: 0px 1px 3px 1px rgba(0, 0, 0, 0.15);\n",
              "      filter: drop-shadow(0px 1px 2px rgba(0, 0, 0, 0.3));\n",
              "      fill: #FFFFFF;\n",
              "    }\n",
              "  </style>\n",
              "\n",
              "      <script>\n",
              "        const buttonEl =\n",
              "          document.querySelector('#df-dbc5e127-b7f0-430f-aa54-b984737d2d83 button.colab-df-convert');\n",
              "        buttonEl.style.display =\n",
              "          google.colab.kernel.accessAllowed ? 'block' : 'none';\n",
              "\n",
              "        async function convertToInteractive(key) {\n",
              "          const element = document.querySelector('#df-dbc5e127-b7f0-430f-aa54-b984737d2d83');\n",
              "          const dataTable =\n",
              "            await google.colab.kernel.invokeFunction('convertToInteractive',\n",
              "                                                     [key], {});\n",
              "          if (!dataTable) return;\n",
              "\n",
              "          const docLinkHtml = 'Like what you see? Visit the ' +\n",
              "            '<a target=\"_blank\" href=https://colab.research.google.com/notebooks/data_table.ipynb>data table notebook</a>'\n",
              "            + ' to learn more about interactive tables.';\n",
              "          element.innerHTML = '';\n",
              "          dataTable['output_type'] = 'display_data';\n",
              "          await google.colab.output.renderOutput(dataTable, element);\n",
              "          const docLink = document.createElement('div');\n",
              "          docLink.innerHTML = docLinkHtml;\n",
              "          element.appendChild(docLink);\n",
              "        }\n",
              "      </script>\n",
              "    </div>\n",
              "  </div>\n",
              "  "
            ]
          },
          "metadata": {},
          "execution_count": 9
        }
      ]
    },
    {
      "cell_type": "code",
      "source": [
        "df_dl.shape"
      ],
      "metadata": {
        "colab": {
          "base_uri": "https://localhost:8080/"
        },
        "id": "p2FC11cMAMWA",
        "outputId": "ac6d53e7-b933-4fd5-b123-a3c089aa23f1"
      },
      "execution_count": null,
      "outputs": [
        {
          "output_type": "execute_result",
          "data": {
            "text/plain": [
              "(50, 2)"
            ]
          },
          "metadata": {},
          "execution_count": 10
        }
      ]
    },
    {
      "cell_type": "markdown",
      "source": [
        "Tính các thông số thống kê định lượng"
      ],
      "metadata": {
        "id": "sO-i0wB7AOhz"
      }
    },
    {
      "cell_type": "code",
      "source": [
        "print('Giá trị trung bình: ', df_dl['Population'].mean(), \"; \", df_dl['Murder.Rate'].mean())"
      ],
      "metadata": {
        "colab": {
          "base_uri": "https://localhost:8080/"
        },
        "id": "SNSCxx5MAQCh",
        "outputId": "5b750157-d6b4-4624-ffb6-69c438339e4c"
      },
      "execution_count": null,
      "outputs": [
        {
          "output_type": "stream",
          "name": "stdout",
          "text": [
            "Giá trị trung bình:  6162876.3 ;  4.066\n"
          ]
        }
      ]
    },
    {
      "cell_type": "code",
      "source": [
        "print('Giá trị lớn nhất: ', df_dl['Population'].max(), \"; \", df_dl['Murder.Rate'].max())"
      ],
      "metadata": {
        "colab": {
          "base_uri": "https://localhost:8080/"
        },
        "id": "bArK4TbDARiH",
        "outputId": "b4614799-7ce9-48bc-b072-e78660182aea"
      },
      "execution_count": null,
      "outputs": [
        {
          "output_type": "stream",
          "name": "stdout",
          "text": [
            "Giá trị lớn nhất:  37253956 ;  10.3\n"
          ]
        }
      ]
    },
    {
      "cell_type": "code",
      "source": [
        "print('Giá trị nhỏ nhất: ', df_dl['Population'].min(), \"; \", df_dl['Murder.Rate'].min())"
      ],
      "metadata": {
        "colab": {
          "base_uri": "https://localhost:8080/"
        },
        "id": "UgFFAm8tATKm",
        "outputId": "2cdc92e4-b2d9-45f7-e1ca-aa02ea9ccfe8"
      },
      "execution_count": null,
      "outputs": [
        {
          "output_type": "stream",
          "name": "stdout",
          "text": [
            "Giá trị nhỏ nhất:  563626 ;  0.9\n"
          ]
        }
      ]
    },
    {
      "cell_type": "code",
      "source": [
        "print('Độ lệch chuẩn: ', df_dl['Population'].std(), \"; \", df_dl['Murder.Rate'].std())"
      ],
      "metadata": {
        "colab": {
          "base_uri": "https://localhost:8080/"
        },
        "id": "eluMoQ8sAUb3",
        "outputId": "8a930815-84c1-4b8a-e6dc-6191f6c24464"
      },
      "execution_count": null,
      "outputs": [
        {
          "output_type": "stream",
          "name": "stdout",
          "text": [
            "Độ lệch chuẩn:  6848235.347401142 ;  1.915736124302923\n"
          ]
        }
      ]
    },
    {
      "cell_type": "code",
      "source": [
        "print('Phương sai: ', df_dl['Population'].var(), \"; \", df_dl['Murder.Rate'].var())"
      ],
      "metadata": {
        "colab": {
          "base_uri": "https://localhost:8080/"
        },
        "id": "dIGA2-AfAV77",
        "outputId": "23e1595c-f27b-4d41-de05-33f1b25016b3"
      },
      "execution_count": null,
      "outputs": [
        {
          "output_type": "stream",
          "name": "stdout",
          "text": [
            "Phương sai:  46898327373394.445 ;  3.670044897959184\n"
          ]
        }
      ]
    },
    {
      "cell_type": "code",
      "source": [
        "print('Q1 của  Population', df_dl['Population'].quantile(0.25), \"; của Murder.Rate\", df_dl['Murder.Rate'].quantile(0.25))\n"
      ],
      "metadata": {
        "colab": {
          "base_uri": "https://localhost:8080/"
        },
        "id": "dqwl91UkAZFD",
        "outputId": "8db8748c-64dc-4049-b3cc-7e8d74e8512b"
      },
      "execution_count": null,
      "outputs": [
        {
          "output_type": "stream",
          "name": "stdout",
          "text": [
            "Q1 của  Population 1833004.25 ; của Murder.Rate 2.425\n"
          ]
        }
      ]
    },
    {
      "cell_type": "code",
      "source": [
        "print('Q2 của  Population', df_dl['Population'].quantile(0.50), \"; của Murder.Rate\", df_dl['Murder.Rate'].quantile(0.50))\n"
      ],
      "metadata": {
        "colab": {
          "base_uri": "https://localhost:8080/"
        },
        "id": "k_Sges4WAb6w",
        "outputId": "f01f10f5-5ab7-4a7f-fb1d-62ce5ee6e2f2"
      },
      "execution_count": null,
      "outputs": [
        {
          "output_type": "stream",
          "name": "stdout",
          "text": [
            "Q2 của  Population 4436369.5 ; của Murder.Rate 4.0\n"
          ]
        }
      ]
    },
    {
      "cell_type": "code",
      "source": [
        "print('Q3 của  Population', df_dl['Population'].quantile(0.75), \"; của Murder.Rate\", df_dl['Murder.Rate'].quantile(0.75))\n"
      ],
      "metadata": {
        "colab": {
          "base_uri": "https://localhost:8080/"
        },
        "id": "c0hMZeyDAeMh",
        "outputId": "177f85b3-fd72-432e-b892-e3e0d6621b16"
      },
      "execution_count": null,
      "outputs": [
        {
          "output_type": "stream",
          "name": "stdout",
          "text": [
            "Q3 của  Population 6680312.25 ; của Murder.Rate 5.55\n"
          ]
        }
      ]
    },
    {
      "cell_type": "code",
      "source": [
        "print('IQR ',df_dl['Population'].quantile(0.75) - df_dl['Population'].quantile(0.25), \"; \", df_dl['Murder.Rate'].quantile(0.75) - df_dl['Murder.Rate'].quantile(0.25) )\n"
      ],
      "metadata": {
        "colab": {
          "base_uri": "https://localhost:8080/"
        },
        "id": "OeuCviVdAf_H",
        "outputId": "07daa21c-299d-4c68-d1c5-6a49666ae55e"
      },
      "execution_count": null,
      "outputs": [
        {
          "output_type": "stream",
          "name": "stdout",
          "text": [
            "IQR  4847308.0 ;  3.125\n"
          ]
        }
      ]
    },
    {
      "cell_type": "markdown",
      "source": [
        "Có thể thay các phép tính riêng biệt trên bằng cách sử dụng hàm describe"
      ],
      "metadata": {
        "id": "ZworKgjnAiRv"
      }
    },
    {
      "cell_type": "code",
      "source": [
        "df_dl.describe()"
      ],
      "metadata": {
        "colab": {
          "base_uri": "https://localhost:8080/",
          "height": 300
        },
        "id": "inlyVpJBAj59",
        "outputId": "1edf72e1-5665-4aa4-ee38-3fc6e8f3af9f"
      },
      "execution_count": null,
      "outputs": [
        {
          "output_type": "execute_result",
          "data": {
            "text/plain": [
              "         Population  Murder.Rate\n",
              "count  5.000000e+01    50.000000\n",
              "mean   6.162876e+06     4.066000\n",
              "std    6.848235e+06     1.915736\n",
              "min    5.636260e+05     0.900000\n",
              "25%    1.833004e+06     2.425000\n",
              "50%    4.436370e+06     4.000000\n",
              "75%    6.680312e+06     5.550000\n",
              "max    3.725396e+07    10.300000"
            ],
            "text/html": [
              "\n",
              "  <div id=\"df-ae0a23e2-b185-40ec-9823-6a77fa1630b5\">\n",
              "    <div class=\"colab-df-container\">\n",
              "      <div>\n",
              "<style scoped>\n",
              "    .dataframe tbody tr th:only-of-type {\n",
              "        vertical-align: middle;\n",
              "    }\n",
              "\n",
              "    .dataframe tbody tr th {\n",
              "        vertical-align: top;\n",
              "    }\n",
              "\n",
              "    .dataframe thead th {\n",
              "        text-align: right;\n",
              "    }\n",
              "</style>\n",
              "<table border=\"1\" class=\"dataframe\">\n",
              "  <thead>\n",
              "    <tr style=\"text-align: right;\">\n",
              "      <th></th>\n",
              "      <th>Population</th>\n",
              "      <th>Murder.Rate</th>\n",
              "    </tr>\n",
              "  </thead>\n",
              "  <tbody>\n",
              "    <tr>\n",
              "      <th>count</th>\n",
              "      <td>5.000000e+01</td>\n",
              "      <td>50.000000</td>\n",
              "    </tr>\n",
              "    <tr>\n",
              "      <th>mean</th>\n",
              "      <td>6.162876e+06</td>\n",
              "      <td>4.066000</td>\n",
              "    </tr>\n",
              "    <tr>\n",
              "      <th>std</th>\n",
              "      <td>6.848235e+06</td>\n",
              "      <td>1.915736</td>\n",
              "    </tr>\n",
              "    <tr>\n",
              "      <th>min</th>\n",
              "      <td>5.636260e+05</td>\n",
              "      <td>0.900000</td>\n",
              "    </tr>\n",
              "    <tr>\n",
              "      <th>25%</th>\n",
              "      <td>1.833004e+06</td>\n",
              "      <td>2.425000</td>\n",
              "    </tr>\n",
              "    <tr>\n",
              "      <th>50%</th>\n",
              "      <td>4.436370e+06</td>\n",
              "      <td>4.000000</td>\n",
              "    </tr>\n",
              "    <tr>\n",
              "      <th>75%</th>\n",
              "      <td>6.680312e+06</td>\n",
              "      <td>5.550000</td>\n",
              "    </tr>\n",
              "    <tr>\n",
              "      <th>max</th>\n",
              "      <td>3.725396e+07</td>\n",
              "      <td>10.300000</td>\n",
              "    </tr>\n",
              "  </tbody>\n",
              "</table>\n",
              "</div>\n",
              "      <button class=\"colab-df-convert\" onclick=\"convertToInteractive('df-ae0a23e2-b185-40ec-9823-6a77fa1630b5')\"\n",
              "              title=\"Convert this dataframe to an interactive table.\"\n",
              "              style=\"display:none;\">\n",
              "        \n",
              "  <svg xmlns=\"http://www.w3.org/2000/svg\" height=\"24px\"viewBox=\"0 0 24 24\"\n",
              "       width=\"24px\">\n",
              "    <path d=\"M0 0h24v24H0V0z\" fill=\"none\"/>\n",
              "    <path d=\"M18.56 5.44l.94 2.06.94-2.06 2.06-.94-2.06-.94-.94-2.06-.94 2.06-2.06.94zm-11 1L8.5 8.5l.94-2.06 2.06-.94-2.06-.94L8.5 2.5l-.94 2.06-2.06.94zm10 10l.94 2.06.94-2.06 2.06-.94-2.06-.94-.94-2.06-.94 2.06-2.06.94z\"/><path d=\"M17.41 7.96l-1.37-1.37c-.4-.4-.92-.59-1.43-.59-.52 0-1.04.2-1.43.59L10.3 9.45l-7.72 7.72c-.78.78-.78 2.05 0 2.83L4 21.41c.39.39.9.59 1.41.59.51 0 1.02-.2 1.41-.59l7.78-7.78 2.81-2.81c.8-.78.8-2.07 0-2.86zM5.41 20L4 18.59l7.72-7.72 1.47 1.35L5.41 20z\"/>\n",
              "  </svg>\n",
              "      </button>\n",
              "      \n",
              "  <style>\n",
              "    .colab-df-container {\n",
              "      display:flex;\n",
              "      flex-wrap:wrap;\n",
              "      gap: 12px;\n",
              "    }\n",
              "\n",
              "    .colab-df-convert {\n",
              "      background-color: #E8F0FE;\n",
              "      border: none;\n",
              "      border-radius: 50%;\n",
              "      cursor: pointer;\n",
              "      display: none;\n",
              "      fill: #1967D2;\n",
              "      height: 32px;\n",
              "      padding: 0 0 0 0;\n",
              "      width: 32px;\n",
              "    }\n",
              "\n",
              "    .colab-df-convert:hover {\n",
              "      background-color: #E2EBFA;\n",
              "      box-shadow: 0px 1px 2px rgba(60, 64, 67, 0.3), 0px 1px 3px 1px rgba(60, 64, 67, 0.15);\n",
              "      fill: #174EA6;\n",
              "    }\n",
              "\n",
              "    [theme=dark] .colab-df-convert {\n",
              "      background-color: #3B4455;\n",
              "      fill: #D2E3FC;\n",
              "    }\n",
              "\n",
              "    [theme=dark] .colab-df-convert:hover {\n",
              "      background-color: #434B5C;\n",
              "      box-shadow: 0px 1px 3px 1px rgba(0, 0, 0, 0.15);\n",
              "      filter: drop-shadow(0px 1px 2px rgba(0, 0, 0, 0.3));\n",
              "      fill: #FFFFFF;\n",
              "    }\n",
              "  </style>\n",
              "\n",
              "      <script>\n",
              "        const buttonEl =\n",
              "          document.querySelector('#df-ae0a23e2-b185-40ec-9823-6a77fa1630b5 button.colab-df-convert');\n",
              "        buttonEl.style.display =\n",
              "          google.colab.kernel.accessAllowed ? 'block' : 'none';\n",
              "\n",
              "        async function convertToInteractive(key) {\n",
              "          const element = document.querySelector('#df-ae0a23e2-b185-40ec-9823-6a77fa1630b5');\n",
              "          const dataTable =\n",
              "            await google.colab.kernel.invokeFunction('convertToInteractive',\n",
              "                                                     [key], {});\n",
              "          if (!dataTable) return;\n",
              "\n",
              "          const docLinkHtml = 'Like what you see? Visit the ' +\n",
              "            '<a target=\"_blank\" href=https://colab.research.google.com/notebooks/data_table.ipynb>data table notebook</a>'\n",
              "            + ' to learn more about interactive tables.';\n",
              "          element.innerHTML = '';\n",
              "          dataTable['output_type'] = 'display_data';\n",
              "          await google.colab.output.renderOutput(dataTable, element);\n",
              "          const docLink = document.createElement('div');\n",
              "          docLink.innerHTML = docLinkHtml;\n",
              "          element.appendChild(docLink);\n",
              "        }\n",
              "      </script>\n",
              "    </div>\n",
              "  </div>\n",
              "  "
            ]
          },
          "metadata": {},
          "execution_count": 20
        }
      ]
    },
    {
      "cell_type": "markdown",
      "source": [
        "Mô tả trực quan hóa dữ liệu định lượng"
      ],
      "metadata": {
        "id": "FvmseNddAmGl"
      }
    },
    {
      "cell_type": "code",
      "source": [
        "import matplotlib.pyplot as plt\n",
        "%matplotlib inline"
      ],
      "metadata": {
        "id": "jqfRBypxAnmG"
      },
      "execution_count": null,
      "outputs": []
    },
    {
      "cell_type": "code",
      "source": [
        "boxplot = df_dl.boxplot(column=['Population', 'Murder.Rate'])"
      ],
      "metadata": {
        "colab": {
          "base_uri": "https://localhost:8080/",
          "height": 276
        },
        "id": "bJEgK1VWApMg",
        "outputId": "5584e30c-f049-48ec-959b-30ced9662c85"
      },
      "execution_count": null,
      "outputs": [
        {
          "output_type": "display_data",
          "data": {
            "text/plain": [
              "<Figure size 432x288 with 1 Axes>"
            ],
            "image/png": "[encoded data removed]"
          },
          "metadata": {
            "needs_background": "light"
          }
        }
      ]
    },
    {
      "cell_type": "code",
      "source": [
        "df_dl.boxplot(column=['Murder.Rate'])"
      ],
      "metadata": {
        "colab": {
          "base_uri": "https://localhost:8080/",
          "height": 284
        },
        "id": "Vy8k9tuAAqwt",
        "outputId": "b19122a1-dc16-45d4-b6ce-3b7909fc08bf"
      },
      "execution_count": null,
      "outputs": [
        {
          "output_type": "execute_result",
          "data": {
            "text/plain": [
              "<matplotlib.axes._subplots.AxesSubplot at 0x7f6f57c71590>"
            ]
          },
          "metadata": {},
          "execution_count": 23
        },
        {
          "output_type": "display_data",
          "data": {
            "text/plain": [
              "<Figure size 432x288 with 1 Axes>"
            ],
            "image/png": "[encoded data removed]"
          },
          "metadata": {
            "needs_background": "light"
          }
        }
      ]
    },
    {
      "cell_type": "markdown",
      "source": [
        "Xem xét mối quan hệ giữa 2 biến định lượng có thể sử dụng công cụ trực quan scatterplot"
      ],
      "metadata": {
        "id": "vMwq23m2AxXP"
      }
    },
    {
      "cell_type": "code",
      "source": [
        "sc = df_dl.plot.scatter(x ='Murder.Rate', y = 'Population', c = 'DarkBlue')"
      ],
      "metadata": {
        "colab": {
          "base_uri": "https://localhost:8080/",
          "height": 290
        },
        "id": "CJNwoow7AuCZ",
        "outputId": "fc30e270-0b47-412f-f1dd-a4e7093c6f3f"
      },
      "execution_count": null,
      "outputs": [
        {
          "output_type": "display_data",
          "data": {
            "text/plain": [
              "<Figure size 432x288 with 1 Axes>"
            ],
            "image/png": "[encoded data removed]"
          },
          "metadata": {
            "needs_background": "light"
          }
        }
      ]
    },
    {
      "cell_type": "markdown",
      "source": [
        "Mối quan hệ giữa 2 cột dữ liệu định lượng còn được biểu hiện qua hệ số tương quan (correlation). Trong pandas có thể tính hệ số này như sau:"
      ],
      "metadata": {
        "id": "mf3TlkQNA0HJ"
      }
    },
    {
      "cell_type": "code",
      "source": [
        "df_dl.corr(method='pearson')"
      ],
      "metadata": {
        "colab": {
          "base_uri": "https://localhost:8080/",
          "height": 112
        },
        "id": "-sGZj6LZA1-X",
        "outputId": "78adbc00-5873-4326-8eee-1bc4a5e0b88e"
      },
      "execution_count": null,
      "outputs": [
        {
          "output_type": "execute_result",
          "data": {
            "text/plain": [
              "             Population  Murder.Rate\n",
              "Population     1.000000     0.182069\n",
              "Murder.Rate    0.182069     1.000000"
            ],
            "text/html": [
              "\n",
              "  <div id=\"df-fea7d630-c716-43c8-a230-0488b513e3c1\">\n",
              "    <div class=\"colab-df-container\">\n",
              "      <div>\n",
              "<style scoped>\n",
              "    .dataframe tbody tr th:only-of-type {\n",
              "        vertical-align: middle;\n",
              "    }\n",
              "\n",
              "    .dataframe tbody tr th {\n",
              "        vertical-align: top;\n",
              "    }\n",
              "\n",
              "    .dataframe thead th {\n",
              "        text-align: right;\n",
              "    }\n",
              "</style>\n",
              "<table border=\"1\" class=\"dataframe\">\n",
              "  <thead>\n",
              "    <tr style=\"text-align: right;\">\n",
              "      <th></th>\n",
              "      <th>Population</th>\n",
              "      <th>Murder.Rate</th>\n",
              "    </tr>\n",
              "  </thead>\n",
              "  <tbody>\n",
              "    <tr>\n",
              "      <th>Population</th>\n",
              "      <td>1.000000</td>\n",
              "      <td>0.182069</td>\n",
              "    </tr>\n",
              "    <tr>\n",
              "      <th>Murder.Rate</th>\n",
              "      <td>0.182069</td>\n",
              "      <td>1.000000</td>\n",
              "    </tr>\n",
              "  </tbody>\n",
              "</table>\n",
              "</div>\n",
              "      <button class=\"colab-df-convert\" onclick=\"convertToInteractive('df-fea7d630-c716-43c8-a230-0488b513e3c1')\"\n",
              "              title=\"Convert this dataframe to an interactive table.\"\n",
              "              style=\"display:none;\">\n",
              "        \n",
              "  <svg xmlns=\"http://www.w3.org/2000/svg\" height=\"24px\"viewBox=\"0 0 24 24\"\n",
              "       width=\"24px\">\n",
              "    <path d=\"M0 0h24v24H0V0z\" fill=\"none\"/>\n",
              "    <path d=\"M18.56 5.44l.94 2.06.94-2.06 2.06-.94-2.06-.94-.94-2.06-.94 2.06-2.06.94zm-11 1L8.5 8.5l.94-2.06 2.06-.94-2.06-.94L8.5 2.5l-.94 2.06-2.06.94zm10 10l.94 2.06.94-2.06 2.06-.94-2.06-.94-.94-2.06-.94 2.06-2.06.94z\"/><path d=\"M17.41 7.96l-1.37-1.37c-.4-.4-.92-.59-1.43-.59-.52 0-1.04.2-1.43.59L10.3 9.45l-7.72 7.72c-.78.78-.78 2.05 0 2.83L4 21.41c.39.39.9.59 1.41.59.51 0 1.02-.2 1.41-.59l7.78-7.78 2.81-2.81c.8-.78.8-2.07 0-2.86zM5.41 20L4 18.59l7.72-7.72 1.47 1.35L5.41 20z\"/>\n",
              "  </svg>\n",
              "      </button>\n",
              "      \n",
              "  <style>\n",
              "    .colab-df-container {\n",
              "      display:flex;\n",
              "      flex-wrap:wrap;\n",
              "      gap: 12px;\n",
              "    }\n",
              "\n",
              "    .colab-df-convert {\n",
              "      background-color: #E8F0FE;\n",
              "      border: none;\n",
              "      border-radius: 50%;\n",
              "      cursor: pointer;\n",
              "      display: none;\n",
              "      fill: #1967D2;\n",
              "      height: 32px;\n",
              "      padding: 0 0 0 0;\n",
              "      width: 32px;\n",
              "    }\n",
              "\n",
              "    .colab-df-convert:hover {\n",
              "      background-color: #E2EBFA;\n",
              "      box-shadow: 0px 1px 2px rgba(60, 64, 67, 0.3), 0px 1px 3px 1px rgba(60, 64, 67, 0.15);\n",
              "      fill: #174EA6;\n",
              "    }\n",
              "\n",
              "    [theme=dark] .colab-df-convert {\n",
              "      background-color: #3B4455;\n",
              "      fill: #D2E3FC;\n",
              "    }\n",
              "\n",
              "    [theme=dark] .colab-df-convert:hover {\n",
              "      background-color: #434B5C;\n",
              "      box-shadow: 0px 1px 3px 1px rgba(0, 0, 0, 0.15);\n",
              "      filter: drop-shadow(0px 1px 2px rgba(0, 0, 0, 0.3));\n",
              "      fill: #FFFFFF;\n",
              "    }\n",
              "  </style>\n",
              "\n",
              "      <script>\n",
              "        const buttonEl =\n",
              "          document.querySelector('#df-fea7d630-c716-43c8-a230-0488b513e3c1 button.colab-df-convert');\n",
              "        buttonEl.style.display =\n",
              "          google.colab.kernel.accessAllowed ? 'block' : 'none';\n",
              "\n",
              "        async function convertToInteractive(key) {\n",
              "          const element = document.querySelector('#df-fea7d630-c716-43c8-a230-0488b513e3c1');\n",
              "          const dataTable =\n",
              "            await google.colab.kernel.invokeFunction('convertToInteractive',\n",
              "                                                     [key], {});\n",
              "          if (!dataTable) return;\n",
              "\n",
              "          const docLinkHtml = 'Like what you see? Visit the ' +\n",
              "            '<a target=\"_blank\" href=https://colab.research.google.com/notebooks/data_table.ipynb>data table notebook</a>'\n",
              "            + ' to learn more about interactive tables.';\n",
              "          element.innerHTML = '';\n",
              "          dataTable['output_type'] = 'display_data';\n",
              "          await google.colab.output.renderOutput(dataTable, element);\n",
              "          const docLink = document.createElement('div');\n",
              "          docLink.innerHTML = docLinkHtml;\n",
              "          element.appendChild(docLink);\n",
              "        }\n",
              "      </script>\n",
              "    </div>\n",
              "  </div>\n",
              "  "
            ]
          },
          "metadata": {},
          "execution_count": 25
        }
      ]
    },
    {
      "cell_type": "markdown",
      "source": [
        "**Tương quan** là một thước đo thống kê được tiêu chuẩn hóa thể hiện mức độ mà hai biến có liên quan tuyến tính với nhau (nghĩa là chúng thay đổi cùng nhau với tốc độ không đổi bao nhiêu). Độ mạnh và sự kết hợp định hướng của mối quan hệ giữa hai biến được xác định theo mối tương quan và nó nằm trong khoảng từ -1 đến +1. Tương tự như hiệp phương sai, giá trị dương biểu thị rằng cả hai biến chuyển động theo cùng một hướng trong khi giá trị âm cho chúng ta biết rằng chúng di chuyển theo các hướng ngược nhau."
      ],
      "metadata": {
        "id": "GQ7tElbD-ITP"
      }
    },
    {
      "cell_type": "markdown",
      "source": [
        "# **# BÀI TẬP: Bạn hãy tìm hiểu về hệ số tương quan (correlation), cách đọc và giải thích ý nghĩa hệ số tương quan.**"
      ],
      "metadata": {
        "id": "ydxfpuKtA5aL"
      }
    },
    {
      "cell_type": "markdown",
      "source": [
        "# **Tính toán hệ số tương quan**"
      ],
      "metadata": {
        "id": "mDQ87tXX6bMy"
      }
    },
    {
      "cell_type": "markdown",
      "source": [
        "Để thể hiện mối quan hệ giữa 2 biến là “mạnh” hay “yếu”, chúng ta sử dụng correlation thay cho covariance.\n",
        "\n",
        "![image.png](data:image/png;base64,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)\n",
        "\n",
        "* xi, yi - are individual elements of the x and y series (xi, yi - là các phần tử riêng lẻ của chuỗi x và y)\n",
        "* The numerator corresponds to the covariance (Tử số tương ứng với hiệp phương sai)\n",
        "* The denominators correspond to the individual standard deviations of x and y \n",
        "\n",
        "    (Các mẫu số tương ứng với độ lệch chuẩn riêng của x và y)"
      ],
      "metadata": {
        "id": "UnFxTCuE6gZL"
      }
    },
    {
      "cell_type": "markdown",
      "source": [
        "# **Hệ số tương quan là gì**"
      ],
      "metadata": {
        "id": "gColIQRCB7st"
      }
    },
    {
      "cell_type": "markdown",
      "source": [
        "Hệ số tương quan hay Correlation Coefficient là chỉ số đo thống kê giữa 2 biến số với nhau. Qua đó có thể thấy được độ mạnh yếu của mối quan hệ. Giá trị của hệ số nằm trong khoảng -1,0 đến 1,0. Nếu giá trị thu được ngoài khoảng nghĩa là phép đo tương quan bị lỗi."
      ],
      "metadata": {
        "id": "-_1mHa9-CCEh"
      }
    },
    {
      "cell_type": "markdown",
      "source": [
        "Mỗi loại Correlation Coefficient được định nghĩa riêng, đặc tính và phạm vi sử dụng không giống nhau. Trong trường hợp Correlation Coefficient mang giá trị âm (-) thì mối quan hệ giữa hai biến số được gọi là tương quan âm hay nghịch biến. Nếu giá trị bằng -1 là nghịch biến tuyệt đối.\n",
        "\n",
        "Hệ số tương quan nếu mang giá trị dương (+) thì 2 biến số có mối quan hệ tương quan dương hay còn gọi là đồng biến. Khi có giá trị bằng 1 đồng biến chỉ ra mối liên hệ thuận tuyệt đối, biến này tăng thì biến kia sẽ tăng và ngược lại. Hệ số này bằng 0,0 có nghĩa giữa chuyển động của hai biến không có mối quan hệ tuyến tính."
      ],
      "metadata": {
        "id": "M0Hnj-e6CU5J"
      }
    },
    {
      "cell_type": "markdown",
      "source": [
        "# **Ý nghĩa của hệ số tương quan**\n",
        "\n",
        "Độ mạnh yếu của mối quan hệ giữa 2 biến phụ thuộc vào giá trị của hệ số tương quan.  Dựa vào hệ số này có thể thấy được mối tương quan giữa hai biến số. Đây là công cụ phân tích hiệu quả, các hệ số tương quan thể hệ ở một số vấn đề nhất định. Có thể là khuynh hướng của yếu tố ảnh hưởng hay khả năng sử dụng tương đối.\n",
        "\n",
        "Các nhà phân tích trong một lĩnh vực nào sẽ có cách nhận định riêng về hệ số tương quan. Nếu giá trị không vượt quá 0,8 có thể không cần chú ý đến mối tương quan giữa 2 biến. Tuy nhiên trường hợp hệ số này từ 0,9 trở lên có thể đánh giá được mối quan hệ chặt chẽ giữa các biến."
      ],
      "metadata": {
        "id": "JNeIUmDICrry"
      }
    }
  ]
}