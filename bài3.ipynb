{
  "nbformat": 4,
  "nbformat_minor": 0,
  "metadata": {
    "colab": {
      "name": "bài3.ipynb",
      "provenance": [],
      "include_colab_link": true
    },
    "kernelspec": {
      "name": "python3",
      "display_name": "Python 3"
    },
    "language_info": {
      "name": "python"
    }
  },
  "cells": [
    {
      "cell_type": "markdown",
      "metadata": {
        "id": "view-in-github",
        "colab_type": "text"
      },
      "source": [
        "<a href=\"https://colab.research.google.com/github/hoangnuthuphuong/python/blob/Phuong/b%C3%A0i3.ipynb\" target=\"_parent\"><img src=\"https://colab.research.google.com/assets/colab-badge.svg\" alt=\"Open In Colab\"/></a>"
      ]
    },
    {
      "cell_type": "code",
      "metadata": {
        "colab": {
          "base_uri": "https://localhost:8080/"
        },
        "id": "Dzgb-ImRLP5H",
        "outputId": "220c7665-36b4-40de-e2c3-27e5bd53b2f1"
      },
      "source": [
        "#khởi tạo list:\n",
        "list1 = ['physics', 'chemistry', 1997, 2000]\n",
        "list2 = [1, 2, 3, 4, 5, 6, 7 ]\n",
        "#truy xuất đến các phần tử trong list:\n",
        "print(\"list1[0]: \", list1[0])\n",
        "print(\"list2[1:5]: \", list2[1:5])\n",
        "# thay đổi giá trị của phần tử trong list:\n",
        "list1[2] = 2001\n",
        "print(\"New value available at index 2 : \")\n",
        "print(list1[2])\n",
        "#xóa ptu trong list\n",
        "del list1[2]\n",
        "print(\"After deleting value at index 2 : \")\n",
        "print(list1)\n",
        "#so phần tử trong list:\n",
        "len1=len(list1)\n",
        "print(len1)\n",
        "#them ptu cho list:\n",
        "list1.append(\"TAN KO VUI\")\n",
        "print(list1)"
      ],
      "execution_count": null,
      "outputs": [
        {
          "output_type": "stream",
          "name": "stdout",
          "text": [
            "list1[0]:  physics\n",
            "list2[1:5]:  [2, 3, 4, 5]\n",
            "New value available at index 2 : \n",
            "2001\n",
            "After deleting value at index 2 : \n",
            "['physics', 'chemistry', 2000]\n",
            "3\n",
            "['physics', 'chemistry', 2000, 'TAN KO VUI']\n"
          ]
        }
      ]
    },
    {
      "cell_type": "code",
      "metadata": {
        "colab": {
          "base_uri": "https://localhost:8080/"
        },
        "id": "IXmJUpCPOX5T",
        "outputId": "3a98ae75-15c7-4203-f622-9eaf200f4dc2"
      },
      "source": [
        "import time;\n",
        "ticks = time.time()\n",
        "print(\"Number of ticks since 12:00am, January 1, 1970:\", ticks)\n",
        "\n",
        "localtime = time.localtime(time.time())\n",
        "print(\"Local current time :\", localtime)"
      ],
      "execution_count": null,
      "outputs": [
        {
          "output_type": "stream",
          "name": "stdout",
          "text": [
            "Number of ticks since 12:00am, January 1, 1970: 1632963764.3923686\n",
            "Local current time : time.struct_time(tm_year=2021, tm_mon=9, tm_mday=30, tm_hour=1, tm_min=2, tm_sec=44, tm_wday=3, tm_yday=273, tm_isdst=0)\n"
          ]
        }
      ]
    },
    {
      "cell_type": "code",
      "metadata": {
        "id": "oZXa6OjhPF_v"
      },
      "source": [
        "#khoi tạo dictionary:\n",
        "dict = {'Name': 'TAN VUI VE', 'Age': 10, 'Class': 'First'}\n",
        "dict['Age'] = 8; # update existing entry\n",
        "dict['School'] = \"DPS School\"; # Add new entry\n",
        "print(\"dict['Age']: \", dict['Age'])\n",
        "print(\"dict['School']: \", dict['School'])\n",
        "dict = {'Name': 'Zara', 'Age': 7, 'Class': 'First'}\n",
        "del dict['Name'] # remove entry with key 'Name'\n",
        "dict.clear() # remove all entries in dict\n",
        "del dict "
      ],
      "execution_count": null,
      "outputs": []
    }
  ]
}