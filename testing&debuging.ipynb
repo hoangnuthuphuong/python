{
  "nbformat": 4,
  "nbformat_minor": 0,
  "metadata": {
    "colab": {
      "name": "testing&debuging",
      "private_outputs": true,
      "provenance": [],
      "collapsed_sections": [],
      "authorship_tag": "ABX9TyPO9VUo9Ac2w6q5jZXx8Zaw",
      "include_colab_link": true
    },
    "kernelspec": {
      "name": "python3",
      "display_name": "Python 3"
    },
    "language_info": {
      "name": "python"
    }
  },
  "cells": [
    {
      "cell_type": "markdown",
      "metadata": {
        "id": "view-in-github",
        "colab_type": "text"
      },
      "source": [
        "<a href=\"https://colab.research.google.com/github/hoangnuthuphuong/python/blob/Phuong/testing%26debuging.ipynb\" target=\"_parent\"><img src=\"https://colab.research.google.com/assets/colab-badge.svg\" alt=\"Open In Colab\"/></a>"
      ]
    },
    {
      "cell_type": "code",
      "metadata": {
        "id": "l7PCtacm3NDt"
      },
      "source": [
        "n=int(input(\" Nhập số nguyên dương: \")) \n",
        "if n<=0:\n",
        "   n=int(input(\"Nhập lại số nguyên dương: \"))\n",
        "i=1\n",
        "s=1\n",
        "while i <= n:\n",
        "  s=s*i\n",
        "  i+=1\n",
        "print(\"Giai thừa só cần tìm là: \",s)"
      ],
      "execution_count": null,
      "outputs": []
    }
  ]
}