{
  "nbformat": 4,
  "nbformat_minor": 0,
  "metadata": {
    "colab": {
      "name": "Pandas01",
      "private_outputs": true,
      "provenance": [],
      "collapsed_sections": [],
      "authorship_tag": "ABX9TyO/vA1g/djOutAMJEbce8js",
      "include_colab_link": true
    },
    "kernelspec": {
      "name": "python3",
      "display_name": "Python 3"
    },
    "language_info": {
      "name": "python"
    }
  },
  "cells": [
    {
      "cell_type": "markdown",
      "metadata": {
        "id": "view-in-github",
        "colab_type": "text"
      },
      "source": [
        "<a href=\"https://colab.research.google.com/github/hoangnuthuphuong/python/blob/Phuong/Pandas01.ipynb\" target=\"_parent\"><img src=\"https://colab.research.google.com/assets/colab-badge.svg\" alt=\"Open In Colab\"/></a>"
      ]
    },
    {
      "cell_type": "markdown",
      "source": [
        "Câu 1: Khởi tạo 1 Series với giá trị rỗng"
      ],
      "metadata": {
        "id": "fhslHDiVIA3W"
      }
    },
    {
      "cell_type": "code",
      "execution_count": null,
      "metadata": {
        "id": "K_RklSuhHJl9"
      },
      "outputs": [],
      "source": [
        "import pandas\n",
        "pandas.Series()\n"
      ]
    },
    {
      "cell_type": "markdown",
      "source": [
        "Câu 2: Giả sử có 1 vector hàng a có kích thước (1x7) được biểu diễn trong NumPy, hãy tạo 1\n",
        "series tương ứng với các giá trị được sinh ngẫu nhiên."
      ],
      "metadata": {
        "id": "huYXJQWSIIrl"
      }
    },
    {
      "cell_type": "code",
      "source": [
        "import numpy\n",
        "a = numpy.random.randint(0,50,[1,7])\n",
        "pandas.Series([a])"
      ],
      "metadata": {
        "id": "YHY8aOLAH3Sv"
      },
      "execution_count": null,
      "outputs": []
    },
    {
      "cell_type": "markdown",
      "source": [
        "Câu 3: Giả sử có 1 vector hàng a có kích thước (1x7), hãy nhập các giá trị cho 7 phần tử này từ\n",
        "bàn phím và tạo series tương ứng."
      ],
      "metadata": {
        "id": "GhFFm7tkJmfu"
      }
    },
    {
      "cell_type": "code",
      "source": [
        "A = numpy.arange(1, 8, 1)\n",
        "b = []\n",
        "for i in range(1, 8):\n",
        "  print(\"Nhập phần tử thứ\", i, \"=\", end = \" \")\n",
        "  b.append(int(input()))\n",
        "print(A)\n",
        "s = pandas.Series(b , A, int)\n",
        "print(s)"
      ],
      "metadata": {
        "id": "xrer3MmiIOph"
      },
      "execution_count": null,
      "outputs": []
    },
    {
      "cell_type": "markdown",
      "source": [
        "Câu 4: Giả sử có 1 vector cột có kích thước (7x1) được biểu diễn trong NumPy, hãy tạo Series\n",
        "tương ứng."
      ],
      "metadata": {
        "id": "IKjqRs2tK5xy"
      }
    },
    {
      "cell_type": "code",
      "source": [
        "for i in 7:\n",
        "  i+=1\n",
        "  i=1\n",
        "  a=numpy.array(input(\"Nhập phần tử\",i,\":\"))\n",
        "  Series.append(a[i])\n",
        "  pandas.Series([i])"
      ],
      "metadata": {
        "id": "KZPTGMYFJwLC"
      },
      "execution_count": null,
      "outputs": []
    },
    {
      "cell_type": "markdown",
      "source": [
        "Câu 5: Chuyển đổi dữ liệu, hãy thực hiện các yêu cầu sau:\n",
        "- Chuyển 1 list thành 1 series\n",
        "- Chuyển 1 tuple thành 1 series\n",
        "- Chuyển 1 dictionary thành 1 series"
      ],
      "metadata": {
        "id": "l9uL4dbdM1Me"
      }
    },
    {
      "cell_type": "code",
      "source": [
        "n = int(input(\"Số phần tử của list: \"))\n",
        "list1 = list(range(n))\n",
        "print(list1)\n",
        "print(\"Chuyển list thành series: \",pandas.Series([list1]))\n"
      ],
      "metadata": {
        "id": "DSQg62RyNx_n"
      },
      "execution_count": null,
      "outputs": []
    },
    {
      "cell_type": "code",
      "source": [
        "n = int(input(\"Số phần tử của tuple: \"))\n",
        "tuple1 = tuple(range(n))\n",
        "print(tuple)\n",
        "print(\"Chuyển tuple thành series: \",pandas.Series([tuple1]))"
      ],
      "metadata": {
        "id": "J3aaDyaYOtpn"
      },
      "execution_count": null,
      "outputs": []
    },
    {
      "cell_type": "code",
      "source": [
        "dic1 = {'phuong': 'Cute', 'birthday': 17}\n",
        "print(dic1)\n",
        "print(\"Chuyển dictionary thành series:\\n \", pandas.Series(dic1))"
      ],
      "metadata": {
        "id": "QsksCDaVQQ9G"
      },
      "execution_count": null,
      "outputs": []
    },
    {
      "cell_type": "markdown",
      "source": [
        "Câu 6: Mỗi phần tử của series đều gắn liền với các chỉ số (index) tương ứng, hãy tạo một series\n",
        "có kích thước (1x20) với giá trị ngẫu nhiên:\n",
        "- Xuất series ra màn hình\n",
        "- Xuất các chỉ số của series ra màn hình\n",
        "- Thay đổi cách đánh chỉ số mặc định của series từ đánh chỉ số bằng số nguyên sang các kiểu\n",
        "đánh chỉ số bằng label và in kết quả ra màn hình\n",
        "Gợi ý:\n",
        "- Hàm loc() dùng cho chỉ số label\n",
        "- Hàm iloc() dùng cho chỉ số đạng số nguyên\n",
        "- Hàm ix(): dùng cho cả 2 loại chỉ số trên"
      ],
      "metadata": {
        "id": "LDiS35xRRH-z"
      }
    },
    {
      "cell_type": "code",
      "source": [
        "x = numpy.random.randint(1,20,[1,20])\n",
        "print(pandas.Series([x]))"
      ],
      "metadata": {
        "id": "9RjCaRfUQ5EA"
      },
      "execution_count": null,
      "outputs": []
    },
    {
      "cell_type": "markdown",
      "source": [
        "Câu 7: Giả sử có series có kích thước (1x10), giá trị ngẫu nhiên, index được đánh từ ‘a’ trở đi,\n",
        "hãy:\n",
        "- Trích xuất các phần tử của Series có chỉ số là ‘a’, ‘c’, ‘e’\n",
        "- Trích xuất các phần tử của Series có chỉ số từ 3 đến 6"
      ],
      "metadata": {
        "id": "2GLzV0gEVje4"
      }
    },
    {
      "cell_type": "code",
      "source": [
        "a = pandas.Series(numpy.random.randint(1,10,[10]))\n",
        "l2 = ['a','b','c','d','e','f','g','h','l','m']\n",
        "a.index = l2\n",
        "print(b)\n",
        "print(\"chi so a: \",a.loc['a'])\n",
        "print(\"chi so c: \",a.loc['c'])\n",
        "print(\"chi so e: \",a.loc['e'])"
      ],
      "metadata": {
        "id": "asH6CZJQRgsP"
      },
      "execution_count": null,
      "outputs": []
    },
    {
      "cell_type": "code",
      "source": [
        "b = pandas.Series(numpy.random.randint(1,10,[10]))\n",
        "print(b)\n",
        "print(\"Các phần tử của Series có chỉ số từ 3 đến 6:\\n\",b.iloc[2:7])"
      ],
      "metadata": {
        "id": "k2WDnoWFVzWI"
      },
      "execution_count": null,
      "outputs": []
    },
    {
      "cell_type": "code",
      "source": [
        ""
      ],
      "metadata": {
        "id": "3cmRixooWMqn"
      },
      "execution_count": null,
      "outputs": []
    }
  ]
}