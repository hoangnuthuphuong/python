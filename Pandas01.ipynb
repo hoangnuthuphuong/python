{
  "nbformat": 4,
  "nbformat_minor": 0,
  "metadata": {
    "colab": {
      "name": "Pandas01",
      "provenance": [],
      "collapsed_sections": [],
      "authorship_tag": "ABX9TyMnG3+ZeG5qfURJvCTt6cWs",
      "include_colab_link": true
    },
    "kernelspec": {
      "name": "python3",
      "display_name": "Python 3"
    },
    "language_info": {
      "name": "python"
    }
  },
  "cells": [
    {
      "cell_type": "markdown",
      "metadata": {
        "id": "view-in-github",
        "colab_type": "text"
      },
      "source": [
        "<a href=\"https://colab.research.google.com/github/hoangnuthuphuong/python/blob/Phuong/Pandas01.ipynb\" target=\"_parent\"><img src=\"https://colab.research.google.com/assets/colab-badge.svg\" alt=\"Open In Colab\"/></a>"
      ]
    },
    {
      "cell_type": "markdown",
      "source": [
        "Câu 1: Khởi tạo 1 Series với giá trị rỗng"
      ],
      "metadata": {
        "id": "fhslHDiVIA3W"
      }
    },
    {
      "cell_type": "code",
      "execution_count": 4,
      "metadata": {
        "id": "K_RklSuhHJl9",
        "colab": {
          "base_uri": "https://localhost:8080/"
        },
        "outputId": "25fcd42f-62c7-488f-f787-ed92eaf39253"
      },
      "outputs": [
        {
          "output_type": "stream",
          "name": "stderr",
          "text": [
            "/usr/local/lib/python3.7/dist-packages/ipykernel_launcher.py:2: DeprecationWarning: The default dtype for empty Series will be 'object' instead of 'float64' in a future version. Specify a dtype explicitly to silence this warning.\n",
            "  \n"
          ]
        }
      ],
      "source": [
        "import pandas\n",
        "pandas.Series()\n",
        "import numpy\n"
      ]
    },
    {
      "cell_type": "markdown",
      "source": [
        "Câu 2: Giả sử có 1 vector hàng a có kích thước (1x7) được biểu diễn trong NumPy, hãy tạo 1\n",
        "series tương ứng với các giá trị được sinh ngẫu nhiên."
      ],
      "metadata": {
        "id": "huYXJQWSIIrl"
      }
    },
    {
      "cell_type": "code",
      "source": [
        "a = numpy.random.randint(0,50,[1,7])\n",
        "pandas.Series([a])"
      ],
      "metadata": {
        "id": "YHY8aOLAH3Sv",
        "colab": {
          "base_uri": "https://localhost:8080/"
        },
        "outputId": "2b98c598-a09e-4b48-930c-301fb76c8e0e"
      },
      "execution_count": 5,
      "outputs": [
        {
          "output_type": "execute_result",
          "data": {
            "text/plain": [
              "0    [[49, 27, 6, 49, 8, 15, 42]]\n",
              "dtype: object"
            ]
          },
          "metadata": {},
          "execution_count": 5
        }
      ]
    },
    {
      "cell_type": "markdown",
      "source": [
        "Câu 3: Giả sử có 1 vector hàng a có kích thước (1x7), hãy nhập các giá trị cho 7 phần tử này từ\n",
        "bàn phím và tạo series tương ứng."
      ],
      "metadata": {
        "id": "GhFFm7tkJmfu"
      }
    },
    {
      "cell_type": "code",
      "source": [
        "A = numpy.arange(1, 8, 1)\n",
        "b = []\n",
        "for i in range(1, 8):\n",
        "  print(\"Nhập phần tử thứ\", i, \"=\", end = \" \")\n",
        "  b.append(int(input()))\n",
        "print(A)\n",
        "s = pandas.Series(b , A, int)\n",
        "print(s)"
      ],
      "metadata": {
        "id": "xrer3MmiIOph",
        "colab": {
          "base_uri": "https://localhost:8080/"
        },
        "outputId": "70a58434-1811-4349-9d8a-2ef7a1de02b7"
      },
      "execution_count": 6,
      "outputs": [
        {
          "output_type": "stream",
          "name": "stdout",
          "text": [
            "Nhập phần tử thứ 1 = 2\n",
            "Nhập phần tử thứ 2 = 4\n",
            "Nhập phần tử thứ 3 = 5\n",
            "Nhập phần tử thứ 4 = 6\n",
            "Nhập phần tử thứ 5 = 2\n",
            "Nhập phần tử thứ 6 = 1\n",
            "Nhập phần tử thứ 7 = 1\n",
            "[1 2 3 4 5 6 7]\n",
            "1    2\n",
            "2    4\n",
            "3    5\n",
            "4    6\n",
            "5    2\n",
            "6    1\n",
            "7    1\n",
            "dtype: int64\n"
          ]
        }
      ]
    },
    {
      "cell_type": "markdown",
      "source": [
        "Câu 4: Giả sử có 1 vector cột có kích thước (7x1) được biểu diễn trong NumPy, hãy tạo Series\n",
        "tương ứng."
      ],
      "metadata": {
        "id": "IKjqRs2tK5xy"
      }
    },
    {
      "cell_type": "code",
      "source": [
        "a = numpy.random.randint(1,10,[7,1])\n",
        "print(\"vector cột: \")\n",
        "print(a)\n",
        "b = a.reshape(7,)\n",
        "print(\"series tương ứng\")\n",
        "print(pandas.Series(b))"
      ],
      "metadata": {
        "id": "KZPTGMYFJwLC",
        "colab": {
          "base_uri": "https://localhost:8080/"
        },
        "outputId": "615b13ca-e506-43bc-8e43-e365f3d1d9bf"
      },
      "execution_count": 7,
      "outputs": [
        {
          "output_type": "stream",
          "name": "stdout",
          "text": [
            "vector cột: \n",
            "[[6]\n",
            " [7]\n",
            " [3]\n",
            " [1]\n",
            " [8]\n",
            " [9]\n",
            " [2]]\n",
            "series tương ứng\n",
            "0    6\n",
            "1    7\n",
            "2    3\n",
            "3    1\n",
            "4    8\n",
            "5    9\n",
            "6    2\n",
            "dtype: int64\n"
          ]
        }
      ]
    },
    {
      "cell_type": "markdown",
      "source": [
        "Câu 5: Chuyển đổi dữ liệu, hãy thực hiện các yêu cầu sau:\n",
        "- Chuyển 1 list thành 1 series\n",
        "- Chuyển 1 tuple thành 1 series\n",
        "- Chuyển 1 dictionary thành 1 series"
      ],
      "metadata": {
        "id": "l9uL4dbdM1Me"
      }
    },
    {
      "cell_type": "code",
      "source": [
        "n = int(input(\"Số phần tử của list: \"))\n",
        "list1 = list(range(n))\n",
        "print(list1)\n",
        "print(\"Chuyển list thành series: \",pandas.Series([list1]))\n"
      ],
      "metadata": {
        "id": "DSQg62RyNx_n",
        "colab": {
          "base_uri": "https://localhost:8080/"
        },
        "outputId": "b15d7ddd-ed7a-4dfc-ad59-5429b2bc890f"
      },
      "execution_count": 8,
      "outputs": [
        {
          "output_type": "stream",
          "name": "stdout",
          "text": [
            "Số phần tử của list: 4\n",
            "[0, 1, 2, 3]\n",
            "Chuyển list thành series:  0    [0, 1, 2, 3]\n",
            "dtype: object\n"
          ]
        }
      ]
    },
    {
      "cell_type": "code",
      "source": [
        "n = int(input(\"Số phần tử của tuple: \"))\n",
        "tuple1 = tuple(range(n))\n",
        "print(tuple)\n",
        "print(\"Chuyển tuple thành series: \",pandas.Series([tuple1]))"
      ],
      "metadata": {
        "id": "J3aaDyaYOtpn",
        "colab": {
          "base_uri": "https://localhost:8080/"
        },
        "outputId": "ad7ccb60-68ad-474b-840c-2fcfb795c27c"
      },
      "execution_count": null,
      "outputs": [
        {
          "output_type": "stream",
          "name": "stdout",
          "text": [
            "Số phần tử của tuple: 5\n",
            "<class 'tuple'>\n",
            "Chuyển tuple thành series:  0    (0, 1, 2, 3, 4)\n",
            "dtype: object\n"
          ]
        }
      ]
    },
    {
      "cell_type": "code",
      "source": [
        "dic1 = {'phuong': 'Cute', 'birthday': 17}\n",
        "print(dic1)\n",
        "print(\"Chuyển dictionary thành series:\\n \", pandas.Series(dic1))"
      ],
      "metadata": {
        "id": "QsksCDaVQQ9G",
        "colab": {
          "base_uri": "https://localhost:8080/"
        },
        "outputId": "3c043023-f894-4c9a-b657-97063be948d5"
      },
      "execution_count": null,
      "outputs": [
        {
          "output_type": "stream",
          "name": "stdout",
          "text": [
            "{'phuong': 'Cute', 'birthday': 17}\n",
            "Chuyển dictionary thành series:\n",
            "  phuong      Cute\n",
            "birthday      17\n",
            "dtype: object\n"
          ]
        }
      ]
    },
    {
      "cell_type": "markdown",
      "source": [
        "Câu 6: Mỗi phần tử của series đều gắn liền với các chỉ số (index) tương ứng, hãy tạo một series\n",
        "có kích thước (1x20) với giá trị ngẫu nhiên:\n",
        "- Xuất series ra màn hình\n",
        "- Xuất các chỉ số của series ra màn hình\n",
        "- Thay đổi cách đánh chỉ số mặc định của series từ đánh chỉ số bằng số nguyên sang các kiểu\n",
        "đánh chỉ số bằng label và in kết quả ra màn hình\n",
        "Gợi ý:\n",
        "- Hàm loc() dùng cho chỉ số label\n",
        "- Hàm iloc() dùng cho chỉ số đạng số nguyên\n",
        "- Hàm ix(): dùng cho cả 2 loại chỉ số trên"
      ],
      "metadata": {
        "id": "LDiS35xRRH-z"
      }
    },
    {
      "cell_type": "code",
      "source": [
        "x = numpy.random.randint(1,20,[1,20])\n",
        "print(pandas.Series([x]))"
      ],
      "metadata": {
        "id": "9RjCaRfUQ5EA",
        "colab": {
          "base_uri": "https://localhost:8080/"
        },
        "outputId": "4daceacb-e3d8-48c0-fcbe-35848f369c28"
      },
      "execution_count": null,
      "outputs": [
        {
          "output_type": "stream",
          "name": "stdout",
          "text": [
            "0    [[9, 4, 2, 5, 18, 9, 16, 9, 10, 2, 17, 17, 9, ...\n",
            "dtype: object\n"
          ]
        }
      ]
    },
    {
      "cell_type": "markdown",
      "source": [
        "Câu 7: Giả sử có series có kích thước (1x10), giá trị ngẫu nhiên, index được đánh từ ‘a’ trở đi,\n",
        "hãy:\n",
        "- Trích xuất các phần tử của Series có chỉ số là ‘a’, ‘c’, ‘e’\n",
        "- Trích xuất các phần tử của Series có chỉ số từ 3 đến 6"
      ],
      "metadata": {
        "id": "2GLzV0gEVje4"
      }
    },
    {
      "cell_type": "code",
      "source": [
        "a = pandas.Series(numpy.random.randint(1,10,[10]))\n",
        "l2 = ['a','b','c','d','e','f','g','h','l','m']\n",
        "a.index = l2\n",
        "print(b)\n",
        "print(\"chỉ số a: \",a.loc['a'])\n",
        "print(\"chỉ số c: \",a.loc['c'])\n",
        "print(\"chỉ số e: \",a.loc['e'])"
      ],
      "metadata": {
        "id": "asH6CZJQRgsP",
        "colab": {
          "base_uri": "https://localhost:8080/"
        },
        "outputId": "85ee1da3-b0ce-4963-fafe-8f6e7fe20469"
      },
      "execution_count": 9,
      "outputs": [
        {
          "output_type": "stream",
          "name": "stdout",
          "text": [
            "[6 7 3 1 8 9 2]\n",
            "chỉ số a:  3\n",
            "chỉ số c:  3\n",
            "chỉ số e:  3\n"
          ]
        }
      ]
    },
    {
      "cell_type": "code",
      "source": [
        "b = pandas.Series(numpy.random.randint(1,10,[10]))\n",
        "print(b)\n",
        "print(\"Các phần tử của Series có chỉ số từ 3 đến 6:\\n\",b.iloc[2:7])"
      ],
      "metadata": {
        "id": "k2WDnoWFVzWI",
        "colab": {
          "base_uri": "https://localhost:8080/"
        },
        "outputId": "abab24c6-8eec-4c0a-e58e-4646c31b8138"
      },
      "execution_count": null,
      "outputs": [
        {
          "output_type": "stream",
          "name": "stdout",
          "text": [
            "0    1\n",
            "1    7\n",
            "2    3\n",
            "3    1\n",
            "4    8\n",
            "5    4\n",
            "6    4\n",
            "7    9\n",
            "8    5\n",
            "9    9\n",
            "dtype: int64\n",
            "Các phần tử của Series có chỉ số từ 3 đến 6:\n",
            " 2    3\n",
            "3    1\n",
            "4    8\n",
            "5    4\n",
            "6    4\n",
            "dtype: int64\n"
          ]
        }
      ]
    },
    {
      "cell_type": "code",
      "source": [
        ""
      ],
      "metadata": {
        "id": "3cmRixooWMqn"
      },
      "execution_count": null,
      "outputs": []
    }
  ]
}