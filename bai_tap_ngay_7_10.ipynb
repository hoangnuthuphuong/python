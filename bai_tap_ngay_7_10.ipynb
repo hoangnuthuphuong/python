{
  "nbformat": 4,
  "nbformat_minor": 0,
  "metadata": {
    "colab": {
      "name": "bai tap ngay 7/10",
      "provenance": [],
      "collapsed_sections": [],
      "include_colab_link": true
    },
    "kernelspec": {
      "display_name": "Python 3",
      "name": "python3"
    }
  },
  "cells": [
    {
      "cell_type": "markdown",
      "metadata": {
        "id": "view-in-github",
        "colab_type": "text"
      },
      "source": [
        "<a href=\"https://colab.research.google.com/github/hoangnuthuphuong/python/blob/Phuong/bai_tap_ngay_7_10.ipynb\" target=\"_parent\"><img src=\"https://colab.research.google.com/assets/colab-badge.svg\" alt=\"Open In Colab\"/></a>"
      ]
    },
    {
      "cell_type": "markdown",
      "metadata": {
        "id": "BWz0rAOqvrBz"
      },
      "source": [
        "#bài 1\n"
      ]
    },
    {
      "cell_type": "code",
      "metadata": {
        "colab": {
          "base_uri": "https://localhost:8080/"
        },
        "id": "bu3ocQT7PQYQ",
        "outputId": "eec3b84e-03c7-49cc-b747-5e69b4b30db3"
      },
      "source": [
        "a=1\n",
        "while a<11:\n",
        "  print(a)\n",
        "  a=a+1"
      ],
      "execution_count": 11,
      "outputs": [
        {
          "output_type": "stream",
          "name": "stdout",
          "text": [
            "1\n",
            "2\n",
            "3\n",
            "4\n",
            "5\n",
            "6\n",
            "7\n",
            "8\n",
            "9\n",
            "10\n"
          ]
        }
      ]
    },
    {
      "cell_type": "markdown",
      "metadata": {
        "id": "xt2L7kh5RztY"
      },
      "source": [
        "#bài2"
      ]
    },
    {
      "cell_type": "code",
      "metadata": {
        "colab": {
          "base_uri": "https://localhost:8080/"
        },
        "id": "JxN60hB8PxOK",
        "outputId": "6fc9abdd-e5e2-47db-9f15-1ba911e7691d"
      },
      "source": [
        "a=int(input(\"Nhập một số nguyên: \"))\n",
        "for i in range(0, a + 1):\n",
        "    for j in range(a-i,0,-1):\n",
        "        print(j, end=' ')\n",
        "    print()"
      ],
      "execution_count": 129,
      "outputs": [
        {
          "output_type": "stream",
          "name": "stdout",
          "text": [
            "Nhập một số nguyên: 5\n",
            "5 4 3 2 1 \n",
            "4 3 2 1 \n",
            "3 2 1 \n",
            "2 1 \n",
            "1 \n",
            "\n"
          ]
        }
      ]
    },
    {
      "cell_type": "markdown",
      "metadata": {
        "id": "Z_o0r25kR9LO"
      },
      "source": [
        "#bài3"
      ]
    },
    {
      "cell_type": "code",
      "metadata": {
        "colab": {
          "base_uri": "https://localhost:8080/"
        },
        "id": "h8DDX4CTQg63",
        "outputId": "13f138eb-0991-4d2d-eece-278caf5aef0d"
      },
      "source": [
        "tong=0\n",
        "a=int(input(\"Nhập một số nguyên: \"))\n",
        "while not a>0:\n",
        "    a=int(input(\"Mời nhập lại một số nguyên khác: \"))\n",
        "for i in range(1,a+1):\n",
        "    tong+=i\n",
        "print(\"Tổng các số từ 1 ->\",a,\"là:\",tong)"
      ],
      "execution_count": 32,
      "outputs": [
        {
          "output_type": "stream",
          "name": "stdout",
          "text": [
            "Nhập một số nguyên: 6\n",
            "Tổng các số từ 1 -> 6 là: 21\n"
          ]
        }
      ]
    },
    {
      "cell_type": "markdown",
      "metadata": {
        "id": "i0kS5C9BTThJ"
      },
      "source": [
        "#bài4 \n"
      ]
    },
    {
      "cell_type": "code",
      "metadata": {
        "colab": {
          "base_uri": "https://localhost:8080/"
        },
        "id": "Q9nLGzp6TBDu",
        "outputId": "4a020e12-26b6-475e-c047-33475527d9d5"
      },
      "source": [
        "a=int(input(\"bảng cửu chương: \"))\n",
        "i=i+1\n",
        "for i in range(1,11):\n",
        "  print(a,\"*\",i,\"=\",a*i)"
      ],
      "execution_count": 17,
      "outputs": [
        {
          "output_type": "stream",
          "name": "stdout",
          "text": [
            "bảng cửu chương: 5\n",
            "5 * 1 = 5\n",
            "5 * 2 = 10\n",
            "5 * 3 = 15\n",
            "5 * 4 = 20\n",
            "5 * 5 = 25\n",
            "5 * 6 = 30\n",
            "5 * 7 = 35\n",
            "5 * 8 = 40\n",
            "5 * 9 = 45\n",
            "5 * 10 = 50\n"
          ]
        }
      ]
    },
    {
      "cell_type": "markdown",
      "metadata": {
        "id": "movaT8gEUOwi"
      },
      "source": [
        "#bài5 "
      ]
    },
    {
      "cell_type": "code",
      "metadata": {
        "colab": {
          "base_uri": "https://localhost:8080/"
        },
        "id": "yNxuyy5dWAZl",
        "outputId": "647a0df6-7a61-4914-dfca-c367b6479d5a"
      },
      "source": [
        "list = [1,2,3,4,5,6,7,8,9,10]\n",
        "for num in list:\n",
        "    print(num)"
      ],
      "execution_count": 36,
      "outputs": [
        {
          "output_type": "stream",
          "name": "stdout",
          "text": [
            "1\n",
            "2\n",
            "3\n",
            "4\n",
            "5\n",
            "6\n",
            "7\n",
            "8\n",
            "9\n",
            "10\n"
          ]
        }
      ]
    },
    {
      "cell_type": "markdown",
      "metadata": {
        "id": "tiddlRArWBRl"
      },
      "source": [
        "#bài6 "
      ]
    },
    {
      "cell_type": "code",
      "metadata": {
        "colab": {
          "base_uri": "https://localhost:8080/"
        },
        "id": "wri_w709UKcK",
        "outputId": "5f2d7f98-aa63-4346-de9a-e4bcac0d8ad9"
      },
      "source": [
        "def tong(n):\n",
        "    s = 0;\n",
        "    while (n > 0):\n",
        "        s = s + n % 10;\n",
        "        n = int(n / 10);\n",
        "    return s;\n",
        "n = int(input(\"Nhập số nguyên dương n = \"));\n",
        "print(\"Tổng các chữ số của\", n , \"là\", tong(n));\n"
      ],
      "execution_count": 16,
      "outputs": [
        {
          "output_type": "stream",
          "name": "stdout",
          "text": [
            "Nhập số nguyên dương n = 414\n",
            "Tổng các chữ số của 414 là 9\n"
          ]
        }
      ]
    },
    {
      "cell_type": "markdown",
      "metadata": {
        "id": "pLfcAEV9Vint"
      },
      "source": [
        "#bài7 "
      ]
    },
    {
      "cell_type": "code",
      "metadata": {
        "colab": {
          "base_uri": "https://localhost:8080/"
        },
        "id": "sm0WoTAzUkPh",
        "outputId": "a86da4c8-50f2-4126-dc87-ea2b663bffbe"
      },
      "source": [
        "\n",
        "list=[1,2,3,4,5,6,7,8,9]\n",
        "for num in range(len(list),0,-1):\n",
        "  print(num)"
      ],
      "execution_count": 49,
      "outputs": [
        {
          "output_type": "stream",
          "name": "stdout",
          "text": [
            "9\n",
            "8\n",
            "7\n",
            "6\n",
            "5\n",
            "4\n",
            "3\n",
            "2\n",
            "1\n"
          ]
        }
      ]
    },
    {
      "cell_type": "markdown",
      "metadata": {
        "id": "Y6L5t0S2XYfD"
      },
      "source": [
        "#bài8 \n"
      ]
    },
    {
      "cell_type": "code",
      "metadata": {
        "colab": {
          "base_uri": "https://localhost:8080/"
        },
        "id": "9GY6nW5GUkJE",
        "outputId": "05833f52-96f7-40c2-eebd-ad6c4f7d48ba"
      },
      "source": [
        "for i in range(-10,0):\n",
        "  print(i)\n",
        "     "
      ],
      "execution_count": 51,
      "outputs": [
        {
          "output_type": "stream",
          "name": "stdout",
          "text": [
            "-10\n",
            "-9\n",
            "-8\n",
            "-7\n",
            "-6\n",
            "-5\n",
            "-4\n",
            "-3\n",
            "-2\n",
            "-1\n"
          ]
        }
      ]
    },
    {
      "cell_type": "markdown",
      "metadata": {
        "id": "GOKtZv5zd1RP"
      },
      "source": [
        "#bài10 \n"
      ]
    },
    {
      "cell_type": "code",
      "metadata": {
        "colab": {
          "base_uri": "https://localhost:8080/"
        },
        "id": "UMh3Kd6GX3CT",
        "outputId": "8c6c06ec-f333-4de5-daab-26ccc396f98d"
      },
      "source": [
        "a=int(input(\"nhập số bắt đầu: \"))\n",
        "b=int(input(\"nhập số kết thúc: \"))\n",
        "for num in range(a,b+1):\n",
        "   for i in range(2,num): \n",
        "      if num%i == 0: \n",
        "         j=num/i\n",
        "         break\n",
        "   else:\n",
        "      print (num, 'là số nguyên tố')"
      ],
      "execution_count": 58,
      "outputs": [
        {
          "output_type": "stream",
          "name": "stdout",
          "text": [
            "nhập số bắt đầu: 0\n",
            "nhập số kết thúc: 18\n",
            "0 là số nguyên tố\n",
            "1 là số nguyên tố\n",
            "2 là số nguyên tố\n",
            "3 là số nguyên tố\n",
            "5 là số nguyên tố\n",
            "7 là số nguyên tố\n",
            "11 là số nguyên tố\n",
            "13 là số nguyên tố\n",
            "17 là số nguyên tố\n"
          ]
        }
      ]
    },
    {
      "cell_type": "markdown",
      "metadata": {
        "id": "LWBbGlhwAr0O"
      },
      "source": [
        "#bài11 "
      ]
    },
    {
      "cell_type": "code",
      "metadata": {
        "colab": {
          "base_uri": "https://localhost:8080/"
        },
        "id": "wCCeq9oWEvHq",
        "outputId": "7660eb4f-62a1-4a1c-8a47-18d7acb68be7"
      },
      "source": [
        "a = int(input(\"nhập số:\"))\n",
        "n1, n2 = 0, 1\n",
        "i = 0\n",
        "if a <= 0:\n",
        "   print(\"nhập lại một số dương\")\n",
        "elif a == 1:\n",
        "   print(a)\n",
        "   print(n1)\n",
        "else:\n",
        "   print()\n",
        "   while i < a:\n",
        "       print(n1)\n",
        "       nth = n1 + n2\n",
        "       n1 = n2\n",
        "       n2 = nth\n",
        "       i += 1"
      ],
      "execution_count": 153,
      "outputs": [
        {
          "output_type": "stream",
          "name": "stdout",
          "text": [
            "nhập số:15\n",
            "\n",
            "0\n",
            "1\n",
            "1\n",
            "2\n",
            "3\n",
            "5\n",
            "8\n",
            "13\n",
            "21\n",
            "34\n",
            "55\n",
            "89\n",
            "144\n",
            "233\n",
            "377\n"
          ]
        }
      ]
    },
    {
      "cell_type": "markdown",
      "metadata": {
        "id": "QqMgIJcrj8TC"
      },
      "source": [
        "#bài 12 "
      ]
    },
    {
      "cell_type": "code",
      "metadata": {
        "colab": {
          "base_uri": "https://localhost:8080/"
        },
        "id": "q0QHYrI5hg8m",
        "outputId": "a10ccc3c-c12c-4650-a6bb-9c6bd9a888e8"
      },
      "source": [
        "def giaithua(n):\n",
        "    giaithua = 1;\n",
        "    if (n == 0 or n == 1):\n",
        "        return giaithua\n",
        "    else:\n",
        "        for i in range(2, n + 1):\n",
        "            giaithua = giaithua * i\n",
        "        return giaithua\n",
        " \n",
        "n = int(input(\"Nhập số nguyên dương n = \"))\n",
        "print(\"Giai thừa của\", n, \"là\", tinhgiaithua(n))"
      ],
      "execution_count": 83,
      "outputs": [
        {
          "output_type": "stream",
          "name": "stdout",
          "text": [
            "Nhập số nguyên dương n = 5\n",
            "Giai thừa của 5 là 120\n"
          ]
        }
      ]
    },
    {
      "cell_type": "markdown",
      "metadata": {
        "id": "eyn6hYkY3U_g"
      },
      "source": [
        "#bài13"
      ]
    },
    {
      "cell_type": "code",
      "metadata": {
        "colab": {
          "base_uri": "https://localhost:8080/"
        },
        "id": "z2DZqjPR2xsQ",
        "outputId": "cb7c00fd-a8f3-46bb-b7a0-ebb8a7b8458b"
      },
      "source": [
        "print(\"Nhập một số nguyên: \")\n",
        "n = int(input())\n",
        "while (n != 0):\n",
        "    print(n % 10, end=\"\")\n",
        "    n = n // 10 "
      ],
      "execution_count": 130,
      "outputs": [
        {
          "output_type": "stream",
          "name": "stdout",
          "text": [
            "Nhập một số nguyên: \n",
            "1234567\n",
            "7654321"
          ]
        }
      ]
    },
    {
      "cell_type": "markdown",
      "metadata": {
        "id": "RGcn8dOX6HzU"
      },
      "source": [
        "#bài14 "
      ]
    },
    {
      "cell_type": "code",
      "metadata": {
        "colab": {
          "base_uri": "https://localhost:8080/"
        },
        "id": "6Wg8RksP6L-G",
        "outputId": "23312f93-dc36-4a2f-ad9d-c1f86a33b551"
      },
      "source": [
        "list = [\"thu\", 7, \"phuong\", \"Huế\", 179, 55]\n",
        "for i in range(0, len(list), 2):\n",
        "   print(list[i])\n"
      ],
      "execution_count": 119,
      "outputs": [
        {
          "output_type": "stream",
          "name": "stdout",
          "text": [
            "thu\n",
            "phuong\n",
            "179\n"
          ]
        }
      ]
    },
    {
      "cell_type": "markdown",
      "metadata": {
        "id": "YOqJUSqD9XBE"
      },
      "source": [
        "#bài 15 "
      ]
    },
    {
      "cell_type": "code",
      "metadata": {
        "colab": {
          "base_uri": "https://localhost:8080/"
        },
        "id": "XZ4a7Ojq9_x0",
        "outputId": "62b8abeb-4a40-4220-df36-dc0eb78c415e"
      },
      "source": [
        "a=int(input(\"nhập số:\"))\n",
        "i=1\n",
        "while i in range(i,a+1):\n",
        "  print(\"lập phương của \",i,\"bằng\",i**3)\n",
        "  i=i+1"
      ],
      "execution_count": 125,
      "outputs": [
        {
          "output_type": "stream",
          "name": "stdout",
          "text": [
            "nhập số:4\n",
            "lập phương của  1 bằng 1\n",
            "lập phương của  2 bằng 8\n",
            "lập phương của  3 bằng 27\n",
            "lập phương của  4 bằng 64\n"
          ]
        }
      ]
    }
  ]
}