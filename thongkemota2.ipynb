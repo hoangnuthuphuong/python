{
  "nbformat": 4,
  "nbformat_minor": 0,
  "metadata": {
    "colab": {
      "name": "thongkemota2",
      "private_outputs": true,
      "provenance": [],
      "authorship_tag": "ABX9TyNbQxhCwsIYN/vu+3oc9alq",
      "include_colab_link": true
    },
    "kernelspec": {
      "name": "python3",
      "display_name": "Python 3"
    },
    "language_info": {
      "name": "python"
    }
  },
  "cells": [
    {
      "cell_type": "markdown",
      "metadata": {
        "id": "view-in-github",
        "colab_type": "text"
      },
      "source": [
        "<a href=\"https://colab.research.google.com/github/hoangnuthuphuong/python/blob/Phuong/thongkemota2.ipynb\" target=\"_parent\"><img src=\"https://colab.research.google.com/assets/colab-badge.svg\" alt=\"Open In Colab\"/></a>"
      ]
    },
    {
      "cell_type": "code",
      "execution_count": null,
      "metadata": {
        "id": "m8whmrxW4HNX"
      },
      "outputs": [],
      "source": [
        "import pandas as pd\n",
        "import numpy as np\n",
        "import matplotlib.pyplot as plt\n",
        "import statsmodels\n",
        "import seaborn as sns"
      ]
    },
    {
      "cell_type": "code",
      "source": [
        "state = pd.read_csv(\"/state.csv\")"
      ],
      "metadata": {
        "id": "4Gml6VzV4X_G"
      },
      "execution_count": null,
      "outputs": []
    },
    {
      "cell_type": "markdown",
      "source": [
        "Trang 30"
      ],
      "metadata": {
        "id": "y2A_DLL5H3Ng"
      }
    },
    {
      "cell_type": "code",
      "source": [
        "#In ra 5 dòng đầu\n",
        "state.head()"
      ],
      "metadata": {
        "id": "L_3tZzps4sI0"
      },
      "execution_count": null,
      "outputs": []
    },
    {
      "cell_type": "code",
      "source": [
        "# Tính giá trị trung bình của Population\n",
        "state[\"Population\"].mean()"
      ],
      "metadata": {
        "id": "aMCGml5PHUNc"
      },
      "execution_count": null,
      "outputs": []
    },
    {
      "cell_type": "code",
      "source": [
        "# Tính giá trị trung vị của Population:\n",
        "state[\"Population\"].median()"
      ],
      "metadata": {
        "id": "mQv_U7yDH9qr"
      },
      "execution_count": null,
      "outputs": []
    },
    {
      "cell_type": "code",
      "source": [
        "# Tính trung bình có trọng số của Murder.Rate với trọng số là Population:\n",
        "np.average(state['Murder.Rate'], weights=state['Population'])"
      ],
      "metadata": {
        "id": "YrCUHqNgIHpY"
      },
      "execution_count": null,
      "outputs": []
    },
    {
      "cell_type": "markdown",
      "source": [
        "Trang 36"
      ],
      "metadata": {
        "id": "VdTCt8hxIRSo"
      }
    },
    {
      "cell_type": "code",
      "source": [
        "# Tính độ lệch chuẩn của Population:\n",
        "state['Population'].std()"
      ],
      "metadata": {
        "id": "e-UL2g_1INYD"
      },
      "execution_count": null,
      "outputs": []
    },
    {
      "cell_type": "code",
      "source": [
        "# Tính tứ phân vị thứ 1 của Population:\n",
        "state['Population'].quantile(0.25)"
      ],
      "metadata": {
        "id": "ZhGklP-7IX7V"
      },
      "execution_count": null,
      "outputs": []
    },
    {
      "cell_type": "code",
      "source": [
        "# Tính tứ phân vị thứ 3 của Population:\n",
        "state['Population'].quantile(0.75)"
      ],
      "metadata": {
        "id": "RAWNVmyvIg8d"
      },
      "execution_count": null,
      "outputs": []
    },
    {
      "cell_type": "code",
      "source": [
        "# Tính các phân vị của Murder.Rate\n",
        "state['Murder.Rate'].quantile([0.05, 0.25, 0.5, 0.75, 0.95])"
      ],
      "metadata": {
        "id": "XZllC4KZIkxp"
      },
      "execution_count": null,
      "outputs": []
    },
    {
      "cell_type": "markdown",
      "source": [
        "Trang 38"
      ],
      "metadata": {
        "id": "jevN_PDTIujh"
      }
    },
    {
      "cell_type": "code",
      "source": [
        "#Vẽ boxplot của Population:\n",
        "\n",
        "ax = (state['Population']/1_000_000).plot.box()\n",
        "ax.set_ylabel('Population (millions)')"
      ],
      "metadata": {
        "id": "mcuToJuLIoq0"
      },
      "execution_count": null,
      "outputs": []
    },
    {
      "cell_type": "markdown",
      "source": [
        "Trang 40"
      ],
      "metadata": {
        "id": "iNRmhUgWI4IC"
      }
    },
    {
      "cell_type": "code",
      "source": [
        "# Tạo bảng phân phối tần số\n",
        "binnedPopulation = pd.cut(state['Population'], 10)\n",
        "# Tạo bảng\n",
        "binnedPopulation.value_counts()"
      ],
      "metadata": {
        "id": "lh7_m-dKI0We"
      },
      "execution_count": null,
      "outputs": []
    },
    {
      "cell_type": "markdown",
      "source": [
        "Trang 41"
      ],
      "metadata": {
        "id": "w2P1dWL4JVyx"
      }
    },
    {
      "cell_type": "code",
      "source": [
        "# Vẽ biểu đồ histogram cho Population\n",
        "\n",
        "ax = (state['Population'] / 1_000_000).plot.hist(figsize=(4, 4))\n",
        "ax.set_xlabel('Population (millions)')"
      ],
      "metadata": {
        "id": "e7WhKgSUI8JX"
      },
      "execution_count": null,
      "outputs": []
    },
    {
      "cell_type": "markdown",
      "source": [
        "Trang 43"
      ],
      "metadata": {
        "id": "JE5kxTJ9JbDV"
      }
    },
    {
      "cell_type": "code",
      "source": [
        "# Vẽ mật độ và ước lượng\n",
        "\n",
        "ax = state['Murder.Rate'].plot.hist(density=True, xlim=[0,12], bins=range(1,12))\n",
        "state['Murder.Rate'].plot.density(ax=ax)\n",
        "ax.set_xlabel('Murder Rate (per 100,000)');"
      ],
      "metadata": {
        "id": "6fzQvj1pJA1S"
      },
      "execution_count": null,
      "outputs": []
    },
    {
      "cell_type": "markdown",
      "source": [
        "Trang 45"
      ],
      "metadata": {
        "id": "shcrkt-aJkn1"
      }
    },
    {
      "cell_type": "code",
      "source": [
        "# Đọc tập tin \n",
        "dfw = pd.read_csv(\"/dfw_airline.csv\")"
      ],
      "metadata": {
        "id": "WauMEqW2Jhqw"
      },
      "execution_count": null,
      "outputs": []
    },
    {
      "cell_type": "code",
      "source": [
        "# Vẽ biểu đồ\n",
        "ax = dfw.transpose().plot.bar(figsize=(4, 4), legend=False)\n",
        "ax.set_xlabel('Cause of delay')\n",
        "ax.set_ylabel('Count')"
      ],
      "metadata": {
        "id": "pxIE_Ed0KHgm"
      },
      "execution_count": null,
      "outputs": []
    },
    {
      "cell_type": "code",
      "source": [
        "# Đọc tập tin\n",
        "sp500_px = pd.read_csv(\"/sp500_data.csv\")\n",
        "sp500_sym  = pd.read_csv(\"/sp500_sectors.csv\")"
      ],
      "metadata": {
        "id": "KR3MjWgKKQLd"
      },
      "execution_count": null,
      "outputs": []
    },
    {
      "cell_type": "code",
      "source": [
        "# In ra 5 dòng đầu của tập tin\n",
        "sp500_sym.head()\n"
      ],
      "metadata": {
        "id": "ZAjjF4AvLEn9"
      },
      "execution_count": null,
      "outputs": []
    },
    {
      "cell_type": "code",
      "source": [
        "sp500_px.head()"
      ],
      "metadata": {
        "id": "I2BvYDegPO3V"
      },
      "execution_count": null,
      "outputs": []
    },
    {
      "cell_type": "markdown",
      "source": [
        "Trang 51"
      ],
      "metadata": {
        "id": "cvTYg2w2PgHK"
      }
    },
    {
      "cell_type": "code",
      "source": [
        "etfs = sp500_px.loc[sp500_px.index > '07/01/2012', sp500_sym[sp500_sym['sector'] == 'etf']['symbol']]\n",
        "sns.heatmap(etfs.corr(), vmin=-1, vmax=1, cmap=sns.diverging_palette(20, 220, as_cmap=True))"
      ],
      "metadata": {
        "id": "z9zUKURRPVmq"
      },
      "execution_count": null,
      "outputs": []
    },
    {
      "cell_type": "code",
      "source": [
        "kc_tax = pd.read_csv(\"/kc_tax.csv\")"
      ],
      "metadata": {
        "id": "4X6laQG-PmJO"
      },
      "execution_count": null,
      "outputs": []
    },
    {
      "cell_type": "code",
      "source": [
        "# In ra 5 dòng đầu của tập tin\n",
        "kc_tax.head()"
      ],
      "metadata": {
        "id": "L6EiuMPmREsu"
      },
      "execution_count": null,
      "outputs": []
    },
    {
      "cell_type": "markdown",
      "source": [
        "Trang 55"
      ],
      "metadata": {
        "id": "elsrYdVjRILX"
      }
    },
    {
      "cell_type": "code",
      "source": [
        "kc_tax0 = kc_tax.loc[(kc_tax.TaxAssessedValue < 750000) &\n",
        " (kc_tax.SqFtTotLiving > 100) &\n",
        " (kc_tax.SqFtTotLiving < 3500), :]"
      ],
      "metadata": {
        "id": "BE-RsMD3RI5Y"
      },
      "execution_count": null,
      "outputs": []
    },
    {
      "cell_type": "code",
      "source": [
        "# Kích thước\n",
        "kc_tax0.shape"
      ],
      "metadata": {
        "id": "jzvz_rbFRMTF"
      },
      "execution_count": null,
      "outputs": []
    },
    {
      "cell_type": "code",
      "source": [
        "# Vẽ biểu đồ hexa\n",
        "\n",
        "ax = kc_tax0.plot.hexbin(x='SqFtTotLiving', y='TaxAssessedValue', gridsize=30, sharex=False, figsize=(5, 4))\n",
        "ax.set_xlabel('Finished Square Feet')\n",
        "ax.set_ylabel('Tax-Assessed Value')"
      ],
      "metadata": {
        "id": "OW40EjkyRSSw"
      },
      "execution_count": null,
      "outputs": []
    },
    {
      "cell_type": "code",
      "source": [
        "lc_loans = pd.read_csv(\"/lc_loans.csv\")"
      ],
      "metadata": {
        "id": "DVhbbX7ZR24P"
      },
      "execution_count": null,
      "outputs": []
    },
    {
      "cell_type": "markdown",
      "source": [
        "Trang 58"
      ],
      "metadata": {
        "id": "3pVGX6UuZ1vE"
      }
    },
    {
      "cell_type": "code",
      "source": [
        "crosstab = lc_loans.pivot_table(index='grade', columns='status',\n",
        " aggfunc=lambda x: len(x), margins=True)\n",
        "df = crosstab.loc['A':'G',:].copy()\n",
        "df.loc[:,'Charged Off':'Late'] = df.loc[:,'Charged Off':'Late'].div(df['All'],\n",
        " axis=0)\n",
        "df['All'] = df['All'] / sum(df['All'])\n",
        "perc_crosstab = df\n",
        "perc_crosstab"
      ],
      "metadata": {
        "id": "4ZkWe6vkZqt_"
      },
      "execution_count": null,
      "outputs": []
    },
    {
      "cell_type": "markdown",
      "source": [
        "Trang 59"
      ],
      "metadata": {
        "id": "HqBfoTdeaEhn"
      }
    },
    {
      "cell_type": "code",
      "source": [
        "airline_stats = pd.read_csv(\"/airline_stats.csv\")"
      ],
      "metadata": {
        "id": "3HOS2adQaC_o"
      },
      "execution_count": null,
      "outputs": []
    },
    {
      "cell_type": "code",
      "source": [
        "ax = airline_stats.boxplot(by='airline', column='pct_carrier_delay')\n",
        "ax.set_xlabel('')\n",
        "ax.set_ylabel('Daily % of Delayed Flights')\n",
        "plt.suptitle('')"
      ],
      "metadata": {
        "id": "O17tqHt4Zsof"
      },
      "execution_count": null,
      "outputs": []
    },
    {
      "cell_type": "markdown",
      "source": [
        "Trang 60"
      ],
      "metadata": {
        "id": "8X3uShQZai_b"
      }
    },
    {
      "cell_type": "code",
      "source": [
        "ax = sns.violinplot(airline_stats.airline, airline_stats.pct_carrier_delay,\n",
        " inner='quartile', color='white')\n",
        "ax.set_xlabel('')\n",
        "ax.set_ylabel('Daily % of Delayed Flights')"
      ],
      "metadata": {
        "id": "njPlsqnTZ-DD"
      },
      "execution_count": null,
      "outputs": []
    },
    {
      "cell_type": "markdown",
      "source": [
        "Trang 63"
      ],
      "metadata": {
        "id": "F3_XPGNHa54M"
      }
    },
    {
      "cell_type": "code",
      "source": [
        "zip_codes = [98188, 98105, 98108, 98126]\n",
        "kc_tax_zip = kc_tax0.loc[kc_tax0.ZipCode.isin(zip_codes),:]\n",
        "kc_tax_zip"
      ],
      "metadata": {
        "id": "k2AZwuj7af0S"
      },
      "execution_count": null,
      "outputs": []
    },
    {
      "cell_type": "code",
      "source": [
        "def hexbin(x, y, color, **kwargs):\n",
        " cmap = sns.light_palette(color, as_cmap=True)\n",
        " plt.hexbin(x, y, gridsize=25, cmap=cmap, **kwargs)\n",
        "g = sns.FacetGrid(kc_tax_zip, col='ZipCode', col_wrap=2)\n",
        "g.map(hexbin, 'SqFtTotLiving', 'TaxAssessedValue',\n",
        " extent=[0, 3500, 0, 700000])\n",
        "g.set_axis_labels('Finished Square Feet', 'Tax-Assessed Value')\n",
        "g.set_titles('Zip code {col_name:.0f}');"
      ],
      "metadata": {
        "id": "KCpfJ9wlasNk"
      },
      "execution_count": null,
      "outputs": []
    },
    {
      "cell_type": "code",
      "source": [
        ""
      ],
      "metadata": {
        "id": "zNXWIip0bAc2"
      },
      "execution_count": null,
      "outputs": []
    }
  ]
}