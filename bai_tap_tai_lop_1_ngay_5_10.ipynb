{
  "nbformat": 4,
  "nbformat_minor": 0,
  "metadata": {
    "colab": {
      "name": "bai tap tai lop 1 ngay 5/10",
      "provenance": [],
      "collapsed_sections": [],
      "toc_visible": true,
      "include_colab_link": true
    },
    "kernelspec": {
      "display_name": "Python 3",
      "name": "python3"
    }
  },
  "cells": [
    {
      "cell_type": "markdown",
      "metadata": {
        "id": "view-in-github",
        "colab_type": "text"
      },
      "source": [
        "<a href=\"https://colab.research.google.com/github/hoangnuthuphuong/python/blob/Phuong/bai_tap_tai_lop_1_ngay_5_10.ipynb\" target=\"_parent\"><img src=\"https://colab.research.google.com/assets/colab-badge.svg\" alt=\"Open In Colab\"/></a>"
      ]
    },
    {
      "cell_type": "code",
      "metadata": {
        "colab": {
          "base_uri": "https://localhost:8080/"
        },
        "id": "YHc34zn599K2",
        "outputId": "b4e79e91-d463-4229-aa8c-ef8abc6bcbce"
      },
      "source": [
        "dtb = float(input(\"Nhập điểm trung bình: \"))\n",
        "if dtb >= 0 and dtb <= 5.0:\n",
        "  print(\"Yếu\")\n",
        "if dtb >= 5.0 and dtb < 7.0:\n",
        "  print(\"Trung Bình\")\n",
        "if dtb >= 7.0 and dtb < 8.0:\n",
        "  print(\"Khá\")\n",
        "if dtb >= 8.0 and dtb < 9.0:\n",
        "  print(\"Giỏi\")\n",
        "if dtb > 9.0:\n",
        "  print(\"Xuất sắc\")"
      ],
      "execution_count": null,
      "outputs": [
        {
          "output_type": "stream",
          "name": "stdout",
          "text": [
            "Nhập điểm trung bình: 7.3\n",
            "Khá\n"
          ]
        }
      ]
    }
  ]
}