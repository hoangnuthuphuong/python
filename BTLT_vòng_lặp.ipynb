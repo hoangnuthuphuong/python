{
  "nbformat": 4,
  "nbformat_minor": 0,
  "metadata": {
    "colab": {
      "name": "BTLT vòng lặp",
      "private_outputs": true,
      "provenance": [],
      "collapsed_sections": [],
      "authorship_tag": "ABX9TyPea9J9Z3v2YwvrdmiMAxN4",
      "include_colab_link": true
    },
    "kernelspec": {
      "name": "python3",
      "display_name": "Python 3"
    },
    "language_info": {
      "name": "python"
    }
  },
  "cells": [
    {
      "cell_type": "markdown",
      "metadata": {
        "id": "view-in-github",
        "colab_type": "text"
      },
      "source": [
        "<a href=\"https://colab.research.google.com/github/hoangnuthuphuong/python/blob/Phuong/BTLT_v%C3%B2ng_l%E1%BA%B7p.ipynb\" target=\"_parent\"><img src=\"https://colab.research.google.com/assets/colab-badge.svg\" alt=\"Open In Colab\"/></a>"
      ]
    },
    {
      "cell_type": "markdown",
      "metadata": {
        "id": "c-VEaYyw3DeY"
      },
      "source": [
        "#bài 1: \n",
        "Viết chương trình tìm tất cả các số chia hết cho 7 nhưng không phải bội số của 5, nằm trong\n",
        "đoạn 10 và 200 (tính cả 10 và 200). Các số thu được sẽ được in ra màn hình."
      ]
    },
    {
      "cell_type": "code",
      "metadata": {
        "id": "9596vkoU2ddj"
      },
      "source": [
        "list = []\n",
        "for i in range(10, 201):\n",
        "    if (i % 7 == 0) and (i % 5 != 0):\n",
        "        list.append(str(i))\n",
        "print (', '.join(list))"
      ],
      "execution_count": null,
      "outputs": []
    },
    {
      "cell_type": "markdown",
      "metadata": {
        "id": "mpmZ3IFT3Cjb"
      },
      "source": [
        "# bài 2\n",
        "Viết một chương trình tính giai thừa của một số nguyên dương n. Với n được nhập từ bàn\n",
        "phím. Ví dụ, n = 8 thì kết quả đầu ra phải là 1*2*3*4*5*6*7*8 = 40320."
      ]
    },
    {
      "cell_type": "code",
      "metadata": {
        "id": "l7PCtacm3NDt"
      },
      "source": [
        "n=int(input(\" Nhập số nguyên dương: \")) \n",
        "if n<=0:\n",
        "   n=int(input(\"Nhập lại số nguyên dương: \"))\n",
        "i=1\n",
        "s=1\n",
        "while i <= n:\n",
        "  s=s*i\n",
        "  i+=1\n",
        "print(\"Giai thừa só cần tìm là: \",s)"
      ],
      "execution_count": null,
      "outputs": []
    },
    {
      "cell_type": "markdown",
      "metadata": {
        "id": "X0bCq12I3SyD"
      },
      "source": [
        "# bài 3\n",
        "Dãy số Fibonacci được định nghĩa như sau: F0 = 0, F1 = 1, F2 = 1, Fn = F(n-1) + F(n-2)\n",
        "với n >= 2. Ví dụ: 0, 1, 1, 2, 3, 5, 8, ... Hãy viết chương trình tìm n số Fibonacci đầu tiên với n\n",
        "nhập vào từ bàn phím."
      ]
    },
    {
      "cell_type": "code",
      "metadata": {
        "id": "XA-4eMSD3Ubv"
      },
      "source": [
        "def fibonacci(n):\n",
        "    f0 = 0\n",
        "    f1 = 1\n",
        "    fn = 1\n",
        "  \n",
        "    if (n < 0):\n",
        "        return -1;\n",
        "    elif (n == 0 or n == 1):\n",
        "        return n\n",
        "    else:\n",
        "        for i in range(2, n):\n",
        "            f0 = f1\n",
        "            f1 = fn\n",
        "            fn = f0 + f1\n",
        "        return fn\n",
        "x=int(input(\" Nhap so nguyen: \"))\n",
        "print(x, \" số đầu tiên của dãy số Fibonacci: \")\n",
        "s = \"\"\n",
        "for i in range(0, x):\n",
        "    s = s + str(fibonacci(i)) + \" \"\n",
        "print(s)"
      ],
      "execution_count": null,
      "outputs": []
    },
    {
      "cell_type": "markdown",
      "metadata": {
        "id": "6FQjwOy03mxo"
      },
      "source": [
        "# bài 4\n",
        "Viết chương trình liệt kê tất cả các số nguyên tố nhỏ hơn n. Số nguyên dương n được nhập\n",
        "từ bàn phím."
      ]
    },
    {
      "cell_type": "code",
      "metadata": {
        "id": "9v-uPXg-Ky8p"
      },
      "source": [
        "sn=int(input(\"Nhập số nguyên: \"))\n",
        "for i in range(0,sn):\n",
        "  if i>1:\n",
        "   for j in range(2,i):\n",
        "      if i%j==0 :\n",
        "        break\n",
        "   else:\n",
        "     print(i, end=\" \")"
      ],
      "execution_count": null,
      "outputs": []
    },
    {
      "cell_type": "markdown",
      "metadata": {
        "id": "5O64IBHo4Glh"
      },
      "source": [
        "\n",
        "# bài 5\n",
        "Viết chương trình liệt kê n số nguyên tố đầu tiên. Số nguyên dương n được nhập từ bàn\n",
        "phím."
      ]
    },
    {
      "cell_type": "code",
      "metadata": {
        "id": "mdADXqHN4IRc"
      },
      "source": [
        "sn=int(input(\" Số cuối lớn nhất có thể của dãy: \"))\n",
        "n=int(input(\" Số số nguyên tố là: \"))\n",
        "x=1\n",
        "for i in range(0,sn):\n",
        "  if i>1 and x<=n:\n",
        "   for j in range(2,i):\n",
        "      if i%j==0 :\n",
        "        break\n",
        "   else:\n",
        "     print(i, end=\" \")\n",
        "     x+=1"
      ],
      "execution_count": null,
      "outputs": []
    },
    {
      "cell_type": "markdown",
      "metadata": {
        "id": "9B20LSiB4V_u"
      },
      "source": [
        "# bài 6\n",
        "Viết chương trình liệt kê tất cả số nguyên tố có 5 chữ số."
      ]
    },
    {
      "cell_type": "code",
      "metadata": {
        "id": "zxzmODJ3C3Uv"
      },
      "source": [
        "import math\n",
        "\n",
        "def num(n):\n",
        "    if (n < 2):\n",
        "        return False;\n",
        "    a = int(math.sqrt(n))\n",
        "    for i in range(2, a + 1):\n",
        "        if (n % i == 0):\n",
        "            return False\n",
        "    return True\n",
        " \n",
        "print (\"Liệt kê tất cả số nguyên tố có 5 chữ số:\")\n",
        "dem = 0;\n",
        "for i in range(10001, 99999):\n",
        "    if (num(i)):\n",
        "        print(i)\n",
        "        dem = dem + 1\n",
        "print(\"Tổng các số nguyên tố có 5 chữ số là:\", dem)"
      ],
      "execution_count": null,
      "outputs": []
    },
    {
      "cell_type": "markdown",
      "metadata": {
        "id": "BGR4NM-A4g0y"
      },
      "source": [
        "# bài 7\n",
        "Viết chương trình tính tổng của các chữ số của môt số nguyên n. Số nguyên dương n được\n",
        "nhập từ bàn phím. Ví dụ: n = 1234, tổng các chữ số: 1 + 2 + 3 + 4 = 10"
      ]
    },
    {
      "cell_type": "code",
      "metadata": {
        "id": "bEzGXRBI4iOZ"
      },
      "source": [
        "so=int(input(\"Nhap so nguyen duong: \"))\n",
        "sum=str(so)\n",
        "s=0\n",
        "for i in sum:\n",
        "  b=int(i)\n",
        "  s=s+b\n",
        "print(\" Tổng giá trị là: \", s)"
      ],
      "execution_count": null,
      "outputs": []
    },
    {
      "cell_type": "markdown",
      "metadata": {
        "id": "kqgqCNQv4zYV"
      },
      "source": [
        "# bài 8\n",
        "Viết chương trình liệt kê các số Fibonacci nhỏ hơn n là số nguyên tố. N là số nguyên dương\n",
        "được nhập từ bàn phím."
      ]
    },
    {
      "cell_type": "code",
      "metadata": {
        "id": "JlfcP_cY40vG"
      },
      "source": [
        "n=int(input(\"Giá trị n nhập vào bàn phím: \"))\n",
        "bien=int(input(\"Số giá trị dãy Fibonaci: \"))\n",
        "f1=int(input(\"Nhập giá trị đầu tiên (0,1): \"))\n",
        "f2=int(input(\"Nhập giá trị thứ hai: (1)\"))\n",
        "ls=[f1,f2]\n",
        "i=2\n",
        "while i<bien:\n",
        "  lsi=ls[i-1]+ls[i-2]\n",
        "  ls.append(lsi)\n",
        "  i+=1\n",
        "print(\"Dãy Fibonaci: \",ls)\n",
        "print(\"Số Fibonaci là số nguyên tố nhỏ hơn n là: \")\n",
        "for x in ls:\n",
        "  if x<n and x>1:\n",
        "   for j in range(2,x):\n",
        "        if x%j==0 :\n",
        "         break\n",
        "   else:\n",
        "      print(x, end=\" \")"
      ],
      "execution_count": null,
      "outputs": []
    }
  ]
}