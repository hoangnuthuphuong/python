{
  "nbformat": 4,
  "nbformat_minor": 0,
  "metadata": {
    "colab": {
      "name": "baitap_ngay10/3",
      "private_outputs": true,
      "provenance": [],
      "authorship_tag": "ABX9TyNbb3PWxgAz4vzwiF0lByC0",
      "include_colab_link": true
    },
    "kernelspec": {
      "name": "python3",
      "display_name": "Python 3"
    },
    "language_info": {
      "name": "python"
    }
  },
  "cells": [
    {
      "cell_type": "markdown",
      "metadata": {
        "id": "view-in-github",
        "colab_type": "text"
      },
      "source": [
        "<a href=\"https://colab.research.google.com/github/hoangnuthuphuong/python/blob/Phuong/baitap_ngay10_3.ipynb\" target=\"_parent\"><img src=\"https://colab.research.google.com/assets/colab-badge.svg\" alt=\"Open In Colab\"/></a>"
      ]
    },
    {
      "cell_type": "markdown",
      "source": [
        "**Thư viện scipy.stats để hỗ trợ tính toán khoảng tin cậy cho trung bình tổng thể.**"
      ],
      "metadata": {
        "id": "MC-F-CTaFF53"
      }
    },
    {
      "cell_type": "markdown",
      "source": [
        "Sử dụng hàm **t.interval()** khi đang làm việc với một mẫu **nhỏ (n <30)**"
      ],
      "metadata": {
        "id": "KBFrUWYQkCqD"
      }
    },
    {
      "cell_type": "code",
      "execution_count": null,
      "metadata": {
        "id": "S8xRb7wPE9Gu"
      },
      "outputs": [],
      "source": [
        "import numpy as np\n",
        "import scipy.stats as st"
      ]
    },
    {
      "cell_type": "markdown",
      "source": [
        "* np.mean : Tính giá trị trung bình cộng\n",
        "* st.sem : Tính sai số chuẩn của giá trị trung bình.\n",
        "* Khoảng tin cậy 95% cho chiều cao trung bình của tổng thể là (16,758, 24,042)."
      ],
      "metadata": {
        "id": "lcMi9C7XkZ5g"
      }
    },
    {
      "cell_type": "code",
      "source": [
        "#xác định dữ liệu mẫu \n",
        "data = [12, 12, 13, 13, 15, 16, 17, 17, 17, 17, 18, 19, 19, 18, 20]"
      ],
      "metadata": {
        "id": "ms9Dc_-cKSjR"
      },
      "execution_count": null,
      "outputs": []
    },
    {
      "cell_type": "code",
      "source": [
        "#tạo khoảng tin cậy 95% cho trọng lượng trung bình của tổng thể\n",
        "st.t.interval(alpha=0.95, df=len(data)-1, loc=np.mean(data), scale=st.sem(data))"
      ],
      "metadata": {
        "id": "gsIj8CJzkwa6"
      },
      "execution_count": null,
      "outputs": []
    },
    {
      "cell_type": "code",
      "source": [
        "#tạo khoảng tin cậy 99% cho trọng lượng trung bình của tổng thể\n",
        "st.t.interval(alpha=0.99, df=len(data)-1, loc=np.mean(data), scale=st.sem(data))"
      ],
      "metadata": {
        "id": "HE-Oqqq3kyca"
      },
      "execution_count": null,
      "outputs": []
    },
    {
      "cell_type": "markdown",
      "source": [
        "Sử dụng hàm **t.norm.interval()** khi chúng ta đang làm việc với các **mẫu lớn hơn (n≥30)**"
      ],
      "metadata": {
        "id": "4zScRDY0lAhb"
      }
    },
    {
      "cell_type": "code",
      "source": [
        "#xác định dữ liệu mẫu \n",
        "data = [12, 12, 13, 13, 15, 16, 17, 17, 17, 17, 18, 19, 19, 18, 20, 12, 12, 13, 13, 15, 16, 17, 17, 17, 17, 18, 19, 19, 18, 20, 17, 17, 17, 17, 18, 19]"
      ],
      "metadata": {
        "id": "WFhjmxgDk1nq"
      },
      "execution_count": null,
      "outputs": []
    },
    {
      "cell_type": "code",
      "source": [
        "#tạo khoảng tin cậy 95% cho trọng lượng trung bình của tổng thể\n",
        "st.norm.interval(alpha=0.95, loc=np.mean(data), scale=st.sem(data))"
      ],
      "metadata": {
        "id": "c3BDeEeflG8y"
      },
      "execution_count": null,
      "outputs": []
    },
    {
      "cell_type": "code",
      "source": [
        "#tạo khoảng tin cậy 99% cho trọng lượng trung bình của tổng thể\n",
        "st.t.interval(alpha=0.99, df=len(data)-1, loc=np.mean(data), scale=st.sem(data))"
      ],
      "metadata": {
        "id": "gFSgGd-rlKBj"
      },
      "execution_count": null,
      "outputs": []
    },
    {
      "cell_type": "code",
      "source": [
        ""
      ],
      "metadata": {
        "id": "aaYPWYfklUAL"
      },
      "execution_count": null,
      "outputs": []
    }
  ]
}