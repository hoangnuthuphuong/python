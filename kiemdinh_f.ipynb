{
  "cells": [
    {
      "cell_type": "markdown",
      "metadata": {
        "id": "view-in-github",
        "colab_type": "text"
      },
      "source": [
        "<a href=\"https://colab.research.google.com/github/hoangnuthuphuong/python/blob/Phuong/kiemdinh_f.ipynb\" target=\"_parent\"><img src=\"https://colab.research.google.com/assets/colab-badge.svg\" alt=\"Open In Colab\"/></a>"
      ]
    },
    {
      "cell_type": "markdown",
      "metadata": {
        "id": "zLDJXkTiG1nn"
      },
      "source": [
        "# **KIỂM ĐỊNH F**\n",
        "\n",
        "Thay vì xây dựng giả thuyết với giá trị trung bình, người ta có thể xây dựng giả thuyết với phương sai (variance $\\sigma^{2}$). Trong trường hợp này, chúng ta sử dụng kiểm định F. Tóm tắt về kiểm định F như sau:\n",
        "\n",
        "**Kiểm định một đuôi:**\n",
        "\n",
        "$$H_{0}: \\sigma^{2} = \\sigma_{0}^{2} $$\n",
        "\n",
        "$$H_{a}: \\sigma^{2} < \\sigma_{0}^{2} (H_{a}: \\sigma^{2} > \\sigma_{0}^{2})$$ \n",
        "\n",
        "**Giá trị thống kê kiểm định:**\n",
        "\n",
        "$$ \\chi^{2} = \\frac{(n-1)s^{2}}{\\sigma_{0}^{2}}$$\n",
        "\n",
        "**Vùng bác bỏ:**\n",
        "\n",
        "\n",
        "$$\\chi^{2} < \\chi_{(1 - \\alpha)}^{2} \\ hoặc\\    \\chi^{2} > \\chi_{(\\alpha)}^{2}$$  $$khi$$ $$H_{a}: \\sigma^{2} > \\sigma_{0}^{2}$$\n",
        "\n",
        "\n",
        "**Ghi chú:** \n",
        "\n",
        "- $\\chi^{2}$ - chi-square\n",
        "- (n - 1) mức tự do\n",
        "\n"
      ]
    },
    {
      "cell_type": "markdown",
      "metadata": {
        "id": "Reh5q3sRG1n0"
      },
      "source": [
        "**Kiểm định 2 đuôi:**\n",
        "\n",
        "$$H_{0}: \\sigma^{2} = \\sigma_{0}^{2}$$\n",
        "$$H_{a}:\\sigma^{2} \\neq \\sigma_{0}^{2} $$\n",
        "\n",
        "**Giá trị thống kê kiểm định:**\n",
        "\n",
        "$$ \\chi^{2} = \\frac{(n-1)s^{2}}{\\sigma_{0}^{2}}$$\n",
        "\n",
        "**Vùng bác bỏ:**  $$\\chi^{2} < \\chi_{(1 - \\alpha/2)}^{2}\\  hoặc\\ \\chi^{2} > \\chi_{(\\alpha/2)}^{2}$$ \n",
        "**Ghi chú:** \n",
        "\n",
        "- $\\chi^{2}$ - chi-square\n",
        "- (n - 1) mức tự do"
      ]
    },
    {
      "cell_type": "markdown",
      "metadata": {
        "id": "u2gWsE2vG1n2"
      },
      "source": [
        "# **THỰC HÀNH KIỂM ĐỊNH F**\n",
        "\n",
        "> Bước 1: Sinh ngẫu nhiên số liệu\n",
        "\n",
        "> Bước 2: Xây dựng giả thuyết \n",
        "\n",
        "> Bước 3: Kiểm định Bartlett "
      ]
    },
    {
      "cell_type": "code",
      "execution_count": 4,
      "metadata": {
        "id": "xWihUqpNG1n3"
      },
      "outputs": [],
      "source": [
        "import numpy as np\n",
        "import pandas as pd\n",
        "import random\n",
        "from scipy import stats\n",
        "import warnings\n",
        "import matplotlib.pyplot as plt\n",
        "import seaborn as sns\n",
        "%matplotlib inline"
      ]
    },
    {
      "cell_type": "code",
      "execution_count": 5,
      "metadata": {
        "id": "UG7ChdSTG1n5"
      },
      "outputs": [],
      "source": [
        "#Sinh ngẫu nhiên 1000 mẫu tuân theo phân phối chuẩn có trung bình mẫu là 7.5 và độ lệch chuẩn là 0.25\n",
        "mean_1 = 7.5\n",
        "std_1 = 0.25\n",
        "N_1 = 1000\n",
        "samples_1 = np.random.normal(mean_1, std_1, N_1)"
      ]
    },
    {
      "cell_type": "code",
      "execution_count": 6,
      "metadata": {
        "id": "cx1va9tWG1n6",
        "outputId": "34377ab6-46db-4db9-90b3-39f847c13560",
        "colab": {
          "base_uri": "https://localhost:8080/"
        }
      },
      "outputs": [
        {
          "output_type": "stream",
          "name": "stdout",
          "text": [
            "[7.46900012 7.24126746 7.49188178 7.25405149 7.33238971 7.24825152\n",
            " 7.44784219 7.52805888 7.72061164 7.4446046 ]\n"
          ]
        }
      ],
      "source": [
        "#In ra 10 phần tử đầu tiên\n",
        "print(samples_1[:10])"
      ]
    },
    {
      "cell_type": "code",
      "execution_count": 7,
      "metadata": {
        "id": "80FkZsDuG1n7"
      },
      "outputs": [],
      "source": [
        "#Sinh ngẫu nhiên 900 mẫu tuân theo phân phối chuẩn có trung bình mẫu là 7 và độ lệch chuẩn là 0.2\n",
        "mean_2= 7\n",
        "std_2 = 0.2\n",
        "N_2 = 900\n",
        "samples_2 = np.random.normal(mean_2, std_2, N_2)"
      ]
    },
    {
      "cell_type": "code",
      "execution_count": 8,
      "metadata": {
        "id": "Q_7vwCYPG1n8",
        "outputId": "59d67005-616d-48ae-89de-44fe7607f08b",
        "colab": {
          "base_uri": "https://localhost:8080/"
        }
      },
      "outputs": [
        {
          "output_type": "stream",
          "name": "stdout",
          "text": [
            "[6.6258724  7.1166071  7.00114188 7.03484116 7.36480202 7.0600352\n",
            " 6.8443679  6.83861548 6.81733858 7.39830076]\n"
          ]
        }
      ],
      "source": [
        "#In ra 10 phần tử đầu tiên\n",
        "print(samples_2[:10])"
      ]
    },
    {
      "cell_type": "markdown",
      "metadata": {
        "id": "wm451JJ9G1n9"
      },
      "source": [
        "Xây dựng giả thuyết:\n",
        "$$H_{0}: \\sigma_{1}^{2} = \\sigma_{2}^{2}$$\n",
        "$$H_{a}: \\sigma_{1}^{2} \\neq \\sigma_{2}^{2}$$"
      ]
    },
    {
      "cell_type": "code",
      "execution_count": 9,
      "metadata": {
        "id": "e_SiEEDnG1n-",
        "outputId": "5e04eac5-fd88-4b76-c12f-967d04b73ec7",
        "colab": {
          "base_uri": "https://localhost:8080/"
        }
      },
      "outputs": [
        {
          "output_type": "stream",
          "name": "stdout",
          "text": [
            "Stat value:  64.7612938490406 ; p-value:  8.454365347870422e-16\n"
          ]
        }
      ],
      "source": [
        "#Kiểm định Bartlett\n",
        "stat_value, p_value = stats.bartlett(samples_1, samples_2)\n",
        "print(\"Stat value: \", stat_value, \"; p-value: \", p_value)"
      ]
    },
    {
      "cell_type": "code",
      "execution_count": 10,
      "metadata": {
        "id": "jIpUnFfKG1n-",
        "outputId": "3ab444f9-b0d3-4239-e956-8b3f3b4a13a6",
        "colab": {
          "base_uri": "https://localhost:8080/"
        }
      },
      "outputs": [
        {
          "output_type": "stream",
          "name": "stdout",
          "text": [
            "Có bằng chứng để bác bỏ giả thuyết H0\n"
          ]
        }
      ],
      "source": [
        "alpha = 0.05\n",
        "if(p_value <  alpha):\n",
        "  print(\"Có bằng chứng để bác bỏ giả thuyết H0\")\n",
        "else:\n",
        "  print(\"Chưa có bằng chứng để bác bỏ giả thuyết H0\")"
      ]
    },
    {
      "cell_type": "markdown",
      "metadata": {
        "id": "QX-QvajxG1n_"
      },
      "source": [
        "**BÀI TẬP**\n",
        "\n",
        "Bạn hãy thử viết code tiến hành kiểm định F 1 đuôi?\n",
        "\n",
        "Gợi ý: Thử tìm kiếm ví dụ về kiểm dịnh F 1 đuôi trong ngôn ngữ lập trình Python & R để nhận thấy sự khác biệt."
      ]
    },
    {
      "cell_type": "code",
      "source": [
        "#Sinh ngẫu nhiên 500 mẫu tuân theo phân phối chuẩn có trung bình mẫu 17.9 là và độ lệch chuẩn là 2.5 \n",
        "mean_1 = 17.9 \n",
        "std_1 = 2.5 \n",
        "N_1 = 500\n",
        "samples_1 = np.random.normal(mean_1, std_1, N_1)\n",
        "\n",
        "#Sinh ngẫu nhiên 400 mẫu tuân theo phân phối chuẩn có trung bình mẫu là 15.5  và độ lệch chuẩn là 2.2\n",
        "mean_2= 15.5 \n",
        "std_2 = 2.2 \n",
        "N_2 = 400\n",
        "samples_2 = np.random.normal(mean_2, std_2, N_2)"
      ],
      "metadata": {
        "id": "rq49L-b_AjoT"
      },
      "execution_count": 22,
      "outputs": []
    },
    {
      "cell_type": "code",
      "execution_count": 23,
      "metadata": {
        "id": "1Z8v_vnNG1n_",
        "colab": {
          "base_uri": "https://localhost:8080/"
        },
        "outputId": "5a6f7b5f-97b5-43e0-a58c-ab25654e7ebb"
      },
      "outputs": [
        {
          "output_type": "stream",
          "name": "stdout",
          "text": [
            "p-value:  0.9999511315960319\n",
            "Chưa có bằng chứng để bác bỏ giả thuyết H0\n"
          ]
        }
      ],
      "source": [
        "# Xây dựng kiểm định F \n",
        "def f_test_onetail(samples_1, samples_2,z):\n",
        "    x1 = len(samples_1)-1 \n",
        "    x2 = len(samples_2) -1 \n",
        "    f = samples_1.var()/samples_2.var()\n",
        "    if z == \"greater\":\n",
        "      p_value = 1 - stats.f.cdf(f, x1, x2)\n",
        "    elif z == \"less\":\n",
        "      p_value = stats.f.cdf(f, x1, x2) \n",
        "    return f, p_value\n",
        "\n",
        "# Chọn alpha = 0.05\n",
        "# Kiểm định giả thuyết \n",
        "ftest,p_value = f_test_onetail(samples_1, samples_2,\"less\")\n",
        "print(\"p-value: \", p_value)\n",
        "if(p_value < 0.05):\n",
        "  print(\"Có bằng chứng để bác bỏ giả thuyết H0\")\n",
        "else:\n",
        "  print(\"Chưa có bằng chứng để bác bỏ giả thuyết H0\")"
      ]
    }
  ],
  "metadata": {
    "kernelspec": {
      "display_name": "Python 3",
      "language": "python",
      "name": "python3"
    },
    "language_info": {
      "codemirror_mode": {
        "name": "ipython",
        "version": 3
      },
      "file_extension": ".py",
      "mimetype": "text/x-python",
      "name": "python",
      "nbconvert_exporter": "python",
      "pygments_lexer": "ipython3",
      "version": "3.7.3"
    },
    "colab": {
      "name": "kiemdinh_f",
      "provenance": [],
      "include_colab_link": true
    }
  },
  "nbformat": 4,
  "nbformat_minor": 0
}