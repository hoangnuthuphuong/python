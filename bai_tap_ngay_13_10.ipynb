{
  "nbformat": 4,
  "nbformat_minor": 0,
  "metadata": {
    "colab": {
      "name": "bai tap ngay 13/10",
      "provenance": [],
      "collapsed_sections": [],
      "include_colab_link": true
    },
    "kernelspec": {
      "display_name": "Python 3",
      "name": "python3"
    }
  },
  "cells": [
    {
      "cell_type": "markdown",
      "metadata": {
        "id": "view-in-github",
        "colab_type": "text"
      },
      "source": [
        "<a href=\"https://colab.research.google.com/github/hoangnuthuphuong/python/blob/Phuong/bai_tap_ngay_13_10.ipynb\" target=\"_parent\"><img src=\"https://colab.research.google.com/assets/colab-badge.svg\" alt=\"Open In Colab\"/></a>"
      ]
    },
    {
      "cell_type": "markdown",
      "metadata": {
        "id": "BWz0rAOqvrBz"
      },
      "source": [
        "#bài 1: Tìm số ngày trong tháng\n",
        "\n"
      ]
    },
    {
      "cell_type": "code",
      "metadata": {
        "colab": {
          "base_uri": "https://localhost:8080/"
        },
        "id": "bu3ocQT7PQYQ",
        "outputId": "cb8de0db-46cc-4b1e-9ab0-ddb63a8eebf0"
      },
      "source": [
        "m = int(input(\"Nhập tháng: \"))\n",
        "y = int(input(\"Nhập năm: \"))\n",
        "if m>12 or m<1:\n",
        "  print(\"tháng không hợp lệ.\")\n",
        "else:\n",
        "  if(m == 1 or m == 3 or m == 5 or m == 7 or m == 8 or m == 10 or m == 12):\n",
        "\t  print(\"Tháng\",m,\"năm\",y ,\"có 31 ngày\")\n",
        "  elif((m == 2) and ((y%400==0) or (y%4==0 ))):\t\n",
        "\t  print(\"Tháng \",m,\"năm\",y, \"có 29 ngày, Nhuận\")\n",
        "  elif(m == 2):\n",
        "\t  print(\"Tháng\",m,\"năm\",y,\"có 28 ngày\")\n",
        "  else:\n",
        "\t  print(\"Tháng\",m,\"năm\",y,\"có 30 ngày\")"
      ],
      "execution_count": 23,
      "outputs": [
        {
          "output_type": "stream",
          "name": "stdout",
          "text": [
            "Nhập tháng: 12\n",
            "Nhập năm: 2022\n",
            "Tháng 12 năm 2022 có 31 ngày\n"
          ]
        }
      ]
    },
    {
      "cell_type": "markdown",
      "metadata": {
        "id": "xt2L7kh5RztY"
      },
      "source": [
        "# bai 2: Kiểm tra nguyên âm hay phụ âm\n",
        "\n",
        "25]"
      ]
    },
    {
      "cell_type": "code",
      "metadata": {
        "colab": {
          "base_uri": "https://localhost:8080/"
        },
        "id": "JxN60hB8PxOK",
        "outputId": "05184921-1e6d-4706-be2b-aa765433aa47"
      },
      "source": [
        "x = input(\"Nhập kí tự: \")\n",
        "\n",
        "if(x=='A' or x=='a' or x=='E' or x =='e' or x=='I'\n",
        " or x=='i' or x=='O' or x=='o' or x=='U' or x=='u'):\n",
        "    print(x, \"là nguyên âm\")\n",
        "else:\n",
        "    print(x, \"là phụ âm\")"
      ],
      "execution_count": 4,
      "outputs": [
        {
          "output_type": "stream",
          "name": "stdout",
          "text": [
            "Nhập kí tự: h\n",
            "h là phụ âm\n"
          ]
        }
      ]
    },
    {
      "cell_type": "markdown",
      "metadata": {
        "id": "Z_o0r25kR9LO"
      },
      "source": [
        "#3. kiểm tra năm nhuận hay không\n"
      ]
    },
    {
      "cell_type": "code",
      "metadata": {
        "colab": {
          "base_uri": "https://localhost:8080/"
        },
        "id": "h8DDX4CTQg63",
        "outputId": "b8519bd8-21d0-4e20-95a5-41b19d7f39b0"
      },
      "source": [
        "nam = int(input('Nhập năm: '))\n",
        "if (nam % 400 == 0) or ((nam % 4 == 0) and (nam % 100 != 0)):\n",
        "    print('Năm nhuận')\n",
        "else:\n",
        "    print('Năm không nhuận')"
      ],
      "execution_count": 7,
      "outputs": [
        {
          "output_type": "stream",
          "name": "stdout",
          "text": [
            "Nhập năm: 2021\n",
            "Năm không nhuận\n"
          ]
        }
      ]
    },
    {
      "cell_type": "markdown",
      "metadata": {
        "id": "i0kS5C9BTThJ"
      },
      "source": [
        "#bài4 Nhập 5 số và tính tổng trung bình\n"
      ]
    },
    {
      "cell_type": "code",
      "metadata": {
        "colab": {
          "base_uri": "https://localhost:8080/"
        },
        "id": "Q9nLGzp6TBDu",
        "outputId": "e46cfea3-fb5d-4299-e9da-931a6376eaa5"
      },
      "source": [
        "n1 = float(input('Nhập số đầu tiên: '))\n",
        "n2 = float(input('Nhập số thứ 2: '))\n",
        "n3 = float(input('Nhập số thứ 3: '))\n",
        "n4 = float(input('Nhập số thứ 4: '))\n",
        "n5 = float(input('Nhập số thứ 5: '))\n",
        "s = (n1 + n2 + n3 + n4 + n5)\n",
        "print(\"tổng 5 số= \",s)\n",
        "t = s/5\n",
        "print(\"trung bình 5 số= \", t)"
      ],
      "execution_count": 25,
      "outputs": [
        {
          "output_type": "stream",
          "name": "stdout",
          "text": [
            "Nhập số đầu tiên: 1\n",
            "Nhập số thứ 2: 2\n",
            "Nhập số thứ 3: 3\n",
            "Nhập số thứ 4: 4\n",
            "Nhập số thứ 5: 5\n",
            "tổng 5 số=  15.0\n",
            "trung bình 5 số=  3.0\n"
          ]
        }
      ]
    },
    {
      "cell_type": "code",
      "metadata": {
        "id": "h-JRXM9Jg4fU"
      },
      "source": [
        "322342\n"
      ],
      "execution_count": null,
      "outputs": []
    }
  ]
}