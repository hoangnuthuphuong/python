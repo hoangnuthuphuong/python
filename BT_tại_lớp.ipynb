{
  "nbformat": 4,
  "nbformat_minor": 0,
  "metadata": {
    "colab": {
      "name": "BT tại lớp",
      "private_outputs": true,
      "provenance": [],
      "toc_visible": true,
      "authorship_tag": "ABX9TyNim4ja1PrX17CfwUui7LkU",
      "include_colab_link": true
    },
    "kernelspec": {
      "name": "python3",
      "display_name": "Python 3"
    },
    "language_info": {
      "name": "python"
    }
  },
  "cells": [
    {
      "cell_type": "markdown",
      "metadata": {
        "id": "view-in-github",
        "colab_type": "text"
      },
      "source": [
        "<a href=\"https://colab.research.google.com/github/hoangnuthuphuong/python/blob/Phuong/BT_t%E1%BA%A1i_l%E1%BB%9Bp.ipynb\" target=\"_parent\"><img src=\"https://colab.research.google.com/assets/colab-badge.svg\" alt=\"Open In Colab\"/></a>"
      ]
    },
    {
      "cell_type": "markdown",
      "metadata": {
        "id": "HtNupmQeXcUq"
      },
      "source": [
        "# Bài 1\n"
      ]
    },
    {
      "cell_type": "code",
      "metadata": {
        "id": "NR72_3XRW7JN"
      },
      "source": [
        "b=float(input('nhap loanAmount= '))\n",
        "c=float(input('nhap monthlyInterestRate= '))\n",
        "d=float(input('nhap numberOfyears= '))\n",
        "a=(b*c)/(1-(1/((1+c)**(d*12))))\n",
        "print('monthly payment=',a)"
      ],
      "execution_count": null,
      "outputs": []
    },
    {
      "cell_type": "code",
      "metadata": {
        "id": "L0-81ISeZ7qu"
      },
      "source": [
        ""
      ],
      "execution_count": null,
      "outputs": []
    },
    {
      "cell_type": "markdown",
      "metadata": {
        "id": "_ZRBBrnGb6et"
      },
      "source": [
        "# bài 2\n"
      ]
    },
    {
      "cell_type": "code",
      "metadata": {
        "id": "n5rpnDIzbv8j"
      },
      "source": [
        "x=float(input('hoanh do diem A='))\n",
        "y=float(input('tung do diem A='))\n",
        "a=float(input('hoanh do diem B='))\n",
        "b=float(input('tung do diem B='))\n",
        "d=((x-a)*(x-a)+(y-b)*(y-b))**0.5\n",
        "print(\"khoang cach giua A va B=\", d)\n"
      ],
      "execution_count": null,
      "outputs": []
    },
    {
      "cell_type": "code",
      "metadata": {
        "id": "wTFPKUZ-f4lw"
      },
      "source": [
        "2"
      ],
      "execution_count": null,
      "outputs": []
    }
  ]
}