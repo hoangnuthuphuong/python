{
  "nbformat": 4,
  "nbformat_minor": 0,
  "metadata": {
    "colab": {
      "provenance": [],
      "authorship_tag": "ABX9TyMAZCBVzq/O0Kb96v4f7ePM",
      "include_colab_link": true
    },
    "kernelspec": {
      "name": "python3",
      "display_name": "Python 3"
    },
    "language_info": {
      "name": "python"
    }
  },
  "cells": [
    {
      "cell_type": "markdown",
      "metadata": {
        "id": "view-in-github",
        "colab_type": "text"
      },
      "source": [
        "<a href=\"https://colab.research.google.com/github/hoangnuthuphuong/python/blob/Phuong/Chuong3_HoiQuyTuyenTinhDaBien/C3_BTVN2_TienXuLyDuLieu_HQTT.ipynb\" target=\"_parent\"><img src=\"https://colab.research.google.com/assets/colab-badge.svg\" alt=\"Open In Colab\"/></a>"
      ]
    },
    {
      "cell_type": "markdown",
      "source": [
        "**Phương pháp điều chỉnh giá trị dữ liệu (data scaling)**.\n",
        "Một cách tổng quát, phương pháp điều chỉnh dữ liệu (data scaling) có thể xem là:\n",
        "\n",
        "$f(X): R^{m×n} → R^{m×n}$\n",
        "\n",
        "Với hàm f(x) có nhiều định nghĩa khác nhau như:\n",
        "- **Chuẩn hóa dữ liệu (Data normalization)** là thao tác đưa các giá trị của tập dữ liệu ban đầu về khoảng [0,1]: $x_i =\\frac{x_i−min}{max − min}$ (Trong scikit-learn, hàm tương đương là **MinMaxScaler**);\n",
        "- **Chuẩn hóa dữ liệu theo phương pháp điều chỉnh hướng tâm (center scaling)** được định nghĩa là: $x_i =\\frac{x_i− x̅}{δ}$ với $\\frac{1}{m} \\sum_{i=1}^m x_i$\n",
        " và $δ = √\\frac{∑{(x_i−x̅)}^2}{m}$ (Trong scikit-learn, hàm tương đương là **StandardScaler**)"
      ],
      "metadata": {
        "id": "Rsx2DHedHL2F"
      }
    },
    {
      "cell_type": "markdown",
      "source": [
        "**Quy tắc điều chỉnh dữ liệu khi sử dụng sklearn là:**\n",
        "- Bước 1: Khởi tạo bộ điều chỉnh dữ liệu\n",
        "- Bước 2: Đưa dữ liệu vào bộ điều chỉnh thông qua hàm **fit()**\n",
        "- Bước 3: Thực hiện điều chỉnh dữ liệu bằng hàm **transform()**"
      ],
      "metadata": {
        "id": "R-6abil7uDYZ"
      }
    },
    {
      "cell_type": "markdown",
      "source": [
        "# **Xây dựng mô hình HQTT đa biến với thuật toán tối ưu là Gradient Descent có sử dụng phương pháp tiền xử lý dữ liệu do sklearn cung cấp.**"
      ],
      "metadata": {
        "id": "nSHBbGlhwHro"
      }
    },
    {
      "cell_type": "code",
      "execution_count": 77,
      "metadata": {
        "id": "y6tcGWs7FTsw"
      },
      "outputs": [],
      "source": [
        "import os\n",
        "import numpy as np\n",
        "import pandas as pd \n",
        "from matplotlib import pyplot as plt\n",
        "from sklearn.preprocessing import MinMaxScaler\n"
      ]
    },
    {
      "cell_type": "code",
      "source": [
        "from google.colab import drive\n",
        "drive.mount('/content/drive')"
      ],
      "metadata": {
        "colab": {
          "base_uri": "https://localhost:8080/"
        },
        "id": "V8aOKWAEu4K-",
        "outputId": "d7104ec8-ab33-4505-9202-423f8f065257"
      },
      "execution_count": 2,
      "outputs": [
        {
          "output_type": "stream",
          "name": "stdout",
          "text": [
            "Mounted at /content/drive\n"
          ]
        }
      ]
    },
    {
      "cell_type": "code",
      "source": [
        "# Hàm đọc dữ liệu từ tập tin \n",
        "def readData(folder, filename):\n",
        "\n",
        "    # Trích xuất tệp dữ liệu gốc\n",
        "    data = np.loadtxt(os.path.join(folder, filename), delimiter=',')\n",
        "    print('Original data shape', data.shape)\n",
        "    X = data[:,:-1]\n",
        "    print('X shape: ', X.shape)\n",
        "    y = data[:,-1]\n",
        "    print('y shape: ', y.shape)\n",
        "    m = X.shape[0]\n",
        "    print('Number of training examples m = ', m)\n",
        "    x0 = np.ones((m,1))\n",
        "    X = np.hstack([x0, X]) \n",
        "    print('Modified X shape: ', X.shape)\n",
        "    y = np.reshape(y, (m,1))\n",
        "    print('Modified y shape: ', y.shape)\n",
        "    return X, y\n",
        "\n"
      ],
      "metadata": {
        "id": "Ulzhau9Zwyx_"
      },
      "execution_count": 72,
      "outputs": []
    },
    {
      "cell_type": "code",
      "source": [
        "def featureVectorScaling(data):\n",
        "    #Khởi tạo bộ điều chỉnh dữ liệu\n",
        "    scaler = MinMaxScaler()\n",
        "    #Phải thực hiện thao tác fit(data) trước khi điều chỉnh dữ liệu\n",
        "    scaler.fit(data)\n",
        "    #Thực hiện điều chỉnh dữ liệu\n",
        "    data_scl = scaler.transform(data)\n",
        "    print(data_scl[1])\n",
        "    return data_scl\n"
      ],
      "metadata": {
        "id": "Nxjg5w8z1DPP"
      },
      "execution_count": 73,
      "outputs": []
    },
    {
      "cell_type": "code",
      "source": [
        "# Hàm scale dữ liệu\n",
        "def scaleData(X, y):\n",
        "    #Khởi tạo bộ điều chỉnh dữ liệu\n",
        "    scaler = MinMaxScaler()\n",
        "    #Phải thực hiện thao tác fit(data) trước khi điều chỉnh dữ liệu\n",
        "    scaler.fit(data)\n",
        "    #Thực hiện điều chỉnh dữ liệu\n",
        "    data_scl = scaler.transform(data)\n",
        "    print('Kích thước của tập dữ liệu: ', data.shape)\n",
        "    print('Giá trị của tập dữ liệu: ')\n",
        "    print(data)\n",
        "    print('Lấy ra tập dữ liệu X, y')\n",
        "    X_scl, y_scl = data[:,:-1], data[:, -1]\n",
        "    print('Kích thước tập X: ', X.shape)\n",
        "    print('Kích thước vector y: ', y.shape)\n",
        "    return X_scl, y_scl\n"
      ],
      "metadata": {
        "id": "vnzJ56DayDnj"
      },
      "execution_count": 74,
      "outputs": []
    },
    {
      "cell_type": "code",
      "source": [
        "# Hàm mất mát \n",
        "def computeLoss(X, y, w):\n",
        "    m = y.shape[0]\n",
        "    J = 0\n",
        "    h = np.dot(X, w)\n",
        "    J = (1/(2*m))*np.sum(np.square(h - y))\n",
        "    return J"
      ],
      "metadata": {
        "id": "zoUB9NHuw_7D"
      },
      "execution_count": 75,
      "outputs": []
    },
    {
      "cell_type": "code",
      "source": [
        "# Hàm Gradient Descent\n",
        "def gradientDescent(X, y, w, alpha, n):\n",
        "    m = y.shape[0]\n",
        "    J_history = []\n",
        "    w_optimal = w.copy()\n",
        "    print('w_optimal shape: ', w_optimal.shape)\n",
        "    for i in range(n):\n",
        "        h = np.dot(X, w_optimal)\n",
        "        error = h - y\n",
        "        w_optimal = w_optimal - (alpha/m)*np.dot(X.T, error)\n",
        "        J_history.append(computeLoss(X, y, w_optimal))\n",
        "    return w_optimal, J_history"
      ],
      "metadata": {
        "id": "J2s9bFMCxEYX"
      },
      "execution_count": 76,
      "outputs": []
    },
    {
      "cell_type": "code",
      "source": [
        "# Mô tả dữ liệu bằng plot \n",
        "def visualizeDataAndModel(X, y, w_optimal):\n",
        "    fig = plt.figure()\n",
        "    plt.plot(X[:,1], y, 'g^')\n",
        "    plt.plot(X[:, 1], np.dot(X, w_optimal), 'r-')\n",
        "    plt.show()"
      ],
      "metadata": {
        "id": "ukiJNqi8zcHk"
      },
      "execution_count": 83,
      "outputs": []
    },
    {
      "cell_type": "code",
      "source": [
        "def main():\n",
        "    n = 1500\n",
        "    alpha = 0.01\n",
        "    X, y = readData(\"/content/drive/MyDrive/Classroom/Học máy 1 Phần cơ sở\", \"ex1data1.txt\")\n",
        "    X_scl, y_scl = scaleData(X, y)\n",
        "    print('X scl: ', X_scl[1,:])\n",
        "    print('y scl: ', y_scl[1])\n",
        "    w = np.zeros((X_scl.shape[1], 1))\n",
        "    w, J_history = gradientDescent(X_scl, y_scl, w, alpha, n)\n",
        "    print(\"Optimal weights are: \", w)\n",
        "    print(\"Loss function: \", J_history[-1])\n",
        "    visualizeDataAndModel(X, y, w)\n",
        "\n",
        "if __name__ == '__main__':\n",
        "    main()"
      ],
      "metadata": {
        "colab": {
          "base_uri": "https://localhost:8080/",
          "height": 1000
        },
        "id": "6K10fqGhzgUX",
        "outputId": "a9b6be11-f680-4e5c-d3d8-eb8ce36a1f7e"
      },
      "execution_count": 84,
      "outputs": [
        {
          "output_type": "stream",
          "name": "stdout",
          "text": [
            "Original data shape (97, 2)\n",
            "X shape:  (97, 1)\n",
            "y shape:  (97,)\n",
            "Number of training examples m =  97\n",
            "Modified X shape:  (97, 2)\n",
            "Modified y shape:  (97, 1)\n",
            "Kích thước của tập dữ liệu:  (97, 2)\n",
            "Giá trị của tập dữ liệu: \n",
            "[[6.30643743e-02 7.55662990e-01]\n",
            " [2.91567935e-02 4.40250189e-01]\n",
            " [2.03288290e-01 6.09172609e-01]\n",
            " [1.15061044e-01 5.41779579e-01]\n",
            " [4.84917997e-02 3.54260708e-01]\n",
            " [1.95387777e-01 5.42972376e-01]\n",
            " [1.42610954e-01 2.62005315e-01]\n",
            " [2.06752406e-01 5.47221715e-01]\n",
            " [8.49610796e-02 3.45888764e-01]\n",
            " [1.61270603e-03 2.42186248e-01]\n",
            " [3.98111329e-02 2.21148291e-01]\n",
            " [5.31965929e-01 6.77870261e-01]\n",
            " [4.11676690e-02 2.17528897e-01]\n",
            " [1.96872398e-01 3.69263858e-01]\n",
            " [3.57357025e-02 1.26618383e-01]\n",
            " [2.05227031e-02 2.30865859e-01]\n",
            " [7.79280512e-02 2.97658763e-01]\n",
            " [6.00834881e-03 1.20825490e-01]\n",
            " [8.16658031e-02 2.36043343e-01]\n",
            " [1.18996745e-01 3.00808493e-01]\n",
            " [6.76637886e-02 2.16913861e-01]\n",
            " [8.87459901e-01 9.11285723e-01]\n",
            " [2.69677051e-02 2.58825766e-01]\n",
            " [7.56399881e-02 2.93286417e-01]\n",
            " [3.13225936e-02 2.14822739e-01]\n",
            " [8.10317825e-01 9.43752167e-01]\n",
            " [4.54183429e-01 6.03171349e-01]\n",
            " [3.45252997e-01 3.62587922e-01]\n",
            " [4.74444140e-01 6.47565762e-01]\n",
            " [1.00000000e+00 1.00000000e+00]\n",
            " [1.31287079e-02 5.44474554e-02]\n",
            " [9.09694284e-02 3.23445543e-01]\n",
            " [2.45765919e-01 5.52216552e-01]\n",
            " [5.03548535e-02 1.68862780e-01]\n",
            " [1.85385507e-01 3.43797642e-01]\n",
            " [1.69217692e-01 2.69982145e-01]\n",
            " [1.78678513e-01 2.53361265e-01]\n",
            " [3.37329196e-02 2.26389143e-01]\n",
            " [4.54649193e-01 4.77033067e-01]\n",
            " [7.72294060e-02 3.04837910e-01]\n",
            " [2.21237650e-02 1.20668935e-01]\n",
            " [1.08033838e-01 2.45723636e-01]\n",
            " [3.88976543e-01 3.00663121e-01]\n",
            " [4.34790203e-02 1.90895977e-01]\n",
            " [1.62889131e-01 3.50850054e-01]\n",
            " [1.20295061e-01 1.38923575e-01]\n",
            " [2.52094480e-03 2.91281027e-01]\n",
            " [4.50917263e-02 1.68657768e-01]\n",
            " [3.88510780e-01 3.98282372e-01]\n",
            " [2.99660575e-02 1.37864968e-01]\n",
            " [1.46325417e-01 3.51543367e-01]\n",
            " [1.63482979e-02 1.68493758e-01]\n",
            " [1.39554381e-01 2.59776276e-01]\n",
            " [1.49987483e-01 2.86226549e-01]\n",
            " [7.60300650e-02 1.52976215e-01]\n",
            " [7.75496184e-02 4.69514718e-02]\n",
            " [7.26183476e-02 1.92200599e-01]\n",
            " [3.56774821e-02 2.71543964e-01]\n",
            " [2.49375586e-01 2.47620929e-01]\n",
            " [2.57724396e-01 3.01732910e-01]\n",
            " [2.21150319e-01 2.92611741e-01]\n",
            " [8.87279417e-03 7.22354134e-02]\n",
            " [9.46204319e-01 7.68224633e-01]\n",
            " [5.75281932e-01 5.49234560e-01]\n",
            " [8.11132911e-01 7.35609091e-01]\n",
            " [1.27578437e-01 2.82018213e-01]\n",
            " [1.90276023e-01 3.14037357e-01]\n",
            " [3.03276064e-01 3.89750146e-01]\n",
            " [2.75091552e-02 1.37842603e-01]\n",
            " [8.91593552e-01 8.82397671e-01]\n",
            " [2.97454020e-01 3.48915487e-01]\n",
            " [1.34349474e-01 2.49987886e-01]\n",
            " [5.70152712e-02 1.47575081e-01]\n",
            " [1.28026735e-01 2.24462030e-01]\n",
            " [0.00000000e+00 0.00000000e+00]\n",
            " [8.85532804e-02 1.10985288e-01]\n",
            " [1.46232265e-01 2.44717214e-01]\n",
            " [5.58916168e-04 3.12441991e-01]\n",
            " [3.05488440e-01 3.51625372e-01]\n",
            " [4.70421108e-03 1.76619688e-01]\n",
            " [4.08882109e-02 1.17797277e-01]\n",
            " [9.40260012e-03 1.07534750e-01]\n",
            " [7.73633130e-02 1.25217965e-01]\n",
            " [2.76069655e-01 3.81106096e-01]\n",
            " [8.66902265e-02 2.99105030e-01]\n",
            " [2.03206782e-01 2.58024355e-01]\n",
            " [2.41806929e-01 3.53321381e-01]\n",
            " [5.67707454e-02 1.34474815e-01]\n",
            " [2.87317843e-02 1.05588627e-01]\n",
            " [1.89216411e-03 2.05090261e-01]\n",
            " [3.96364716e-02 1.68698770e-01]\n",
            " [1.51937867e-01 2.60052110e-01]\n",
            " [4.91264024e-02 3.68410263e-01]\n",
            " [1.62143909e-02 1.73984352e-01]\n",
            " [1.90177048e-01 1.05310556e-01]\n",
            " [4.87136195e-01 4.37450844e-01]\n",
            " [2.38703780e-02 1.22923322e-01]]\n",
            "Lấy ra tập dữ liệu X, y\n",
            "Kích thước tập X:  (97, 2)\n",
            "Kích thước vector y:  (97, 1)\n",
            "X scl:  [0.02915679]\n",
            "y scl:  0.44025018917014874\n",
            "w_optimal shape:  (1, 1)\n",
            "Optimal weights are:  [[1.17911909 0.68695624 0.95053888 0.84538035 0.55278024 0.84724157\n",
            "  0.40882705 0.85387214 0.53971685 0.37790183 0.34507469 1.05773312\n",
            "  0.33942707 0.5761908  0.1975724  0.36023776 0.46445987 0.18853331\n",
            "  0.36831659 0.46937463 0.33846738 1.42194922 0.40386575 0.45763736\n",
            "  0.33520445 1.47260911 0.94117466 0.56577383 1.01044667 1.56037693\n",
            "  0.08495855 0.50469696 0.86166597 0.26348959 0.53645391 0.42127391\n",
            "  0.39533907 0.35325239 0.74435139 0.47566204 0.18828902 0.38342149\n",
            "  0.4691478  0.29786968 0.54745833 0.21677314 0.45450819 0.26316969\n",
            "  0.62147062 0.21512132 0.54854016 0.26291377 0.40534891 0.4466213\n",
            "  0.23870056 0.07326199 0.29990538 0.42371094 0.38638198 0.47081707\n",
            "  0.45658461 0.11271447 1.19871999 0.85701293 1.14782745 0.44005471\n",
            "  0.49001665 0.60815714 0.21508642 1.37687297 0.54443967 0.39007533\n",
            "  0.23027275 0.35024537 0.         0.17317888 0.38185109 0.48752727\n",
            "  0.54866812 0.27559329 0.18380815 0.16779474 0.19538722 0.59466916\n",
            "  0.46671659 0.40261525 0.55131453 0.2098314  0.16475806 0.32001811\n",
            "  0.26323367 0.40577931 0.57485887 0.27148117 0.16432416 0.6825882\n",
            "  0.19180672]]\n",
            "Loss function:  4.385726150246424\n"
          ]
        },
        {
          "output_type": "error",
          "ename": "ValueError",
          "evalue": "ignored",
          "traceback": [
            "\u001b[0;31m---------------------------------------------------------------------------\u001b[0m",
            "\u001b[0;31mValueError\u001b[0m                                Traceback (most recent call last)",
            "\u001b[0;32m<ipython-input-84-865e6b6606e3>\u001b[0m in \u001b[0;36m<module>\u001b[0;34m\u001b[0m\n\u001b[1;32m     13\u001b[0m \u001b[0;34m\u001b[0m\u001b[0m\n\u001b[1;32m     14\u001b[0m \u001b[0;32mif\u001b[0m \u001b[0m__name__\u001b[0m \u001b[0;34m==\u001b[0m \u001b[0;34m'__main__'\u001b[0m\u001b[0;34m:\u001b[0m\u001b[0;34m\u001b[0m\u001b[0;34m\u001b[0m\u001b[0m\n\u001b[0;32m---> 15\u001b[0;31m     \u001b[0mmain\u001b[0m\u001b[0;34m(\u001b[0m\u001b[0;34m)\u001b[0m\u001b[0;34m\u001b[0m\u001b[0;34m\u001b[0m\u001b[0m\n\u001b[0m",
            "\u001b[0;32m<ipython-input-84-865e6b6606e3>\u001b[0m in \u001b[0;36mmain\u001b[0;34m()\u001b[0m\n\u001b[1;32m     10\u001b[0m     \u001b[0mprint\u001b[0m\u001b[0;34m(\u001b[0m\u001b[0;34m\"Optimal weights are: \"\u001b[0m\u001b[0;34m,\u001b[0m \u001b[0mw\u001b[0m\u001b[0;34m)\u001b[0m\u001b[0;34m\u001b[0m\u001b[0;34m\u001b[0m\u001b[0m\n\u001b[1;32m     11\u001b[0m     \u001b[0mprint\u001b[0m\u001b[0;34m(\u001b[0m\u001b[0;34m\"Loss function: \"\u001b[0m\u001b[0;34m,\u001b[0m \u001b[0mJ_history\u001b[0m\u001b[0;34m[\u001b[0m\u001b[0;34m-\u001b[0m\u001b[0;36m1\u001b[0m\u001b[0;34m]\u001b[0m\u001b[0;34m)\u001b[0m\u001b[0;34m\u001b[0m\u001b[0;34m\u001b[0m\u001b[0m\n\u001b[0;32m---> 12\u001b[0;31m     \u001b[0mvisualizeDataAndModel\u001b[0m\u001b[0;34m(\u001b[0m\u001b[0mX\u001b[0m\u001b[0;34m,\u001b[0m \u001b[0my\u001b[0m\u001b[0;34m,\u001b[0m \u001b[0mw\u001b[0m\u001b[0;34m)\u001b[0m\u001b[0;34m\u001b[0m\u001b[0;34m\u001b[0m\u001b[0m\n\u001b[0m\u001b[1;32m     13\u001b[0m \u001b[0;34m\u001b[0m\u001b[0m\n\u001b[1;32m     14\u001b[0m \u001b[0;32mif\u001b[0m \u001b[0m__name__\u001b[0m \u001b[0;34m==\u001b[0m \u001b[0;34m'__main__'\u001b[0m\u001b[0;34m:\u001b[0m\u001b[0;34m\u001b[0m\u001b[0;34m\u001b[0m\u001b[0m\n",
            "\u001b[0;32m<ipython-input-83-a0551291d5ed>\u001b[0m in \u001b[0;36mvisualizeDataAndModel\u001b[0;34m(X, y, w_optimal)\u001b[0m\n\u001b[1;32m      3\u001b[0m     \u001b[0mfig\u001b[0m \u001b[0;34m=\u001b[0m \u001b[0mplt\u001b[0m\u001b[0;34m.\u001b[0m\u001b[0mfigure\u001b[0m\u001b[0;34m(\u001b[0m\u001b[0;34m)\u001b[0m\u001b[0;34m\u001b[0m\u001b[0;34m\u001b[0m\u001b[0m\n\u001b[1;32m      4\u001b[0m     \u001b[0mplt\u001b[0m\u001b[0;34m.\u001b[0m\u001b[0mplot\u001b[0m\u001b[0;34m(\u001b[0m\u001b[0mX\u001b[0m\u001b[0;34m[\u001b[0m\u001b[0;34m:\u001b[0m\u001b[0;34m,\u001b[0m\u001b[0;36m1\u001b[0m\u001b[0;34m]\u001b[0m\u001b[0;34m,\u001b[0m \u001b[0my\u001b[0m\u001b[0;34m,\u001b[0m \u001b[0;34m'g^'\u001b[0m\u001b[0;34m)\u001b[0m\u001b[0;34m\u001b[0m\u001b[0;34m\u001b[0m\u001b[0m\n\u001b[0;32m----> 5\u001b[0;31m     \u001b[0mplt\u001b[0m\u001b[0;34m.\u001b[0m\u001b[0mplot\u001b[0m\u001b[0;34m(\u001b[0m\u001b[0mX\u001b[0m\u001b[0;34m[\u001b[0m\u001b[0;34m:\u001b[0m\u001b[0;34m,\u001b[0m \u001b[0;36m1\u001b[0m\u001b[0;34m]\u001b[0m\u001b[0;34m,\u001b[0m \u001b[0mnp\u001b[0m\u001b[0;34m.\u001b[0m\u001b[0mdot\u001b[0m\u001b[0;34m(\u001b[0m\u001b[0mX\u001b[0m\u001b[0;34m,\u001b[0m \u001b[0mw_optimal\u001b[0m\u001b[0;34m)\u001b[0m\u001b[0;34m,\u001b[0m \u001b[0;34m'r-'\u001b[0m\u001b[0;34m)\u001b[0m\u001b[0;34m\u001b[0m\u001b[0;34m\u001b[0m\u001b[0m\n\u001b[0m\u001b[1;32m      6\u001b[0m     \u001b[0mplt\u001b[0m\u001b[0;34m.\u001b[0m\u001b[0mshow\u001b[0m\u001b[0;34m(\u001b[0m\u001b[0;34m)\u001b[0m\u001b[0;34m\u001b[0m\u001b[0;34m\u001b[0m\u001b[0m\n",
            "\u001b[0;32m<__array_function__ internals>\u001b[0m in \u001b[0;36mdot\u001b[0;34m(*args, **kwargs)\u001b[0m\n",
            "\u001b[0;31mValueError\u001b[0m: shapes (97,2) and (1,97) not aligned: 2 (dim 1) != 1 (dim 0)"
          ]
        },
        {
          "output_type": "display_data",
          "data": {
            "text/plain": [
              "<Figure size 432x288 with 1 Axes>"
            ],
            "image/png": "[encoded data removed]"
          },
          "metadata": {
            "needs_background": "light"
          }
        }
      ]
    }
  ]
}