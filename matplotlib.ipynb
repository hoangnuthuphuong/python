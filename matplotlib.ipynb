{
  "nbformat": 4,
  "nbformat_minor": 0,
  "metadata": {
    "colab": {
      "name": "matplotlib",
      "provenance": [],
      "collapsed_sections": [],
      "authorship_tag": "ABX9TyPQBUPpLVEZrv+u16wWDrrc",
      "include_colab_link": true
    },
    "kernelspec": {
      "name": "python3",
      "display_name": "Python 3"
    },
    "language_info": {
      "name": "python"
    }
  },
  "cells": [
    {
      "cell_type": "markdown",
      "metadata": {
        "id": "view-in-github",
        "colab_type": "text"
      },
      "source": [
        "<a href=\"https://colab.research.google.com/github/hoangnuthuphuong/python/blob/Phuong/matplotlib.ipynb\" target=\"_parent\"><img src=\"https://colab.research.google.com/assets/colab-badge.svg\" alt=\"Open In Colab\"/></a>"
      ]
    },
    {
      "cell_type": "code",
      "execution_count": null,
      "metadata": {
        "id": "qTY6wPG0V-zm"
      },
      "outputs": [],
      "source": [
        "import numpy as np\n",
        "import matplotlib.pyplot as plt"
      ]
    },
    {
      "cell_type": "markdown",
      "source": [
        "**Câu 1:** Xét hàm số y(x) = $x^3$ + $3x$ + 7 với x ∈ [−6, 5]. Hãy:\n",
        "- Xác định đạo hàm bậc nhất và bậc hai của hàm số trên;\n",
        "- Tạo ra 1 vector x có 1500 phần tử với giá trị khởi đầu là -6 và kết thúc là 5 bằng hàm **linspace()**"
      ],
      "metadata": {
        "id": "OtEKxeUNXPTR"
      }
    },
    {
      "cell_type": "markdown",
      "source": [
        "- Đạo hàm bậc nhất = $3$$x^2$ + $3$\n",
        "- Đạo hàm bậc hai = $6x$"
      ],
      "metadata": {
        "id": "-PMD6-6DXoE-"
      }
    },
    {
      "cell_type": "code",
      "source": [
        "x = np.linspace(-6,5,num=1500)"
      ],
      "metadata": {
        "id": "t0BhYLWiXP88"
      },
      "execution_count": null,
      "outputs": []
    },
    {
      "cell_type": "markdown",
      "source": [
        "Xây dựng vector y, y1 và y2 tương ứng hàm số y(x), y(x)′, y(x)′′ với giá trị các phần tử tương ứng được sinh ra từ việc sử dụng vector x ở trên làm tham số đầu vào"
      ],
      "metadata": {
        "id": "qpfrjfu_YQkS"
      }
    },
    {
      "cell_type": "code",
      "source": [
        "y = x**3+ 3*x +7\n",
        "y1 = 3*(x**2) + 3\n",
        "y2 = 6*x"
      ],
      "metadata": {
        "id": "BYSdvAO8YI-s"
      },
      "execution_count": null,
      "outputs": []
    },
    {
      "cell_type": "markdown",
      "source": [
        "- Hãy tạo đối tượng **fig** (là đối tượng của lớp Figure) và đối tượng ax (là đối tượng của Axes) từ hàm **subplot()** để phục vụ việc vẽ hình đồ thị của các hàm số trên;\n",
        "- Sử dụng đối tượng ax để vẽ đồ thị cho hàm số y(x) tương ứng với tham số đầu vào là x và y và đặt tên cho đồ thị này là y(x);\n",
        "- Sử dụng đối tượng ax để vẽ đồ thị cho hàm số y′(x) tương ứng với tham số đầu vào là x và y1 và đặt tên cho đồ thị này là y′(x);\n",
        "- Sử dụng đối tượng ax để vẽ đồ thị cho hàm số y′′(x) tương ứng với tham số đầu vào là x và y2 và đặt tên cho đồ thị này là y′′(x);\n",
        "- Thiết lập tên cho các trục tọa độ: tung độ là y và hoành độ là x;\n",
        "- Hiển thị các tên của từng đồ thị lên hình vẽ (gợi ý: hàm legend()).\n",
        "\n",
        "Kết quả xuất ra file ảnh định dạng svg.\n",
        "\n",
        "**Gợi ý:** Tài liệu tham khảo 04 – nâng cao về Numpy. Chương 4."
      ],
      "metadata": {
        "id": "fitMcvtKYaSd"
      }
    },
    {
      "cell_type": "code",
      "source": [
        "fig, ax = plt.subplots()\n",
        "ax.plot(x,y,label=\"y(x)\",color = \"black\")\n",
        "ax.plot(x,y1,label=\"y'(x)\",color = \"red\")\n",
        "ax.plot(x,y2,label=\"y''(x)\",color=\"blue\")\n",
        "plt.xlabel(\"x\")\n",
        "plt.ylabel(\"y\")\n",
        "plt.title(\"Đồ thị hàm số \")\n",
        "plt.legend()"
      ],
      "metadata": {
        "id": "dwzEV_GwYTWv",
        "colab": {
          "base_uri": "https://localhost:8080/",
          "height": 313
        },
        "outputId": "27974345-92b7-4b3e-9cf9-be0f267bb2df"
      },
      "execution_count": null,
      "outputs": [
        {
          "output_type": "execute_result",
          "data": {
            "text/plain": [
              "<matplotlib.legend.Legend at 0x7f56873cb890>"
            ]
          },
          "metadata": {},
          "execution_count": 4
        },
        {
          "output_type": "display_data",
          "data": {
            "text/plain": [
              "<Figure size 432x288 with 1 Axes>"
            ],
            "image/png": "[encoded data removed]"
          },
          "metadata": {
            "needs_background": "light"
          }
        }
      ]
    },
    {
      "cell_type": "code",
      "source": [
        ""
      ],
      "metadata": {
        "id": "EfZM5BvtYx7s"
      },
      "execution_count": null,
      "outputs": []
    }
  ]
}