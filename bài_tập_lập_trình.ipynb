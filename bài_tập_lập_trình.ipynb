{
  "nbformat": 4,
  "nbformat_minor": 0,
  "metadata": {
    "colab": {
      "name": "bài tập lập trình",
      "private_outputs": true,
      "provenance": [],
      "authorship_tag": "ABX9TyOJZu3CWf213o4LkaBoLdkD",
      "include_colab_link": true
    },
    "kernelspec": {
      "name": "python3",
      "display_name": "Python 3"
    },
    "language_info": {
      "name": "python"
    }
  },
  "cells": [
    {
      "cell_type": "markdown",
      "metadata": {
        "id": "view-in-github",
        "colab_type": "text"
      },
      "source": [
        "<a href=\"https://colab.research.google.com/github/hoangnuthuphuong/python/blob/Phuong/b%C3%A0i_t%E1%BA%ADp_l%E1%BA%ADp_tr%C3%ACnh.ipynb\" target=\"_parent\"><img src=\"https://colab.research.google.com/assets/colab-badge.svg\" alt=\"Open In Colab\"/></a>"
      ]
    },
    {
      "cell_type": "markdown",
      "metadata": {
        "id": "rUNT0SjRlq8o"
      },
      "source": [
        "# bài 1"
      ]
    },
    {
      "cell_type": "code",
      "metadata": {
        "id": "OyuU8G3ViZ0_"
      },
      "source": [
        "a = int(input('a='))\n",
        "b= int(input('b='))\n",
        "\n",
        "c=a+b\n",
        "print('a+b=',c)                       #tổng hai số\n",
        "\n",
        "d=a*b\n",
        "print('a*b=',d)                       #tích hai số\n",
        "\n",
        "e=a-b\n",
        "print('a-b=',e)                       #hiệu hai số\n",
        "\n",
        "f=a//b\n",
        "print('phan nguyen cua a/b bang',f)   #phép chia lấy phần nguyên của hai số\n",
        "\n",
        "g=a%b\n",
        "print('phan du cua a/b bang',g)       #phép chia lấy phần dư của hai số"
      ],
      "execution_count": null,
      "outputs": []
    },
    {
      "cell_type": "markdown",
      "metadata": {
        "id": "3iugbnD6lvt3"
      },
      "source": [
        "#bài 2"
      ]
    },
    {
      "cell_type": "code",
      "metadata": {
        "id": "cs1LQNjsi3V2"
      },
      "source": [
        "a = float(input('a='))\n",
        "b= float(input('b='))\n",
        "\n",
        "c=a+b\n",
        "print('a+b=',c)     #tổng hai số\n",
        "\n",
        "d=a*b\n",
        "print('a*b=',d)     #tích hai số\n",
        "\n",
        "e=a-b\n",
        "print('a-b=',e)     #hiệu hai số\n",
        "\n",
        "f=a/b\n",
        "print('a/b=',f)    #thương hai số"
      ],
      "execution_count": null,
      "outputs": []
    },
    {
      "cell_type": "markdown",
      "metadata": {
        "id": "O-syN-IQndym"
      },
      "source": [
        "# bài 3\n"
      ]
    },
    {
      "cell_type": "code",
      "metadata": {
        "id": "jz4hmvBgm_-0"
      },
      "source": [
        "import math\n",
        "a=float(input('a='))\n",
        "\n",
        "print('tri tuyet doi cua a=', end='')\n",
        "print(math.fabs(a))\n",
        "\n",
        "\n",
        "print('phần nguyên của a=',int(a))\n",
        "\n",
        "#bai 3.3 là chuyển đổi thành số thực em đã chuyển sẵn ở trên\n",
        "\n",
        "b=int(input('b='))\n",
        "print(a, 'lũy thừa', b, '= ', end='')\n",
        "print(math.pow(a, b))\n",
        "\n",
        "if a<=0:\n",
        "  print('không có căn bậc 2')\n",
        "else:\n",
        "  print('căn bậc hai của a=',end='')   \n",
        "  print(math.sqrt(a))\n",
        "\n",
        "\n"
      ],
      "execution_count": null,
      "outputs": []
    },
    {
      "cell_type": "markdown",
      "metadata": {
        "id": "Pk6NUskNu13H"
      },
      "source": [
        "# bài 4\n"
      ]
    },
    {
      "cell_type": "code",
      "metadata": {
        "id": "iPETwW0ap0y1"
      },
      "source": [
        "a=float(input('a='))\n",
        "b=float(input('b='))\n",
        "a>=b"
      ],
      "execution_count": null,
      "outputs": []
    },
    {
      "cell_type": "code",
      "metadata": {
        "id": "fVCyKAS5u4dK"
      },
      "source": [
        "a=float(input('a='))\n",
        "b=float(input('b='))\n",
        "a<=b"
      ],
      "execution_count": null,
      "outputs": []
    },
    {
      "cell_type": "code",
      "metadata": {
        "id": "avvo08pQ9iqQ"
      },
      "source": [
        "a=float(input('a='))\n",
        "b=float(input('b='))\n",
        "a>b"
      ],
      "execution_count": null,
      "outputs": []
    },
    {
      "cell_type": "code",
      "metadata": {
        "id": "VELDYHWg9uGq"
      },
      "source": [
        "a=float(input('a='))\n",
        "b=float(input('b='))\n",
        "a<b"
      ],
      "execution_count": null,
      "outputs": []
    },
    {
      "cell_type": "code",
      "metadata": {
        "id": "ynBy3aK59wgs"
      },
      "source": [
        "a=float(input('a='))\n",
        "b=float(input('b='))\n",
        "a!=b"
      ],
      "execution_count": null,
      "outputs": []
    },
    {
      "cell_type": "markdown",
      "metadata": {
        "id": "TocR5XuH-fCx"
      },
      "source": [
        "#bài 5\n"
      ]
    },
    {
      "cell_type": "code",
      "metadata": {
        "id": "6DYRLfxK-pAt"
      },
      "source": [
        " print(input('nhập chuỗi kí tự cần in hoa:').upper())\n",
        " print(input('nhập chuỗi kí tự cần in thường').lower())\n",
        " \n"
      ],
      "execution_count": null,
      "outputs": []
    },
    {
      "cell_type": "markdown",
      "metadata": {
        "id": "WJfL9a_GBHK3"
      },
      "source": [
        "#bài6"
      ]
    },
    {
      "cell_type": "code",
      "metadata": {
        "id": "51hHEwU6_eec"
      },
      "source": [
        "song=' sóng bắt đầu từ gió\\n gió bắt đầu từ đâu??\\n em cũng không biết nữa\\n từ khi nào ta yêu nhau?!!\\n hihi'\n",
        "print(song)"
      ],
      "execution_count": null,
      "outputs": []
    }
  ]
}